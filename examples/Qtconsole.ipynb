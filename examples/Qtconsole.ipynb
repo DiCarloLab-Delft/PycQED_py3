{
 "cells": [
  {
   "cell_type": "markdown",
   "metadata": {},
   "source": [
    "# Tutorial Jupyter Qtconsole"
   ]
  },
  {
   "cell_type": "markdown",
   "metadata": {},
   "source": [
    "Author: Victor Negîrneac\n",
    "Last update: 2020-03-23"
   ]
  },
  {
   "cell_type": "markdown",
   "metadata": {},
   "source": [
    "As of 2020-03-23 we have been experiencing several crush issues in iPython specially on Windows 10.\n",
    "This tutorial is inteded to introduce you to Jupyter Qtconsole, an alternative to the standard iPython interface.\n",
    "\n",
    "For more than a week we didn't face crushes using Qtconsole, plus it has some nice features. The idea is to run all experiments from this GUI console-like application.\n",
    "\n",
    "From Qtconsole github: \"The Qtconsole is a very lightweight application that largely feels like a terminal, but provides a number of enhancements only possible in a GUI, such as inline figures, proper multiline editing with syntax highlighting, graphical calltips, and more.\""
   ]
  },
  {
   "cell_type": "markdown",
   "metadata": {},
   "source": [
    "## Install\n",
    "Installing should be as simple as\n",
    "```bash\n",
    "pip install qtconsole\n",
    "```\n",
    "For more details check the project's [github]\n",
    "\n",
    "[github]: https://github.com/jupyter/qtconsole"
   ]
  },
  {
   "cell_type": "markdown",
   "metadata": {},
   "source": [
    "## Running the application"
   ]
  },
  {
   "cell_type": "markdown",
   "metadata": {},
   "source": [
    "```python\n",
    "# Launch it from the terminal:\n",
    "jupyter qtconsole\n",
    "```"
   ]
  },
  {
   "cell_type": "markdown",
   "metadata": {},
   "source": [
    "## Getting started quick tips\n",
    "* New line in same cell: `ctrl`+`enter`\n",
    "* If you select text and copy it, by default it will not include the annoying `   ...:` when copying multiple lines\n",
    "* You can change the syntax style: From menu, `View` --> `Syntax Style`\n",
    "* Remove line under the cursor: `ctrl`+`u`\n",
    "* Clear all lines on current cell: `esc`\n",
    "* You can safely paste with `ctrl`+`v` (even with multiline), **paste** and **%paste** do not work and there is no need for them\n",
    "* To execute current cell with multiples lines: `enter` (or you might need `shift`+`enter`)\n",
    "\n",
    "## Known issues\n",
    "* `q` and `f` to interrupt MC experiments does not work (yet), use `ctrl`+`c` if you need to stop the experiment, this raises a `KeyboardInterrupt`, not known if this can cause any issues (e.g. corrupted datafiles)\n",
    "* Mind that `ctrl`+`c` works as `KeyboardInterrupt`, use the mouse to copy when the experiment is running (or always and stay safe)\n"
   ]
  }
 ],
 "metadata": {
  "kernelspec": {
   "display_name": "Python 3",
   "language": "python",
   "name": "python3"
  },
  "language_info": {
   "codemirror_mode": {
    "name": "ipython",
    "version": 3
   },
   "file_extension": ".py",
   "mimetype": "text/x-python",
   "name": "python",
   "nbconvert_exporter": "python",
   "pygments_lexer": "ipython3",
   "version": "3.7.6"
  }
 },
 "nbformat": 4,
 "nbformat_minor": 4
}
