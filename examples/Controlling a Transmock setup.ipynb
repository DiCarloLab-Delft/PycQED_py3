{
 "cells": [
  {
   "cell_type": "markdown",
   "metadata": {},
   "source": [
    "# Tutorial 2. Controlling a Transmock setup\n",
    "\n",
    "This tutorial covers a \"real\" usage example using the Transmock. We will go over all the aspects relevant in controlling an experiment using the mock transmon. \n",
    "\n",
    "The steps we will cover are \n",
    "1. Initializing the setup\n",
    "2. The device and qubit objects \n",
    "3. Running basic measurements \n",
    "4. Calibrating your setup \n"
   ]
  },
  {
   "cell_type": "markdown",
   "metadata": {},
   "source": [
    "\n",
    "<br>\n",
    "<div class=\"alert alert-info\">\n",
    "<b>NOTE:</b> We recommend using PycQED from a console for actual use. \n",
    "</div>"
   ]
  },
  {
   "cell_type": "markdown",
   "metadata": {
    "toc-hr-collapsed": false
   },
   "source": [
    "# 1. Initializing the setup \n",
    "\n",
    "Experiments in `PycQED` are run by starting an iPython kernel (console or notebook) in which we instantiate different instruments that we then interact with. \n",
    "A session in one of these kernels typically lasts multiple days/weeks in the case of extended experiments. Before we can start runnning an experiment we start by running an initialization script. Such a script consists several steps. \n",
    "\n",
    "1. Importing the required modules. \n",
    "2. Setting the datadirectory\n",
    "3. Instantiating the instruments and (optionally) loading settings onto these instruments\n",
    "\n",
    "Normally the environment would be instantiated by importing from an external init script e.g.: `from my_init import *`. Here we explicitly put all the parts of the initialization script required to setup a 2 qubit mock experiment. Note that all the instruments being used are mock instruments. "
   ]
  },
  {
   "cell_type": "markdown",
   "metadata": {},
   "source": [
    "## importing the required modules"
   ]
  },
  {
   "cell_type": "code",
   "execution_count": 1,
   "metadata": {},
   "outputs": [
    {
     "name": "stdout",
     "output_type": "stream",
     "text": [
      "/Users/adriaanrol/GitHubRepos/DiCarloLab_Repositories/PycQED_py3/data\n",
      "Data directory set to: /Users/adriaanrol/GitHubRepos/DiCarloLab_Repositories/PycQED_py3/data\n"
     ]
    },
    {
     "name": "stderr",
     "output_type": "stream",
     "text": [
      "/usr/local/lib/python3.7/site-packages/sklearn/externals/joblib/__init__.py:15: DeprecationWarning: sklearn.externals.joblib is deprecated in 0.21 and will be removed in 0.23. Please import this functionality directly from joblib, which can be installed with: pip install joblib. If this warning is raised when loading pickled models, you may need to re-serialize those models with scikit-learn 0.21+.\n",
      "  warnings.warn(msg, category=DeprecationWarning)\n"
     ]
    },
    {
     "name": "stdout",
     "output_type": "stream",
     "text": [
      "Could not import msvcrt (used for detecting keystrokes)\n",
      "/Users/adriaanrol/GitHubRepos/DiCarloLab_Repositories/PycQED_py3/data\n",
      "/Users/adriaanrol/GitHubRepos/DiCarloLab_Repositories/PycQED_py3/data\n",
      "Data directory set to: /Users/adriaanrol/GitHubRepos/DiCarloLab_Repositories/PycQED_py3/data\n",
      "/Users/adriaanrol/GitHubRepos/DiCarloLab_Repositories/PycQED_py3/data\n",
      "Data directory set to: /Users/adriaanrol/GitHubRepos/DiCarloLab_Repositories/PycQED_py3/data\n",
      "/Users/adriaanrol/GitHubRepos/DiCarloLab_Repositories/PycQED_py3/data\n",
      "Data directory set to: /Users/adriaanrol/GitHubRepos/DiCarloLab_Repositories/PycQED_py3/data\n",
      "/Users/adriaanrol/GitHubRepos/DiCarloLab_Repositories/PycQED_py3/data\n",
      "Data directory set to: /Users/adriaanrol/GitHubRepos/DiCarloLab_Repositories/PycQED_py3/data\n"
     ]
    },
    {
     "name": "stderr",
     "output_type": "stream",
     "text": [
      "WARNING:root:No module named 'qisa_as'\n"
     ]
    }
   ],
   "source": [
    "###############################################################################\n",
    "# Import Statements\n",
    "###############################################################################\n",
    "\n",
    "# Generic python imports \n",
    "import os\n",
    "import warnings\n",
    "import openql\n",
    "import datetime\n",
    "import time\n",
    "import pycqed as pq\n",
    "import networkx as nx\n",
    "\n",
    "import matplotlib.pyplot as plt\n",
    "import numpy as np\n",
    "from importlib import reload\n",
    "\n",
    "\n",
    "\n",
    "# generic PycQED/QCoDeS imports \n",
    "from qcodes import station\n",
    "from pycqed.measurement import measurement_control\n",
    "\n",
    "from pycqed.analysis_v2 import measurement_analysis as ma2\n",
    "from pycqed.analysis import measurement_analysis as ma\n",
    "\n",
    "from pycqed.utilities import general as gen\n",
    "import pycqed.analysis.analysis_toolbox as a_tools\n",
    "\n",
    "# Package for dependency graph based calibrations\n",
    "from autodepgraph import AutoDepGraph_DAG\n",
    "\n",
    "\n",
    "# Annoying warning:\n",
    "os.environ['PYGSTI_BACKCOMPAT_WARNING'] = '0' # suppresses a warning in PyGSTi \n",
    "\n",
    "# Import instruments \n",
    "from pycqed.instrument_drivers.meta_instrument.qubit_objects import mock_CCL_Transmon as mct\n",
    "from pycqed.instrument_drivers.meta_instrument.qubit_objects.qubit_object import Qubit\n",
    "from pycqed.instrument_drivers.meta_instrument.qubit_objects.CCL_Transmon import CCLight_Transmon\n",
    "from pycqed.instrument_drivers.meta_instrument.LutMans.ro_lutman import UHFQC_RO_LutMan\n",
    "from pycqed.instrument_drivers.physical_instruments.QuTech_VSM_Module import Dummy_QuTechVSMModule\n",
    "from pycqed.instrument_drivers.physical_instruments.QuTech_CCL import dummy_CCL\n",
    "from pycqed.instrument_drivers.meta_instrument.qubit_objects.CC_transmon import CBox_v3_driven_transmon, QWG_driven_transmon\n",
    "from pycqed.instrument_drivers.meta_instrument.qubit_objects.Tektronix_driven_transmon import Tektronix_driven_transmon\n",
    "from pycqed.instrument_drivers.meta_instrument.qubit_objects.QuDev_transmon import QuDev_transmon\n",
    "\n",
    "\n",
    "from pycqed.instrument_drivers.physical_instruments.QuTech_Duplexer import Dummy_Duplexer\n",
    "import pycqed.instrument_drivers.physical_instruments.ZurichInstruments.UHFQuantumController as uhf\n",
    "# from pycqed.instrument_drivers.physical_instruments.QuTech_SPI_S4g_FluxCurrent \\\n",
    "#     import QuTech_SPI_S4g_FluxCurrent\n",
    "from pycqed.instrument_drivers.meta_instrument.LutMans import mw_lutman as mwl\n",
    "import pycqed.instrument_drivers.virtual_instruments.virtual_MW_source as vmw\n",
    "import pycqed.instrument_drivers.virtual_instruments.virtual_SignalHound as sh\n",
    "import pycqed.instrument_drivers.physical_instruments.ZurichInstruments.ZI_HDAWG8 as HDAWG\n",
    "import pycqed.instrument_drivers.virtual_instruments.virtual_SPI_S4g_FluxCurrent as flx\n",
    "import pycqed.instrument_drivers.virtual_instruments.virtual_VNA as VNA\n",
    "import pycqed.instrument_drivers.meta_instrument.device_dependency_graphs as DDG\n",
    "import pycqed.instrument_drivers.meta_instrument.device_object_CCL as do\n",
    "from pycqed.instrument_drivers.meta_instrument.Resonator import resonator\n",
    "\n",
    "\n",
    "\n",
    "\n",
    "\n"
   ]
  },
  {
   "cell_type": "markdown",
   "metadata": {},
   "source": [
    "## Setting the datadirectory"
   ]
  },
  {
   "cell_type": "code",
   "execution_count": 2,
   "metadata": {},
   "outputs": [],
   "source": [
    "# test_datadir = os.path.join(pq.__path__[0], 'data') \n",
    "test_datadir = os.path.join(pq.__path__[0], 'tests', 'test_output') # we use a test datadirectory for our examples\n",
    "a_tools.datadir = test_datadir\n",
    "\n",
    "\n",
    "timestamp = None # '20190719_164604'  \n",
    "# the timestamp variable is used below to load settings from previous experiments onto instruments"
   ]
  },
  {
   "cell_type": "markdown",
   "metadata": {},
   "source": [
    "## Instantiating the instruments"
   ]
  },
  {
   "cell_type": "code",
   "execution_count": 3,
   "metadata": {},
   "outputs": [],
   "source": [
    "###############################################################################\n",
    "# MC and monitor\n",
    "###############################################################################\n",
    "station = station.Station()\n",
    "# The measurement control is used to control experiments (see tutorial 1.)\n",
    "MC = measurement_control.MeasurementControl(\n",
    "    'MC', live_plot_enabled=True, verbose=True)\n",
    "MC.station = station\n",
    "station.add_component(MC)\n",
    "MC.live_plot_enabled(True)\n",
    "\n",
    "# Required to set it to the testing datadir\n",
    "MC.datadir(a_tools.datadir)\n",
    "\n",
    "\n",
    "###############################################################################\n",
    "# nested MC\n",
    "###############################################################################\n",
    "nested_MC = measurement_control.MeasurementControl(\n",
    "    'nested_MC', live_plot_enabled=True, verbose=True)\n",
    "nested_MC.station = station\n",
    "station.add_component(nested_MC)\n",
    "nested_MC.datadir(a_tools.datadir)"
   ]
  },
  {
   "cell_type": "code",
   "execution_count": 4,
   "metadata": {},
   "outputs": [
    {
     "name": "stdout",
     "output_type": "stream",
     "text": [
      "Connected to: None MW1 (serial:None, firmware:None) in 0.00s\n",
      "Connected to: None MW2 (serial:None, firmware:None) in 0.00s\n",
      "Connected to: None MW3 (serial:None, firmware:None) in 0.00s\n",
      "Initialized SignalHound in 0.00s\n",
      "Setting debug level to 0\n",
      "Connected to: ZurichInstruments UHFQA (serial:dev2109, firmware:99999) in 0.68s\n",
      "Connected to: None None (serial:None, firmware:None) in 0.00s\n",
      "Connected to:  VSM (serial:Dummy, firmware:) in 0.02s\n",
      "Setting debug level to 0\n",
      "Connected to: ZurichInstruments HDAWG8 (serial:dev8026, firmware:99999) in 0.44s\n",
      "Connected to: <Mock_CCLight_Transmon: Q1> in 0.01 s\n",
      "Connected to: <Mock_CCLight_Transmon: Q2> in 0.01 s\n",
      "Connected to: <Mock_CCLight_Transmon: fakequbit> in 0.01 s\n"
     ]
    }
   ],
   "source": [
    "###############################################################################\n",
    "# Instruments\n",
    "###############################################################################\n",
    "# Fluxcurrent\n",
    "fluxcurrent = flx.virtual_SPI_S4g_FluxCurrent(\n",
    "        'fluxcurrent',\n",
    "        channel_map={\n",
    "            'FBL_Q1': (0, 0),\n",
    "            'FBL_Q2': (0, 1),\n",
    "        })\n",
    "fluxcurrent.FBL_Q1(0)\n",
    "fluxcurrent.FBL_Q2(0)\n",
    "station.add_component(fluxcurrent)\n",
    "\n",
    "###############################################################################\n",
    "# VNA\n",
    "VNA = VNA.virtual_ZNB20('VNA')\n",
    "station.add_component(VNA)\n",
    "\n",
    "###############################################################################\n",
    "# MW sources\n",
    "MW1 = vmw.VirtualMWsource('MW1')\n",
    "MW2 = vmw.VirtualMWsource('MW2')\n",
    "MW3 = vmw.VirtualMWsource('MW3')\n",
    "\n",
    "###############################################################################\n",
    "# SignalHound\n",
    "SH = sh.virtual_SignalHound_USB_SA124B('SH')\n",
    "\n",
    "###############################################################################\n",
    "# UHFQC\n",
    "UHFQC = uhf.UHFQC(name='UHFQC', server='emulator',\n",
    "                               device='dev2109', interface='1GbE')\n",
    "\n",
    "###############################################################################\n",
    "# CCL\n",
    "CCL = dummy_CCL('CCL')\n",
    "\n",
    "###############################################################################\n",
    "# VSM\n",
    "VSM = Dummy_QuTechVSMModule('VSM')\n",
    "\n",
    "###############################################################################\n",
    "# AWG\n",
    "AWG = HDAWG.ZI_HDAWG8(name='DummyAWG8', server='emulator', num_codewords=32, device='dev8026', interface='1GbE')\n",
    "\n",
    "\n",
    "AWG8_VSM_MW_LutMan = mwl.AWG8_VSM_MW_LutMan('MW_LutMan_VSM')\n",
    "AWG8_VSM_MW_LutMan.AWG(AWG.name)\n",
    "AWG8_VSM_MW_LutMan.channel_GI(1)\n",
    "AWG8_VSM_MW_LutMan.channel_GQ(2)\n",
    "AWG8_VSM_MW_LutMan.channel_DI(3)\n",
    "AWG8_VSM_MW_LutMan.channel_DQ(4)\n",
    "AWG8_VSM_MW_LutMan.mw_modulation(100e6)\n",
    "AWG8_VSM_MW_LutMan.sampling_rate(2.4e9)\n",
    "\n",
    "###############################################################################\n",
    "# RO Lutman\n",
    "ro_lutman = UHFQC_RO_LutMan(\n",
    "    'RO_lutman', num_res=5, feedline_number=0)\n",
    "ro_lutman.AWG(UHFQC.name)\n",
    "\n",
    "###############################################################################\n",
    "# Qubit\n",
    "Q1 = mct.Mock_CCLight_Transmon('Q1')\n",
    "\n",
    "# Assign instruments\n",
    "Q1.instr_LutMan_MW(AWG8_VSM_MW_LutMan.name)\n",
    "Q1.instr_LO_ro(MW1.name)\n",
    "Q1.instr_LO_mw(MW2.name)\n",
    "Q1.instr_spec_source(MW3.name)\n",
    "\n",
    "Q1.instr_acquisition(UHFQC.name)\n",
    "Q1.instr_VSM(VSM.name)\n",
    "Q1.instr_CC(CCL.name)\n",
    "Q1.instr_LutMan_RO(ro_lutman.name)\n",
    "Q1.instr_MC(MC.name)\n",
    "Q1.instr_nested_MC(nested_MC.name)\n",
    "Q1.instr_FluxCtrl(fluxcurrent.name)\n",
    "Q1.instr_SH(SH.name)\n",
    "Q1.cfg_with_vsm(False)\n",
    "Q1.done_spectroscopy = False\n",
    "\n",
    "config_fn = os.path.join(\n",
    "    pq.__path__[0], 'tests', 'openql', 'test_cfg_CCL.json')\n",
    "Q1.cfg_openql_platform_fn(config_fn)\n",
    "# QL.dep_graph()\n",
    "station.add_component(Q1)\n",
    "# Does not set any initial parameters, it should work from scratch\n",
    "# Qubit\n",
    "Q2 = mct.Mock_CCLight_Transmon('Q2')\n",
    "Q2_parameters = {'mock_Ec': 243e6,\n",
    "                 'mock_Ej1': 8.348e9,\n",
    "                 'mock_Ej2': 8.246e9,\n",
    "                 'mock_fl_dc_I_per_phi0': {'FBL_Q1': 2, 'FBL_Q2': 20.3153e-3},\n",
    "                 # 'mock_fl_dc_V0'\n",
    "                 'mock_fl_dc_ch': 'FBL_Q2',\n",
    "                 'mock_freq_res_bare': 7.35e9,\n",
    "                 'mock_freq_test_res': 7.73e9,\n",
    "                 'mock_sweetspot_phi_over_phi0': 0,\n",
    "                 'mock_Qe': 19000,\n",
    "                 'mock_Q': 15000,\n",
    "                 'mock_slope': 0}\n",
    "\n",
    "\n",
    "for parameter, value in Q2_parameters.items():\n",
    "    Q2.parameters[parameter](value)\n",
    "# Assign instruments\n",
    "Q2.instr_LutMan_MW(AWG8_VSM_MW_LutMan.name)\n",
    "Q2.instr_LO_ro(MW1.name)\n",
    "Q2.instr_LO_mw(MW2.name)\n",
    "Q2.instr_spec_source(MW3.name)\n",
    "\n",
    "Q2.instr_acquisition(UHFQC.name)\n",
    "Q2.instr_VSM(VSM.name)\n",
    "Q2.instr_CC(CCL.name)\n",
    "Q2.instr_LutMan_RO(ro_lutman.name)\n",
    "Q2.instr_MC(MC.name)\n",
    "Q2.instr_nested_MC(nested_MC.name)\n",
    "Q2.instr_FluxCtrl(fluxcurrent.name)\n",
    "Q2.instr_SH(SH.name)\n",
    "\n",
    "\n",
    "config_fn = os.path.join(\n",
    "    pq.__path__[0], 'tests', 'openql', 'test_cfg_CCL.json')\n",
    "Q2.cfg_openql_platform_fn(config_fn)\n",
    "# QR.dep_graph()\n",
    "station.add_component(Q2)\n",
    "\n",
    "fakequbit = mct.Mock_CCLight_Transmon('fakequbit')\n",
    "\n",
    "# Assign instruments\n",
    "fakequbit.instr_LutMan_MW(AWG8_VSM_MW_LutMan.name)\n",
    "fakequbit.instr_LO_ro(MW1.name)\n",
    "fakequbit.instr_LO_mw(MW2.name)\n",
    "fakequbit.instr_spec_source(MW3.name)\n",
    "\n",
    "fakequbit.instr_acquisition(UHFQC.name)\n",
    "fakequbit.instr_VSM(VSM.name)\n",
    "fakequbit.instr_CC(CCL.name)\n",
    "fakequbit.instr_LutMan_RO(ro_lutman.name)\n",
    "fakequbit.instr_MC(MC.name)\n",
    "fakequbit.instr_nested_MC(nested_MC.name)\n",
    "fakequbit.instr_FluxCtrl(fluxcurrent.name)\n",
    "fakequbit.instr_SH(SH.name)\n",
    "fakequbit.cfg_with_vsm(False)\n",
    "\n",
    "config_fn = os.path.join(\n",
    "    pq.__path__[0], 'tests', 'openql', 'test_cfg_CCL.json')\n",
    "fakequbit.cfg_openql_platform_fn(config_fn)\n",
    "# fakequbit.dep_graph()\n",
    "station.add_component(fakequbit)\n",
    "##############################################################################\n",
    "# Device\n",
    "Mock_Octobox = do.DeviceCCL(name='Mock_Octobox')\n",
    "Mock_Octobox.qubits(['Q1', 'Q2', 'fakequbit'])\n",
    "\n",
    "Q1.instr_device(Mock_Octobox.name)\n",
    "Q2.instr_device(Mock_Octobox.name)\n",
    "fakequbit.instr_device(Mock_Octobox.name)\n",
    "resQ1 = resonator('2', freq=7.5e9)\n",
    "resQ2 = resonator('1', freq=7.35e9)\n",
    "rest1 = resonator('t1', freq=7.73e9, type='test_resonator')\n",
    "rest2 = resonator('t2', freq=7.8e9, type='test_resonator')\n",
    "\n",
    "# Mock_Octobox.expected_resonators = [resQR, resQL, rest1, rest2]\n",
    "###############################################################################\n",
    "# DepGraph\n",
    "Qubits = [Q1, Q2, fakequbit]\n",
    "# some_file.py\n",
    "#dag = DDG.octobox_dep_graph(name='Octobox', device=Mock_Octobox)\n",
    "# dag.create_dep_graph(Qubits)\n",
    "# dag.set_all_node_states('needs calibration')\n",
    "# dag.set_node_state('QL Drive Mixer Calibrations', 'good')\n",
    "# dag.set_node_state('QR Drive Mixer Calibrations', 'good')\n",
    "# dag.set_node_state('QL Readout Mixer Calibrations', 'good')\n",
    "# dag.set_node_state('QR Readout Mixer Calibrations', 'good')\n",
    "# ###############################################################################\n",
    "# # Hacky stuff to make life easier\n",
    "\n",
    "# # Room temp:\n",
    "Q1.freq_qubit(5.85e9)\n",
    "Q2.freq_qubit(5.48e9)\n",
    "\n",
    "for Q in Qubits:\n",
    "    # Q.ro_acq_averages(32768*4)\n",
    "    Q.ro_freq(7.5e9)"
   ]
  },
  {
   "cell_type": "code",
   "execution_count": 5,
   "metadata": {},
   "outputs": [],
   "source": [
    "from pycqed.instrument_drivers.virtual_instruments import instrument_monitor as im \n",
    "IM = im.InstrumentMonitor('IM', station)\n",
    "station.add_component(IM)\n",
    "# Link the instrument monitor to the MC so that it gets updated in the loop\n",
    "MC.instrument_monitor('IM')"
   ]
  },
  {
   "cell_type": "code",
   "execution_count": 6,
   "metadata": {},
   "outputs": [],
   "source": [
    "IM.update()"
   ]
  },
  {
   "cell_type": "markdown",
   "metadata": {},
   "source": [
    "# 2. Running an experiment on a mock transmon"
   ]
  },
  {
   "cell_type": "code",
   "execution_count": 7,
   "metadata": {},
   "outputs": [],
   "source": [
    "Q1.ro_freq(6e9)\n",
    "Q1.mw_freq_mod(100e6)\n",
    "Q1.freq_res(6e9)\n",
    "Q1.freq_res()\n",
    "Q1.mock_freq_res_bare(7.58726e9)\n",
    "Q1.mock_sweetspot_phi_over_phi0(0.0)\n",
    "freq_res = Q1.calculate_mock_resonator_frequency()\n",
    "Q1.freq_res(7.587e9)"
   ]
  },
  {
   "cell_type": "markdown",
   "metadata": {},
   "source": [
    "## 2.1. Step 1, find the resonator"
   ]
  },
  {
   "cell_type": "code",
   "execution_count": 8,
   "metadata": {},
   "outputs": [],
   "source": [
    "Q1.ro_acq_averages(1024)"
   ]
  },
  {
   "cell_type": "code",
   "execution_count": 9,
   "metadata": {},
   "outputs": [
    {
     "data": {
      "text/plain": [
       "7587000000.0"
      ]
     },
     "execution_count": 9,
     "metadata": {},
     "output_type": "execute_result"
    }
   ],
   "source": [
    "Q1.freq_res() # This is an unknown value right now "
   ]
  },
  {
   "cell_type": "code",
   "execution_count": 10,
   "metadata": {},
   "outputs": [
    {
     "name": "stdout",
     "output_type": "stream",
     "text": [
      "Starting measurement: Resonator_scan_Q1\n",
      "Sweep function: Heterodyne Frequency\n",
      "Detector function: Mock_Detector\n",
      " 100% completed \telapsed time: 7.9s \ttime left: 0.0s\n"
     ]
    },
    {
     "name": "stderr",
     "output_type": "stream",
     "text": [
      "WARNING:root:qb_name is None. Old parameter values will not be retrieved.\n"
     ]
    },
    {
     "data": {
      "text/plain": [
       "7588100000.0"
      ]
     },
     "execution_count": 10,
     "metadata": {},
     "output_type": "execute_result"
    }
   ],
   "source": [
    "Q1.find_resonator_frequency()"
   ]
  },
  {
   "cell_type": "code",
   "execution_count": 11,
   "metadata": {},
   "outputs": [
    {
     "data": {
      "text/plain": [
       "7588100000.0"
      ]
     },
     "execution_count": 11,
     "metadata": {},
     "output_type": "execute_result"
    }
   ],
   "source": [
    "Q1.freq_res() # <-- This variable got updated after our calibration "
   ]
  },
  {
   "cell_type": "markdown",
   "metadata": {},
   "source": [
    "## freq_restep 2, determine appropriate readout power"
   ]
  },
  {
   "cell_type": "code",
   "execution_count": 12,
   "metadata": {},
   "outputs": [
    {
     "name": "stdout",
     "output_type": "stream",
     "text": [
      "Starting measurement: Resonator_power_scan_Q1\n",
      "Sweep function 0: Heterodyne Frequency\n",
      "Sweep function 1: None_Sweep\n",
      "Detector function: Mock_Detector\n",
      "Request timed out: ('callObj', 101, 0, b'\\x80\\x03}q\\x00(X\\x03\\x00\\x00\\x00objq\\x01cpyqtgraph.multiprocess.remoteproxy\\nunpickleObjectProxy\\nq\\x02(MCOKHXt\\x00\\x00\\x00<bound method GraphicsLayout.clear of <pyqtgraph.graphicsItems.GraphicsLayout.GraphicsLayout object at 0x1184ca2d0>>q\\x03)tq\\x04Rq\\x05X\\x04\\x00\\x00\\x00argsq\\x06]q\\x07X\\x04\\x00\\x00\\x00kwdsq\\x08}q\\tX\\n\\x00\\x00\\x00returnTypeq\\nX\\x04\\x00\\x00\\x00autoq\\x0bu.')\n"
     ]
    },
    {
     "name": "stderr",
     "output_type": "stream",
     "text": [
      "  File \"/usr/local/Cellar/python/3.7.5/Frameworks/Python.framework/Versions/3.7/lib/python3.7/runpy.py\", line 193, in _run_module_as_main\n",
      "    \"__main__\", mod_spec)\n",
      "  File \"/usr/local/Cellar/python/3.7.5/Frameworks/Python.framework/Versions/3.7/lib/python3.7/runpy.py\", line 85, in _run_code\n",
      "    exec(code, run_globals)\n",
      "  File \"/usr/local/lib/python3.7/site-packages/ipykernel_launcher.py\", line 16, in <module>\n",
      "    app.launch_new_instance()\n",
      "  File \"/usr/local/lib/python3.7/site-packages/traitlets/config/application.py\", line 664, in launch_instance\n",
      "    app.start()\n",
      "  File \"/usr/local/lib/python3.7/site-packages/ipykernel/kernelapp.py\", line 563, in start\n",
      "    self.io_loop.start()\n",
      "  File \"/usr/local/lib/python3.7/site-packages/tornado/platform/asyncio.py\", line 148, in start\n",
      "    self.asyncio_loop.run_forever()\n",
      "  File \"/usr/local/Cellar/python/3.7.5/Frameworks/Python.framework/Versions/3.7/lib/python3.7/asyncio/base_events.py\", line 534, in run_forever\n",
      "    self._run_once()\n",
      "  File \"/usr/local/Cellar/python/3.7.5/Frameworks/Python.framework/Versions/3.7/lib/python3.7/asyncio/base_events.py\", line 1771, in _run_once\n",
      "    handle._run()\n",
      "  File \"/usr/local/Cellar/python/3.7.5/Frameworks/Python.framework/Versions/3.7/lib/python3.7/asyncio/events.py\", line 88, in _run\n",
      "    self._context.run(self._callback, *self._args)\n",
      "  File \"/usr/local/lib/python3.7/site-packages/tornado/ioloop.py\", line 690, in <lambda>\n",
      "    lambda f: self._run_callback(functools.partial(callback, future))\n",
      "  File \"/usr/local/lib/python3.7/site-packages/tornado/ioloop.py\", line 743, in _run_callback\n",
      "    ret = callback()\n",
      "  File \"/usr/local/lib/python3.7/site-packages/tornado/gen.py\", line 787, in inner\n",
      "    self.run()\n",
      "  File \"/usr/local/lib/python3.7/site-packages/tornado/gen.py\", line 748, in run\n",
      "    yielded = self.gen.send(value)\n",
      "  File \"/usr/local/lib/python3.7/site-packages/ipykernel/kernelbase.py\", line 361, in process_one\n",
      "    yield gen.maybe_future(dispatch(*args))\n",
      "  File \"/usr/local/lib/python3.7/site-packages/tornado/gen.py\", line 209, in wrapper\n",
      "    yielded = next(result)\n",
      "  File \"/usr/local/lib/python3.7/site-packages/ipykernel/kernelbase.py\", line 268, in dispatch_shell\n",
      "    yield gen.maybe_future(handler(stream, idents, msg))\n",
      "  File \"/usr/local/lib/python3.7/site-packages/tornado/gen.py\", line 209, in wrapper\n",
      "    yielded = next(result)\n",
      "  File \"/usr/local/lib/python3.7/site-packages/ipykernel/kernelbase.py\", line 541, in execute_request\n",
      "    user_expressions, allow_stdin,\n",
      "  File \"/usr/local/lib/python3.7/site-packages/tornado/gen.py\", line 209, in wrapper\n",
      "    yielded = next(result)\n",
      "  File \"/usr/local/lib/python3.7/site-packages/ipykernel/ipkernel.py\", line 300, in do_execute\n",
      "    res = shell.run_cell(code, store_history=store_history, silent=silent)\n",
      "  File \"/usr/local/lib/python3.7/site-packages/ipykernel/zmqshell.py\", line 536, in run_cell\n",
      "    return super(ZMQInteractiveShell, self).run_cell(*args, **kwargs)\n",
      "  File \"/usr/local/lib/python3.7/site-packages/IPython/core/interactiveshell.py\", line 2855, in run_cell\n",
      "    raw_cell, store_history, silent, shell_futures)\n",
      "  File \"/usr/local/lib/python3.7/site-packages/IPython/core/interactiveshell.py\", line 2881, in _run_cell\n",
      "    return runner(coro)\n",
      "  File \"/usr/local/lib/python3.7/site-packages/IPython/core/async_helpers.py\", line 68, in _pseudo_sync_runner\n",
      "    coro.send(None)\n",
      "  File \"/usr/local/lib/python3.7/site-packages/IPython/core/interactiveshell.py\", line 3058, in run_cell_async\n",
      "    interactivity=interactivity, compiler=compiler, result=result)\n",
      "  File \"/usr/local/lib/python3.7/site-packages/IPython/core/interactiveshell.py\", line 3249, in run_ast_nodes\n",
      "    if (await self.run_code(code, result,  async_=asy)):\n",
      "  File \"/usr/local/lib/python3.7/site-packages/IPython/core/interactiveshell.py\", line 3326, in run_code\n",
      "    exec(code_obj, self.user_global_ns, self.user_ns)\n",
      "  File \"<ipython-input-12-12bb6c004a01>\", line 2, in <module>\n",
      "    powers=np.linspace(-40, 0, 11))\n",
      "  File \"/Users/adriaanrol/GitHubRepos/DiCarloLab_Repositories/PycQED_py3/pycqed/instrument_drivers/meta_instrument/qubit_objects/mock_CCL_Transmon.py\", line 415, in measure_resonator_power\n",
      "    MC.run('Resonator_power_scan'+self.msmt_suffix + label, mode='2D')\n",
      "  File \"/Users/adriaanrol/GitHubRepos/DiCarloLab_Repositories/PycQED_py3/pycqed/measurement/measurement_control.py\", line 301, in run\n",
      "    self.measure_2D()\n",
      "  File \"/Users/adriaanrol/GitHubRepos/DiCarloLab_Repositories/PycQED_py3/pycqed/measurement/measurement_control.py\", line 865, in measure_2D\n",
      "    self.tile_sweep_pts_for_2D()\n",
      "  File \"/Users/adriaanrol/GitHubRepos/DiCarloLab_Repositories/PycQED_py3/pycqed/measurement/measurement_control.py\", line 852, in tile_sweep_pts_for_2D\n",
      "    self.initialize_plot_monitor_2D()\n",
      "  File \"/Users/adriaanrol/GitHubRepos/DiCarloLab_Repositories/PycQED_py3/pycqed/measurement/measurement_control.py\", line 1072, in initialize_plot_monitor_2D\n",
      "    self.secondary_QtPlot.clear()\n",
      "  File \"<string>\", line 122, in clear\n",
      "  File \"/usr/local/lib/python3.7/site-packages/pyqtgraph/multiprocess/remoteproxy.py\", line 918, in __call__\n",
      "    return self._handler.callObj(obj=self, args=args, kwds=kwds, **opts)\n",
      "  File \"/usr/local/lib/python3.7/site-packages/pyqtgraph/multiprocess/remoteproxy.py\", line 567, in callObj\n",
      "    return self.send(request='callObj', opts=dict(obj=obj, args=args, kwds=kwds), byteData=byteMsgs, **opts)\n",
      "  File \"/usr/local/lib/python3.7/site-packages/pyqtgraph/multiprocess/remoteproxy.py\", line 470, in send\n",
      "    return req.result()\n",
      "  File \"/usr/local/lib/python3.7/site-packages/pyqtgraph/multiprocess/remoteproxy.py\", line 643, in result\n",
      "    traceback.print_stack()\n"
     ]
    },
    {
     "name": "stdout",
     "output_type": "stream",
     "text": [
      " 100% completed \telapsed time: 14.8s \ttime left: 0.0sss\n"
     ]
    },
    {
     "data": {
      "text/plain": [
       "<pycqed.analysis.measurement_analysis.Resonator_Powerscan_Analysis at 0x1340bd050>"
      ]
     },
     "execution_count": 12,
     "metadata": {},
     "output_type": "execute_result"
    }
   ],
   "source": [
    "Q1.measure_resonator_power(freqs=np.arange(7.582e9, 7.592e9, .1e6), \n",
    "                          powers=np.linspace(-40, 0, 11))"
   ]
  },
  {
   "cell_type": "markdown",
   "metadata": {},
   "source": [
    "## 2.3. Step 3, Find the qubit "
   ]
  },
  {
   "cell_type": "code",
   "execution_count": 13,
   "metadata": {},
   "outputs": [],
   "source": [
    "Q1.ro_pulse_amp_CW()\n",
    "Q1.ro_pulse_amp_CW(.05) # If you change this to a value that is too large, the signal will disappear. "
   ]
  },
  {
   "cell_type": "code",
   "execution_count": 17,
   "metadata": {},
   "outputs": [],
   "source": [
    "Q1.ro_pulse_amp_CW(.05)"
   ]
  },
  {
   "cell_type": "code",
   "execution_count": 18,
   "metadata": {},
   "outputs": [
    {
     "name": "stdout",
     "output_type": "stream",
     "text": [
      "Starting measurement: mock_spectroscopy__Q1\n",
      "Sweep function: Homodyne Frequency\n",
      "Detector function: Mock_Detector\n",
      " 100% completed \telapsed time: 32.3s \ttime left: 0.0ss\n"
     ]
    },
    {
     "name": "stderr",
     "output_type": "stream",
     "text": [
      "WARNING:root:qb_name is None. Old parameter values will not be retrieved.\n"
     ]
    },
    {
     "data": {
      "text/plain": [
       "True"
      ]
     },
     "execution_count": 18,
     "metadata": {},
     "output_type": "execute_result"
    }
   ],
   "source": [
    "Q1.find_frequency()"
   ]
  },
  {
   "cell_type": "markdown",
   "metadata": {},
   "source": [
    "## 2.4. Measure a Rabi and determine pi-pulse amplitude"
   ]
  },
  {
   "cell_type": "code",
   "execution_count": 17,
   "metadata": {},
   "outputs": [
    {
     "data": {
      "text/plain": [
       "0.5"
      ]
     },
     "execution_count": 17,
     "metadata": {},
     "output_type": "execute_result"
    }
   ],
   "source": [
    "Q1.mw_channel_amp() # default value"
   ]
  },
  {
   "cell_type": "code",
   "execution_count": 23,
   "metadata": {},
   "outputs": [
    {
     "name": "stdout",
     "output_type": "stream",
     "text": [
      "Starting measurement: mock_rabi_Q1\n",
      "Sweep function: Channel Amplitude\n",
      "Detector function: Mock_Detector\n",
      " 100% completed \telapsed time: 2.5s \ttime left: 0.0s\n"
     ]
    },
    {
     "name": "stderr",
     "output_type": "stream",
     "text": [
      "WARNING:root:Fit did not converge, varying phase.\n",
      "WARNING:root:qb_name is None. Default value qb_name=\"qb\" is used. Old parameter values will not be retrieved.\n",
      "WARNING:root:Fit did not converge, varying phase.\n",
      "WARNING:root:qb_name is None. Default value qb_name=\"qb\" is used. Old parameter values will not be retrieved.\n"
     ]
    },
    {
     "data": {
      "text/plain": [
       "True"
      ]
     },
     "execution_count": 23,
     "metadata": {},
     "output_type": "execute_result"
    }
   ],
   "source": [
    "Q1.calibrate_mw_pulse_amplitude_coarse()"
   ]
  },
  {
   "cell_type": "markdown",
   "metadata": {},
   "source": [
    "The microwave channel amplitude automatically gets updated after calling a calibrate function:"
   ]
  },
  {
   "cell_type": "code",
   "execution_count": 22,
   "metadata": {},
   "outputs": [],
   "source": [
    "Q1.mock_mw_amp180(.63)"
   ]
  },
  {
   "cell_type": "code",
   "execution_count": 24,
   "metadata": {},
   "outputs": [
    {
     "data": {
      "text/plain": [
       "0.6216540473547181"
      ]
     },
     "execution_count": 24,
     "metadata": {},
     "output_type": "execute_result"
    }
   ],
   "source": [
    "Q1.mw_channel_amp()"
   ]
  },
  {
   "cell_type": "markdown",
   "metadata": {},
   "source": [
    "## 2.5. Determine qubit coherence"
   ]
  },
  {
   "cell_type": "markdown",
   "metadata": {},
   "source": [
    "###  $T_1$"
   ]
  },
  {
   "cell_type": "code",
   "execution_count": 26,
   "metadata": {},
   "outputs": [],
   "source": [
    "Q1.T1(40e-6) # This is a guess, from here we can make use of the auto range in measure_T1"
   ]
  },
  {
   "cell_type": "code",
   "execution_count": 31,
   "metadata": {},
   "outputs": [],
   "source": [
    "Q1.ro_soft_avg(10)"
   ]
  },
  {
   "cell_type": "code",
   "execution_count": 32,
   "metadata": {},
   "outputs": [
    {
     "name": "stdout",
     "output_type": "stream",
     "text": [
      "Starting measurement: mock_T1_Q1\n",
      "Sweep function: None_Sweep\n",
      "Detector function: Mock_Detector\n",
      " 100% completed \telapsed time: 17.4s \ttime left: 0.0ss\n"
     ]
    },
    {
     "name": "stderr",
     "output_type": "stream",
     "text": [
      "WARNING:root:qb_name is None. Old parameter values will not be retrieved.\n"
     ]
    },
    {
     "data": {
      "text/plain": [
       "2.506775693303182e-05"
      ]
     },
     "execution_count": 32,
     "metadata": {},
     "output_type": "execute_result"
    }
   ],
   "source": [
    "Q1.measure_T1()"
   ]
  },
  {
   "cell_type": "code",
   "execution_count": 33,
   "metadata": {},
   "outputs": [
    {
     "data": {
      "text/plain": [
       "2.506775693303182e-05"
      ]
     },
     "execution_count": 33,
     "metadata": {},
     "output_type": "execute_result"
    }
   ],
   "source": [
    "Q1.T1()"
   ]
  },
  {
   "cell_type": "markdown",
   "metadata": {},
   "source": [
    "###  $T_2-Ramsey$"
   ]
  },
  {
   "cell_type": "code",
   "execution_count": 34,
   "metadata": {},
   "outputs": [
    {
     "name": "stdout",
     "output_type": "stream",
     "text": [
      "Starting measurement: mock_Ramsey_Q1\n",
      "Sweep function: T2_star\n",
      "Detector function: Mock_Detector\n",
      " 100% completed \telapsed time: 15.9s \ttime left: 0.0ss\n",
      "Measured detuning:-7.92e+04\n",
      "Setting freq to: 5.853075728e+09, \n",
      "\n",
      "Starting measurement: mock_Ramsey_Q1\n",
      "Sweep function: T2_star\n",
      "Detector function: Mock_Detector\n",
      " 100% completed \telapsed time: 2.5s \ttime left: 0.0s\n",
      "Measured detuning:4.60e+03\n",
      "Setting freq to: 5.853071126e+09, \n",
      "\n",
      "Starting measurement: mock_Ramsey_Q1\n",
      "Sweep function: T2_star\n",
      "Detector function: Mock_Detector\n",
      " 100% completed \telapsed time: 2.6s \ttime left: 0.0s\n",
      "Measured detuning:-2.54e+03\n",
      "Setting freq to: 5.853073665e+09, \n",
      "\n",
      "Starting measurement: mock_Ramsey_Q1\n",
      "Sweep function: T2_star\n",
      "Detector function: Mock_Detector\n",
      " 100% completed \telapsed time: 2.7s \ttime left: 0.0s\n",
      "Measured detuning:-1.40e+03\n",
      "Setting freq to: 5.853075068e+09, \n",
      "\n",
      "Starting measurement: mock_Ramsey_Q1\n",
      "Sweep function: T2_star\n",
      "Detector function: Mock_Detector\n",
      " 100% completed \telapsed time: 2.6s \ttime left: 0.0s\n",
      "Measured detuning:1.46e+03\n",
      "Setting freq to: 5.853073610e+09, \n",
      "\n",
      "Breaking of measurement because of T2*\n",
      "Converged to: 5.853073610e+09\n"
     ]
    },
    {
     "data": {
      "text/plain": [
       "5853073610.43251"
      ]
     },
     "execution_count": 34,
     "metadata": {},
     "output_type": "execute_result"
    }
   ],
   "source": [
    "Q1.find_frequency(method='ramsey')"
   ]
  },
  {
   "cell_type": "markdown",
   "metadata": {},
   "source": [
    "### $T_2-echo$"
   ]
  },
  {
   "cell_type": "code",
   "execution_count": 35,
   "metadata": {},
   "outputs": [
    {
     "name": "stdout",
     "output_type": "stream",
     "text": [
      "Starting measurement: mock_echo_Q1\n",
      "Sweep function: None_Sweep\n",
      "Detector function: Mock_Detector\n"
     ]
    },
    {
     "name": "stderr",
     "output_type": "stream",
     "text": [
      "WARNING:root:Artificial detuning is unknown. Defaults to 0 MHz. New qubit frequency might be incorrect.\n"
     ]
    },
    {
     "name": "stdout",
     "output_type": "stream",
     "text": [
      " 100% completed \telapsed time: 2.7s \ttime left: 0.0s\n"
     ]
    },
    {
     "name": "stderr",
     "output_type": "stream",
     "text": [
      "WARNING:root:qb_name is unknown. Setting previously measured value of the qubit frequency to 0. New qubit frequency might be incorrect.\n",
      "WARNING:root:Fit did not converge, varying phase\n"
     ]
    },
    {
     "data": {
      "text/plain": [
       "4.5655793612408045e-05"
      ]
     },
     "execution_count": 35,
     "metadata": {},
     "output_type": "execute_result"
    }
   ],
   "source": [
    "Q1.T2_echo(30e-6) # This guess is used in the auto range function \n",
    "Q1.measure_echo()"
   ]
  },
  {
   "cell_type": "code",
   "execution_count": null,
   "metadata": {},
   "outputs": [],
   "source": []
  }
 ],
 "metadata": {
  "kernelspec": {
   "display_name": "Python 3",
   "language": "python",
   "name": "python3"
  },
  "language_info": {
   "codemirror_mode": {
    "name": "ipython",
    "version": 3
   },
   "file_extension": ".py",
   "mimetype": "text/x-python",
   "name": "python",
   "nbconvert_exporter": "python",
   "pygments_lexer": "ipython3",
   "version": "3.7.5"
  }
 },
 "nbformat": 4,
 "nbformat_minor": 4
}
