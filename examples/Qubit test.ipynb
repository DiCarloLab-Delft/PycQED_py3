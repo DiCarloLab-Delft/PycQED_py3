{
 "cells": [
  {
   "cell_type": "markdown",
   "metadata": {},
   "source": [
    "## Initialitation"
   ]
  },
  {
   "cell_type": "code",
   "execution_count": 1,
   "metadata": {
    "collapsed": false
   },
   "outputs": [
    {
     "name": "stdout",
     "output_type": "stream",
     "text": [
      "Data directory set to: E:\\Control software\\data\n"
     ]
    },
    {
     "name": "stderr",
     "output_type": "stream",
     "text": [
      "Could not import qutip\n",
      "`units` is deprecated for the `Parameter` class, use `unit` instead. <qcodes.instrument.parameter.StandardParameter: ch1_m1_del at 201505256>\n",
      "`units` is deprecated for the `Parameter` class, use `unit` instead. <qcodes.instrument.parameter.StandardParameter: ch1_m2_del at 201506096>\n",
      "`units` is deprecated for the `Parameter` class, use `unit` instead. <qcodes.instrument.parameter.StandardParameter: ch2_m1_del at 201521696>\n",
      "`units` is deprecated for the `Parameter` class, use `unit` instead. <qcodes.instrument.parameter.StandardParameter: ch2_m2_del at 201522424>\n",
      "`units` is deprecated for the `Parameter` class, use `unit` instead. <qcodes.instrument.parameter.StandardParameter: ch3_m1_del at 201529832>\n",
      "`units` is deprecated for the `Parameter` class, use `unit` instead. <qcodes.instrument.parameter.StandardParameter: ch3_m2_del at 201530560>\n",
      "`units` is deprecated for the `Parameter` class, use `unit` instead. <qcodes.instrument.parameter.StandardParameter: ch4_m1_del at 201583024>\n"
     ]
    },
    {
     "name": "stdout",
     "output_type": "stream",
     "text": [
      "initializing SGS100A's\n",
      "Connected to: Rohde&Schwarz SGS100A (serial:1416.0505k02/103189, firmware:3.1.19.15-3.20.347.26) in 0.05s\n",
      "Connected to: Rohde&Schwarz SGS100A (serial:1416.0505k02/103188, firmware:3.1.19.15-3.20.347.26) in 0.02s\n",
      "Connected to: Rohde&Schwarz SGS100A (serial:1416.0505k02/103718, firmware:3.1.19.15-3.20.347.26) in 0.02s\n",
      "initializing AWG5014\n"
     ]
    },
    {
     "name": "stderr",
     "output_type": "stream",
     "text": [
      "`units` is deprecated for the `Parameter` class, use `unit` instead. <qcodes.instrument.parameter.StandardParameter: ch4_m2_del at 201583752>\n"
     ]
    },
    {
     "name": "stdout",
     "output_type": "stream",
     "text": [
      "Connected to: TEKTRONIX AWG5014C (serial:B010154, firmware:SCPI:99.0 FW:4.6.0.7) in 0.15s\n",
      "initializing UHFQC\n",
      "autoDetect selected the device dev2204 for the measurement.\n",
      "Uploading file to device...\n",
      "File successfully uploaded\n",
      "Initialized UHFQC dev2204 in 1.05s\n",
      "initializing heterodynes\n",
      "initializing qubit\n"
     ]
    },
    {
     "name": "stderr",
     "output_type": "stream",
     "text": [
      "e:\\control software\\qcodes\\qcodes\\plots\\pyqtgraph.py:46: UserWarning: windowTitle argument has been changed to window_title. Please update your call to QtPlot\n",
      "  warnings.warn(\"windowTitle argument has been changed to window_title. Please update your call to QtPlot\")\n"
     ]
    },
    {
     "name": "stdout",
     "output_type": "stream",
     "text": [
      "configuring parameters\n"
     ]
    },
    {
     "name": "stderr",
     "output_type": "stream",
     "text": [
      "Error getting or interpreting *IDN?: ''\n",
      "Error getting or interpreting *IDN?: ''\n"
     ]
    },
    {
     "name": "stdout",
     "output_type": "stream",
     "text": [
      "Ran initialization in 11.59s\n"
     ]
    }
   ],
   "source": [
    "from pycqed.init.QuDev_testbench_init import *"
   ]
  },
  {
   "cell_type": "markdown",
   "metadata": {},
   "source": [
    "## Find the resonator frequency"
   ]
  },
  {
   "cell_type": "code",
   "execution_count": null,
   "metadata": {
    "collapsed": false,
    "scrolled": true
   },
   "outputs": [],
   "source": [
    "heterodyne.RF_power(-40)\n",
    "qb2.measure_heterodyne_spectroscopy(freqs=np.linspace(7.19e9,7.191e9,20), close_fig=True)\n",
    "#qb2.find_resonator_frequency(freqs=np.linspace(8.10e9,8.12e9,50), close_fig=False)\n",
    "#qb2.find_resonator_frequency(close_fig=False)\n",
    "#print(\"f0 = {} Hz\".format(qb2.f_RO_resonator()))\n",
    "#plt.show()"
   ]
  },
  {
   "cell_type": "code",
   "execution_count": null,
   "metadata": {
    "collapsed": false
   },
   "outputs": [],
   "source": [
    "MA = ma.MeasurementAnalysis()\n",
    "MA.sweep_points[np.argmin(MA.measured_values[0])]"
   ]
  },
  {
   "cell_type": "code",
   "execution_count": 2,
   "metadata": {
    "collapsed": false
   },
   "outputs": [],
   "source": [
    "qb2.f_RO(7190420992.0)\n",
    "heterodyne.frequency(7190420992.0)"
   ]
  },
  {
   "cell_type": "markdown",
   "metadata": {},
   "source": [
    "## Calibrate the acquisition delay (for LO_modulated_heterodyne)"
   ]
  },
  {
   "cell_type": "code",
   "execution_count": null,
   "metadata": {
    "collapsed": false,
    "scrolled": true
   },
   "outputs": [],
   "source": [
    "heterodyne.frequency(7.1795e9)\n",
    "qubit.measure_homodyne_acqusition_delay(delays=[0,100e-9],analyze=True) # this is necessary because of a bug where the first \n",
    "                                                                         # datapoint might be garbled\n",
    "#qubit.find_homodyne_acqusition_delay(close_fig=False)\n",
    "#print(\"delay = {} ns\".format(qubit.optimal_acquisition_delay()))\n",
    "#plt.show()"
   ]
  },
  {
   "cell_type": "markdown",
   "metadata": {
    "collapsed": true
   },
   "source": [
    "## Qubit spectroscopy"
   ]
  },
  {
   "cell_type": "code",
   "execution_count": null,
   "metadata": {
    "collapsed": false,
    "scrolled": true
   },
   "outputs": [],
   "source": [
    "qb2.spec_pow(-40)\n",
    "readout_RF.power(-40)\n",
    "qb2.measure_spectroscopy(freqs=np.linspace(6.023e9, 6.0245e9, 50), pulsed=True)"
   ]
  },
  {
   "cell_type": "code",
   "execution_count": null,
   "metadata": {
    "collapsed": false
   },
   "outputs": [],
   "source": [
    "QSA = ma.Qubit_Spectroscopy_Analysis(label='qb2',show_guess=False)\n",
    "QSA.fit_results[0].values['f0']"
   ]
  },
  {
   "cell_type": "code",
   "execution_count": 3,
   "metadata": {
    "collapsed": false
   },
   "outputs": [],
   "source": [
    "qb2.f_qubit(6023614771.193965)"
   ]
  },
  {
   "cell_type": "markdown",
   "metadata": {},
   "source": [
    "## Sweep acquisition delay (for calibration only)"
   ]
  },
  {
   "cell_type": "code",
   "execution_count": null,
   "metadata": {
    "collapsed": false
   },
   "outputs": [],
   "source": [
    "qubit.prepare_for_pulsed_spec()\n",
    "\n",
    "spec_pars = qubit.get_spec_pars()\n",
    "RO_pars = qubit.get_RO_pars()\n",
    "\n",
    "AWG.clock_freq(1e9)\n",
    "heterodyne.RO_length(2.2e-6)\n",
    "heterodyne.nr_averages(1024)\n",
    "qubit.cw_source.frequency(5.98e9)\n",
    "qubit.heterodyne.frequency(7.1695e9)\n",
    "qubit.spec_pow(-50)\n",
    "qubit.readout_RF.power(-20)\n",
    "qubit.RO_acq_marker_delay(-5e-6)\n",
    "qubit.RO_amp()\n",
    "qubit.cw_source.on()\n",
    "\n",
    "sq.Pulsed_spec_seq(spec_pars, RO_pars)\n",
    "\n",
    "qubit.AWG.start()\n",
    "\n",
    "MC.set_sweep_function(UHFQC.awgs_0_userregs_2)\n",
    "MC.set_sweep_points(np.arange(0, 1400, 25))\n",
    "demod_mode = 'single' if qubit.heterodyne.single_sideband_demod() else 'double'\n",
    "MC.set_detector_function(det.Heterodyne_probe(\n",
    "    qubit.heterodyne,\n",
    "    trigger_separation=qubit.heterodyne.trigger_separation(),\n",
    "    demod_mode=demod_mode))\n",
    "MC.soft_avg(1)\n",
    "MC.run(name='pulsed-spec' + qubit.msmt_suffix)\n",
    "\n",
    "qubit.cw_source.off()"
   ]
  },
  {
   "cell_type": "markdown",
   "metadata": {},
   "source": [
    "## Rabi experiment\n",
    "Remember to set the switch on upconversion board 1 to correct position"
   ]
  },
  {
   "cell_type": "code",
   "execution_count": null,
   "metadata": {
    "collapsed": false,
    "scrolled": true
   },
   "outputs": [],
   "source": [
    "qb2.measure_rabi(amps=np.linspace(0.3, 0.45, 31))"
   ]
  },
  {
   "cell_type": "code",
   "execution_count": null,
   "metadata": {
    "collapsed": false
   },
   "outputs": [],
   "source": [
    "#RabiA = ma.Rabi_Analysis(label='qubit')\n",
    "RabiPA = ma.Rabi_parabola_analysis(label='qb2')\n",
    "(RabiPA.fit_res[0].values['x0'] + RabiPA.fit_res[1].values['x0'])/2"
   ]
  },
  {
   "cell_type": "code",
   "execution_count": 4,
   "metadata": {
    "collapsed": true
   },
   "outputs": [],
   "source": [
    "qb2.amp180(0.36664373289086)"
   ]
  },
  {
   "cell_type": "markdown",
   "metadata": {},
   "source": [
    "## Ramsey"
   ]
  },
  {
   "cell_type": "code",
   "execution_count": null,
   "metadata": {
    "collapsed": false,
    "scrolled": true
   },
   "outputs": [],
   "source": [
    "artificial_detuning = 4e6\n",
    "qb2.measure_ramsey(times=np.linspace(0,4e-6,100), artificial_detuning=artificial_detuning)"
   ]
  },
  {
   "cell_type": "code",
   "execution_count": null,
   "metadata": {
    "collapsed": false
   },
   "outputs": [],
   "source": [
    "RamA = ma.Ramsey_Analysis(auto=True)\n",
    "\n",
    "fitted_freq = RamA.fit_res.params['frequency'].value\n",
    "print('Artificial detuning: {:.2e}'.format(artificial_detuning))\n",
    "print('Fitted detuning: {:.2e}'.format(fitted_freq))\n",
    "print('Actual detuning:{:.2e}'.format(fitted_freq-artificial_detuning))\n",
    "qb2.f_qubit() - fitted_freq + artificial_detuning"
   ]
  },
  {
   "cell_type": "code",
   "execution_count": 5,
   "metadata": {
    "collapsed": true
   },
   "outputs": [],
   "source": [
    "qb2.f_qubit(6023619855.1445322)"
   ]
  },
  {
   "cell_type": "markdown",
   "metadata": {},
   "source": [
    "## Rabi 90 amplitude"
   ]
  },
  {
   "cell_type": "code",
   "execution_count": null,
   "metadata": {
    "collapsed": false
   },
   "outputs": [],
   "source": [
    "qb2.measure_rabi_amp90(scales=np.linspace(0.4, 0.6, 31))"
   ]
  },
  {
   "cell_type": "code",
   "execution_count": null,
   "metadata": {
    "collapsed": false
   },
   "outputs": [],
   "source": [
    "Rabi90PA = ma.Rabi_parabola_analysis(label='qb2')\n",
    "print(\"mean({}, {}) = {}\".format(\n",
    "    Rabi90PA.fit_res[0].values['x0'], \n",
    "    Rabi90PA.fit_res[1].values['x0'], \n",
    "    (Rabi90PA.fit_res[0].values['x0'] + Rabi90PA.fit_res[1].values['x0'])/2))"
   ]
  },
  {
   "cell_type": "code",
   "execution_count": 6,
   "metadata": {
    "collapsed": false
   },
   "outputs": [],
   "source": [
    "qb2.amp90_scale(0.5008861843621694)"
   ]
  },
  {
   "cell_type": "markdown",
   "metadata": {},
   "source": [
    "## T1 measurement"
   ]
  },
  {
   "cell_type": "code",
   "execution_count": null,
   "metadata": {
    "collapsed": false,
    "scrolled": true
   },
   "outputs": [],
   "source": [
    "qb2.measure_T1(times=np.linspace(0,40e-6,100))"
   ]
  },
  {
   "cell_type": "code",
   "execution_count": 9,
   "metadata": {
    "collapsed": false,
    "scrolled": false
   },
   "outputs": [],
   "source": [
    "T1A = ma.T1_Analysis(auto=True, close_fig=True)\n",
    "T1 = T1A.T1\n",
    "T1"
   ]
  },
  {
   "cell_type": "markdown",
   "metadata": {},
   "source": [
    "## Spin-echo experiment"
   ]
  },
  {
   "cell_type": "code",
   "execution_count": null,
   "metadata": {
    "collapsed": false,
    "scrolled": true
   },
   "outputs": [],
   "source": [
    "artificial_detuning = 4e6 #Hz\n",
    "qb2.measure_echo(times=np.linspace(0,4e-6,100), artificial_detuning=artificial_detuning)"
   ]
  },
  {
   "cell_type": "code",
   "execution_count": null,
   "metadata": {
    "collapsed": false
   },
   "outputs": [],
   "source": [
    "SEA = ma.Ramsey_Analysis(auto=True, close_fig=True, label='Echo')\n",
    "print(\"T2 = {}\".format(SEA.fit_res.params['tau'].value))"
   ]
  },
  {
   "cell_type": "markdown",
   "metadata": {},
   "source": [
    "## AllXY experiment\n",
    "Measures different pairs of I, X180, Y180, X90 and Y90 pulses."
   ]
  },
  {
   "cell_type": "code",
   "execution_count": null,
   "metadata": {
    "collapsed": false,
    "scrolled": true
   },
   "outputs": [],
   "source": [
    "qb2.measure_allxy()"
   ]
  },
  {
   "cell_type": "code",
   "execution_count": null,
   "metadata": {
    "collapsed": true
   },
   "outputs": [],
   "source": [
    "AllXYA = ma.AllXY_Analysis()"
   ]
  },
  {
   "cell_type": "markdown",
   "metadata": {},
   "source": [
    "## Randomized Benchmarking"
   ]
  },
  {
   "cell_type": "code",
   "execution_count": 7,
   "metadata": {
    "collapsed": false,
    "scrolled": true
   },
   "outputs": [
    {
     "name": "stdout",
     "output_type": "stream",
     "text": [
      "Uploading file to device...\n",
      "File successfully uploaded\n",
      "Starting measurement: RB_50seeds_qb2\n",
      "Sweep function: Randomized_Benchmarking\n",
      "Detector function: UHFQC_integrated_average\n"
     ]
    },
    {
     "name": "stderr",
     "output_type": "stream",
     "text": [
      "No sequencer config detected, using default config from station\n",
      "No sequencer config detected, using default config from station\n",
      "No sequencer config detected, using default config from station\n",
      "No sequencer config detected, using default config from station\n",
      "No sequencer config detected, using default config from station\n",
      "No sequencer config detected, using default config from station\n",
      "No sequencer config detected, using default config from station\n",
      "No sequencer config detected, using default config from station\n",
      "No sequencer config detected, using default config from station\n",
      "No sequencer config detected, using default config from station\n",
      "No sequencer config detected, using default config from station\n",
      "No sequencer config detected, using default config from station\n",
      "No sequencer config detected, using default config from station\n",
      "No sequencer config detected, using default config from station\n",
      "No sequencer config detected, using default config from station\n",
      "No sequencer config detected, using default config from station\n",
      "No sequencer config detected, using default config from station\n",
      "No sequencer config detected, using default config from station\n",
      "No sequencer config detected, using default config from station\n",
      "No sequencer config detected, using default config from station\n",
      "No sequencer config detected, using default config from station\n",
      "No sequencer config detected, using default config from station\n",
      "No sequencer config detected, using default config from station\n",
      "No sequencer config detected, using default config from station\n",
      "No sequencer config detected, using default config from station\n",
      "No sequencer config detected, using default config from station\n",
      "No sequencer config detected, using default config from station\n",
      "No sequencer config detected, using default config from station\n",
      "No sequencer config detected, using default config from station\n",
      "No sequencer config detected, using default config from station\n",
      "No sequencer config detected, using default config from station\n",
      "No sequencer config detected, using default config from station\n",
      "No sequencer config detected, using default config from station\n",
      "No sequencer config detected, using default config from station\n",
      "No sequencer config detected, using default config from station\n",
      "No sequencer config detected, using default config from station\n",
      "No sequencer config detected, using default config from station\n",
      "No sequencer config detected, using default config from station\n",
      "No sequencer config detected, using default config from station\n",
      "No sequencer config detected, using default config from station\n",
      "No sequencer config detected, using default config from station\n",
      "No sequencer config detected, using default config from station\n",
      "No sequencer config detected, using default config from station\n",
      "No sequencer config detected, using default config from station\n",
      "No sequencer config detected, using default config from station\n",
      "No sequencer config detected, using default config from station\n",
      "No sequencer config detected, using default config from station\n",
      "No sequencer config detected, using default config from station\n",
      "No sequencer config detected, using default config from station\n",
      "No sequencer config detected, using default config from station\n",
      "No sequencer config detected, using default config from station\n",
      "No sequencer config detected, using default config from station\n",
      "No sequencer config detected, using default config from station\n",
      "No sequencer config detected, using default config from station\n",
      "No sequencer config detected, using default config from station\n",
      "No sequencer config detected, using default config from station\n",
      "No sequencer config detected, using default config from station\n",
      "No sequencer config detected, using default config from station\n",
      "No sequencer config detected, using default config from station\n",
      "No sequencer config detected, using default config from station\n",
      "No sequencer config detected, using default config from station\n",
      "No sequencer config detected, using default config from station\n",
      "No sequencer config detected, using default config from station\n",
      "No sequencer config detected, using default config from station\n",
      "No sequencer config detected, using default config from station\n",
      "No sequencer config detected, using default config from station\n",
      "No sequencer config detected, using default config from station\n",
      "No sequencer config detected, using default config from station\n",
      "No sequencer config detected, using default config from station\n",
      "No sequencer config detected, using default config from station\n",
      "No sequencer config detected, using default config from station\n",
      "No sequencer config detected, using default config from station\n",
      "No sequencer config detected, using default config from station\n",
      "No sequencer config detected, using default config from station\n",
      "No sequencer config detected, using default config from station\n",
      "No sequencer config detected, using default config from station\n",
      "No sequencer config detected, using default config from station\n",
      "No sequencer config detected, using default config from station\n",
      "No sequencer config detected, using default config from station\n",
      "No sequencer config detected, using default config from station\n",
      "No sequencer config detected, using default config from station\n",
      "No sequencer config detected, using default config from station\n",
      "No sequencer config detected, using default config from station\n",
      "No sequencer config detected, using default config from station\n",
      "No sequencer config detected, using default config from station\n",
      "No sequencer config detected, using default config from station\n",
      "No sequencer config detected, using default config from station\n",
      "No sequencer config detected, using default config from station\n",
      "No sequencer config detected, using default config from station\n",
      "No sequencer config detected, using default config from station\n",
      "No sequencer config detected, using default config from station\n",
      "No sequencer config detected, using default config from station\n",
      "No sequencer config detected, using default config from station\n",
      "No sequencer config detected, using default config from station\n",
      "No sequencer config detected, using default config from station\n",
      "No sequencer config detected, using default config from station\n",
      "No sequencer config detected, using default config from station\n",
      "No sequencer config detected, using default config from station\n",
      "No sequencer config detected, using default config from station\n",
      "No sequencer config detected, using default config from station\n",
      "No sequencer config detected, using default config from station\n",
      "No sequencer config detected, using default config from station\n",
      "No sequencer config detected, using default config from station\n",
      "No sequencer config detected, using default config from station\n",
      "No sequencer config detected, using default config from station\n",
      "No sequencer config detected, using default config from station\n",
      "No sequencer config detected, using default config from station\n",
      "No sequencer config detected, using default config from station\n",
      "No sequencer config detected, using default config from station\n",
      "No sequencer config detected, using default config from station\n",
      "No sequencer config detected, using default config from station\n",
      "No sequencer config detected, using default config from station\n",
      "No sequencer config detected, using default config from station\n",
      "No sequencer config detected, using default config from station\n",
      "No sequencer config detected, using default config from station\n",
      "No sequencer config detected, using default config from station\n",
      "No sequencer config detected, using default config from station\n",
      "No sequencer config detected, using default config from station\n",
      "No sequencer config detected, using default config from station\n",
      "No sequencer config detected, using default config from station\n",
      "No sequencer config detected, using default config from station\n",
      "No sequencer config detected, using default config from station\n",
      "No sequencer config detected, using default config from station\n",
      "No sequencer config detected, using default config from station\n",
      "No sequencer config detected, using default config from station\n",
      "No sequencer config detected, using default config from station\n",
      "No sequencer config detected, using default config from station\n",
      "No sequencer config detected, using default config from station\n",
      "No sequencer config detected, using default config from station\n",
      "No sequencer config detected, using default config from station\n",
      "No sequencer config detected, using default config from station\n",
      "No sequencer config detected, using default config from station\n",
      "No sequencer config detected, using default config from station\n",
      "No sequencer config detected, using default config from station\n",
      "No sequencer config detected, using default config from station\n",
      "No sequencer config detected, using default config from station\n",
      "No sequencer config detected, using default config from station\n",
      "No sequencer config detected, using default config from station\n",
      "No sequencer config detected, using default config from station\n",
      "No sequencer config detected, using default config from station\n",
      "No sequencer config detected, using default config from station\n",
      "No sequencer config detected, using default config from station\n",
      "No sequencer config detected, using default config from station\n",
      "No sequencer config detected, using default config from station\n",
      "No sequencer config detected, using default config from station\n",
      "No sequencer config detected, using default config from station\n",
      "No sequencer config detected, using default config from station\n",
      "No sequencer config detected, using default config from station\n",
      "No sequencer config detected, using default config from station\n",
      "No sequencer config detected, using default config from station\n",
      "No sequencer config detected, using default config from station\n",
      "No sequencer config detected, using default config from station\n",
      "No sequencer config detected, using default config from station\n",
      "No sequencer config detected, using default config from station\n",
      "No sequencer config detected, using default config from station\n",
      "No sequencer config detected, using default config from station\n",
      "No sequencer config detected, using default config from station\n",
      "No sequencer config detected, using default config from station\n",
      "No sequencer config detected, using default config from station\n",
      "No sequencer config detected, using default config from station\n",
      "No sequencer config detected, using default config from station\n",
      "No sequencer config detected, using default config from station\n",
      "No sequencer config detected, using default config from station\n",
      "No sequencer config detected, using default config from station\n",
      "No sequencer config detected, using default config from station\n",
      "No sequencer config detected, using default config from station\n",
      "No sequencer config detected, using default config from station\n",
      "No sequencer config detected, using default config from station\n",
      "No sequencer config detected, using default config from station\n",
      "No sequencer config detected, using default config from station\n",
      "No sequencer config detected, using default config from station\n",
      "No sequencer config detected, using default config from station\n",
      "No sequencer config detected, using default config from station\n",
      "No sequencer config detected, using default config from station\n",
      "No sequencer config detected, using default config from station\n",
      "No sequencer config detected, using default config from station\n",
      "No sequencer config detected, using default config from station\n",
      "No sequencer config detected, using default config from station\n",
      "No sequencer config detected, using default config from station\n",
      "No sequencer config detected, using default config from station\n",
      "No sequencer config detected, using default config from station\n",
      "No sequencer config detected, using default config from station\n",
      "No sequencer config detected, using default config from station\n",
      "No sequencer config detected, using default config from station\n",
      "No sequencer config detected, using default config from station\n",
      "No sequencer config detected, using default config from station\n",
      "No sequencer config detected, using default config from station\n",
      "No sequencer config detected, using default config from station\n",
      "No sequencer config detected, using default config from station\n",
      "No sequencer config detected, using default config from station\n",
      "No sequencer config detected, using default config from station\n",
      "No sequencer config detected, using default config from station\n",
      "No sequencer config detected, using default config from station\n",
      "No sequencer config detected, using default config from station\n",
      "No sequencer config detected, using default config from station\n",
      "No sequencer config detected, using default config from station\n",
      "No sequencer config detected, using default config from station\n",
      "No sequencer config detected, using default config from station\n",
      "No sequencer config detected, using default config from station\n",
      "No sequencer config detected, using default config from station\n",
      "No sequencer config detected, using default config from station\n",
      "No sequencer config detected, using default config from station\n",
      "No sequencer config detected, using default config from station\n",
      "No sequencer config detected, using default config from station\n",
      "No sequencer config detected, using default config from station\n",
      "No sequencer config detected, using default config from station\n",
      "No sequencer config detected, using default config from station\n",
      "No sequencer config detected, using default config from station\n",
      "No sequencer config detected, using default config from station\n",
      "No sequencer config detected, using default config from station\n",
      "No sequencer config detected, using default config from station\n",
      "No sequencer config detected, using default config from station\n",
      "No sequencer config detected, using default config from station\n",
      "No sequencer config detected, using default config from station\n",
      "No sequencer config detected, using default config from station\n",
      "No sequencer config detected, using default config from station\n",
      "No sequencer config detected, using default config from station\n",
      "No sequencer config detected, using default config from station\n",
      "No sequencer config detected, using default config from station\n",
      "No sequencer config detected, using default config from station\n",
      "No sequencer config detected, using default config from station\n",
      "No sequencer config detected, using default config from station\n",
      "No sequencer config detected, using default config from station\n",
      "No sequencer config detected, using default config from station\n",
      "No sequencer config detected, using default config from station\n",
      "No sequencer config detected, using default config from station\n",
      "No sequencer config detected, using default config from station\n",
      "No sequencer config detected, using default config from station\n",
      "No sequencer config detected, using default config from station\n",
      "No sequencer config detected, using default config from station\n",
      "No sequencer config detected, using default config from station\n",
      "No sequencer config detected, using default config from station\n",
      "No sequencer config detected, using default config from station\n",
      "No sequencer config detected, using default config from station\n",
      "No sequencer config detected, using default config from station\n",
      "No sequencer config detected, using default config from station\n",
      "No sequencer config detected, using default config from station\n",
      "No sequencer config detected, using default config from station\n",
      "No sequencer config detected, using default config from station\n",
      "No sequencer config detected, using default config from station\n",
      "No sequencer config detected, using default config from station\n",
      "No sequencer config detected, using default config from station\n",
      "No sequencer config detected, using default config from station\n",
      "No sequencer config detected, using default config from station\n",
      "No sequencer config detected, using default config from station\n",
      "No sequencer config detected, using default config from station\n",
      "No sequencer config detected, using default config from station\n",
      "No sequencer config detected, using default config from station\n",
      "No sequencer config detected, using default config from station\n",
      "No sequencer config detected, using default config from station\n",
      "No sequencer config detected, using default config from station\n",
      "No sequencer config detected, using default config from station\n",
      "No sequencer config detected, using default config from station\n",
      "No sequencer config detected, using default config from station\n",
      "No sequencer config detected, using default config from station\n",
      "No sequencer config detected, using default config from station\n",
      "No sequencer config detected, using default config from station\n",
      "No sequencer config detected, using default config from station\n",
      "No sequencer config detected, using default config from station\n",
      "No sequencer config detected, using default config from station\n",
      "No sequencer config detected, using default config from station\n",
      "No sequencer config detected, using default config from station\n",
      "No sequencer config detected, using default config from station\n",
      "No sequencer config detected, using default config from station\n",
      "No sequencer config detected, using default config from station\n",
      "No sequencer config detected, using default config from station\n",
      "No sequencer config detected, using default config from station\n",
      "No sequencer config detected, using default config from station\n",
      "No sequencer config detected, using default config from station\n",
      "No sequencer config detected, using default config from station\n",
      "No sequencer config detected, using default config from station\n",
      "No sequencer config detected, using default config from station\n",
      "No sequencer config detected, using default config from station\n",
      "No sequencer config detected, using default config from station\n",
      "No sequencer config detected, using default config from station\n",
      "No sequencer config detected, using default config from station\n",
      "No sequencer config detected, using default config from station\n",
      "No sequencer config detected, using default config from station\n",
      "No sequencer config detected, using default config from station\n",
      "No sequencer config detected, using default config from station\n",
      "No sequencer config detected, using default config from station\n",
      "No sequencer config detected, using default config from station\n",
      "No sequencer config detected, using default config from station\n",
      "No sequencer config detected, using default config from station\n",
      "No sequencer config detected, using default config from station\n",
      "No sequencer config detected, using default config from station\n",
      "No sequencer config detected, using default config from station\n",
      "No sequencer config detected, using default config from station\n",
      "No sequencer config detected, using default config from station\n",
      "No sequencer config detected, using default config from station\n",
      "No sequencer config detected, using default config from station\n",
      "No sequencer config detected, using default config from station\n",
      "No sequencer config detected, using default config from station\n",
      "No sequencer config detected, using default config from station\n",
      "No sequencer config detected, using default config from station\n",
      "No sequencer config detected, using default config from station\n",
      "No sequencer config detected, using default config from station\n",
      "No sequencer config detected, using default config from station\n",
      "No sequencer config detected, using default config from station\n",
      "No sequencer config detected, using default config from station\n",
      "No sequencer config detected, using default config from station\n",
      "No sequencer config detected, using default config from station\n",
      "No sequencer config detected, using default config from station\n",
      "No sequencer config detected, using default config from station\n",
      "No sequencer config detected, using default config from station\n",
      "No sequencer config detected, using default config from station\n",
      "No sequencer config detected, using default config from station\n",
      "No sequencer config detected, using default config from station\n",
      "No sequencer config detected, using default config from station\n",
      "No sequencer config detected, using default config from station\n",
      "No sequencer config detected, using default config from station\n",
      "No sequencer config detected, using default config from station\n",
      "No sequencer config detected, using default config from station\n",
      "No sequencer config detected, using default config from station\n",
      "No sequencer config detected, using default config from station\n",
      "No sequencer config detected, using default config from station\n",
      "No sequencer config detected, using default config from station\n",
      "No sequencer config detected, using default config from station\n",
      "No sequencer config detected, using default config from station\n",
      "No sequencer config detected, using default config from station\n",
      "No sequencer config detected, using default config from station\n",
      "No sequencer config detected, using default config from station\n",
      "No sequencer config detected, using default config from station\n",
      "No sequencer config detected, using default config from station\n",
      "No sequencer config detected, using default config from station\n",
      "No sequencer config detected, using default config from station\n",
      "No sequencer config detected, using default config from station\n",
      "No sequencer config detected, using default config from station\n",
      "No sequencer config detected, using default config from station\n",
      "No sequencer config detected, using default config from station\n",
      "No sequencer config detected, using default config from station\n",
      "No sequencer config detected, using default config from station\n",
      "No sequencer config detected, using default config from station\n",
      "No sequencer config detected, using default config from station\n",
      "No sequencer config detected, using default config from station\n",
      "No sequencer config detected, using default config from station\n",
      "No sequencer config detected, using default config from station\n",
      "No sequencer config detected, using default config from station\n",
      "No sequencer config detected, using default config from station\n",
      "No sequencer config detected, using default config from station\n",
      "No sequencer config detected, using default config from station\n",
      "No sequencer config detected, using default config from station\n",
      "No sequencer config detected, using default config from station\n",
      "No sequencer config detected, using default config from station\n",
      "No sequencer config detected, using default config from station\n",
      "No sequencer config detected, using default config from station\n",
      "No sequencer config detected, using default config from station\n",
      "No sequencer config detected, using default config from station\n",
      "No sequencer config detected, using default config from station\n",
      "No sequencer config detected, using default config from station\n",
      "No sequencer config detected, using default config from station\n",
      "No sequencer config detected, using default config from station\n",
      "No sequencer config detected, using default config from station\n",
      "No sequencer config detected, using default config from station\n",
      "No sequencer config detected, using default config from station\n",
      "No sequencer config detected, using default config from station\n",
      "No sequencer config detected, using default config from station\n",
      "No sequencer config detected, using default config from station\n",
      "No sequencer config detected, using default config from station\n",
      "No sequencer config detected, using default config from station\n",
      "No sequencer config detected, using default config from station\n",
      "No sequencer config detected, using default config from station\n",
      "No sequencer config detected, using default config from station\n",
      "No sequencer config detected, using default config from station\n",
      "No sequencer config detected, using default config from station\n",
      "No sequencer config detected, using default config from station\n",
      "No sequencer config detected, using default config from station\n",
      "No sequencer config detected, using default config from station\n",
      "No sequencer config detected, using default config from station\n",
      "No sequencer config detected, using default config from station\n",
      "No sequencer config detected, using default config from station\n",
      "No sequencer config detected, using default config from station\n",
      "No sequencer config detected, using default config from station\n",
      "No sequencer config detected, using default config from station\n",
      "No sequencer config detected, using default config from station\n",
      "No sequencer config detected, using default config from station\n",
      "No sequencer config detected, using default config from station\n",
      "No sequencer config detected, using default config from station\n",
      "No sequencer config detected, using default config from station\n",
      "No sequencer config detected, using default config from station\n",
      "No sequencer config detected, using default config from station\n",
      "No sequencer config detected, using default config from station\n",
      "No sequencer config detected, using default config from station\n",
      "No sequencer config detected, using default config from station\n",
      "No sequencer config detected, using default config from station\n",
      "No sequencer config detected, using default config from station\n",
      "No sequencer config detected, using default config from station\n",
      "No sequencer config detected, using default config from station\n",
      "No sequencer config detected, using default config from station\n",
      "No sequencer config detected, using default config from station\n",
      "No sequencer config detected, using default config from station\n",
      "No sequencer config detected, using default config from station\n",
      "No sequencer config detected, using default config from station\n",
      "No sequencer config detected, using default config from station\n",
      "No sequencer config detected, using default config from station\n",
      "No sequencer config detected, using default config from station\n",
      "No sequencer config detected, using default config from station\n",
      "No sequencer config detected, using default config from station\n",
      "No sequencer config detected, using default config from station\n",
      "No sequencer config detected, using default config from station\n",
      "No sequencer config detected, using default config from station\n",
      "No sequencer config detected, using default config from station\n",
      "No sequencer config detected, using default config from station\n",
      "No sequencer config detected, using default config from station\n",
      "No sequencer config detected, using default config from station\n",
      "No sequencer config detected, using default config from station\n",
      "No sequencer config detected, using default config from station\n",
      "No sequencer config detected, using default config from station\n",
      "No sequencer config detected, using default config from station\n",
      "No sequencer config detected, using default config from station\n",
      "No sequencer config detected, using default config from station\n",
      "No sequencer config detected, using default config from station\n",
      "No sequencer config detected, using default config from station\n",
      "No sequencer config detected, using default config from station\n",
      "No sequencer config detected, using default config from station\n",
      "No sequencer config detected, using default config from station\n",
      "No sequencer config detected, using default config from station\n",
      "No sequencer config detected, using default config from station\n",
      "No sequencer config detected, using default config from station\n",
      "No sequencer config detected, using default config from station\n",
      "No sequencer config detected, using default config from station\n",
      "No sequencer config detected, using default config from station\n",
      "No sequencer config detected, using default config from station\n",
      "No sequencer config detected, using default config from station\n",
      "No sequencer config detected, using default config from station\n",
      "No sequencer config detected, using default config from station\n",
      "No sequencer config detected, using default config from station\n",
      "No sequencer config detected, using default config from station\n",
      "No sequencer config detected, using default config from station\n",
      "No sequencer config detected, using default config from station\n",
      "No sequencer config detected, using default config from station\n",
      "No sequencer config detected, using default config from station\n",
      "No sequencer config detected, using default config from station\n",
      "No sequencer config detected, using default config from station\n",
      "No sequencer config detected, using default config from station\n",
      "No sequencer config detected, using default config from station\n",
      "No sequencer config detected, using default config from station\n",
      "No sequencer config detected, using default config from station\n",
      "No sequencer config detected, using default config from station\n",
      "No sequencer config detected, using default config from station\n",
      "No sequencer config detected, using default config from station\n",
      "No sequencer config detected, using default config from station\n",
      "No sequencer config detected, using default config from station\n",
      "No sequencer config detected, using default config from station\n",
      "No sequencer config detected, using default config from station\n",
      "No sequencer config detected, using default config from station\n",
      "No sequencer config detected, using default config from station\n",
      "No sequencer config detected, using default config from station\n",
      "No sequencer config detected, using default config from station\n",
      "No sequencer config detected, using default config from station\n",
      "No sequencer config detected, using default config from station\n",
      "No sequencer config detected, using default config from station\n",
      "No sequencer config detected, using default config from station\n",
      "No sequencer config detected, using default config from station\n",
      "No sequencer config detected, using default config from station\n",
      "No sequencer config detected, using default config from station\n",
      "No sequencer config detected, using default config from station\n",
      "No sequencer config detected, using default config from station\n",
      "No sequencer config detected, using default config from station\n",
      "No sequencer config detected, using default config from station\n",
      "No sequencer config detected, using default config from station\n",
      "No sequencer config detected, using default config from station\n",
      "No sequencer config detected, using default config from station\n",
      "No sequencer config detected, using default config from station\n",
      "No sequencer config detected, using default config from station\n",
      "No sequencer config detected, using default config from station\n",
      "No sequencer config detected, using default config from station\n",
      "No sequencer config detected, using default config from station\n",
      "No sequencer config detected, using default config from station\n",
      "No sequencer config detected, using default config from station\n",
      "No sequencer config detected, using default config from station\n",
      "No sequencer config detected, using default config from station\n",
      "No sequencer config detected, using default config from station\n",
      "No sequencer config detected, using default config from station\n",
      "No sequencer config detected, using default config from station\n",
      "No sequencer config detected, using default config from station\n",
      "No sequencer config detected, using default config from station\n",
      "No sequencer config detected, using default config from station\n",
      "No sequencer config detected, using default config from station\n",
      "No sequencer config detected, using default config from station\n",
      "No sequencer config detected, using default config from station\n",
      "No sequencer config detected, using default config from station\n",
      "No sequencer config detected, using default config from station\n",
      "No sequencer config detected, using default config from station\n",
      "No sequencer config detected, using default config from station\n",
      "No sequencer config detected, using default config from station\n",
      "No sequencer config detected, using default config from station\n",
      "No sequencer config detected, using default config from station\n",
      "No sequencer config detected, using default config from station\n",
      "No sequencer config detected, using default config from station\n",
      "No sequencer config detected, using default config from station\n",
      "No sequencer config detected, using default config from station\n",
      "No sequencer config detected, using default config from station\n",
      "No sequencer config detected, using default config from station\n",
      "No sequencer config detected, using default config from station\n",
      "No sequencer config detected, using default config from station\n",
      "No sequencer config detected, using default config from station\n",
      "No sequencer config detected, using default config from station\n",
      "No sequencer config detected, using default config from station\n",
      "No sequencer config detected, using default config from station\n",
      "No sequencer config detected, using default config from station\n",
      "No sequencer config detected, using default config from station\n",
      "No sequencer config detected, using default config from station\n",
      "No sequencer config detected, using default config from station\n",
      "No sequencer config detected, using default config from station\n",
      "No sequencer config detected, using default config from station\n",
      "No sequencer config detected, using default config from station\n",
      "No sequencer config detected, using default config from station\n",
      "No sequencer config detected, using default config from station\n",
      "No sequencer config detected, using default config from station\n",
      "No sequencer config detected, using default config from station\n",
      "No sequencer config detected, using default config from station\n",
      "No sequencer config detected, using default config from station\n",
      "No sequencer config detected, using default config from station\n",
      "No sequencer config detected, using default config from station\n",
      "No sequencer config detected, using default config from station\n",
      "No sequencer config detected, using default config from station\n",
      "No sequencer config detected, using default config from station\n",
      "No sequencer config detected, using default config from station\n",
      "No sequencer config detected, using default config from station\n",
      "No sequencer config detected, using default config from station\n",
      "No sequencer config detected, using default config from station\n",
      "No sequencer config detected, using default config from station\n",
      "No sequencer config detected, using default config from station\n",
      "No sequencer config detected, using default config from station\n",
      "No sequencer config detected, using default config from station\n",
      "No sequencer config detected, using default config from station\n",
      "No sequencer config detected, using default config from station\n",
      "No sequencer config detected, using default config from station\n",
      "No sequencer config detected, using default config from station\n",
      "No sequencer config detected, using default config from station\n",
      "No sequencer config detected, using default config from station\n",
      "No sequencer config detected, using default config from station\n",
      "No sequencer config detected, using default config from station\n",
      "No sequencer config detected, using default config from station\n",
      "No sequencer config detected, using default config from station\n",
      "No sequencer config detected, using default config from station\n",
      "No sequencer config detected, using default config from station\n",
      "No sequencer config detected, using default config from station\n",
      "No sequencer config detected, using default config from station\n",
      "No sequencer config detected, using default config from station\n",
      "No sequencer config detected, using default config from station\n",
      "No sequencer config detected, using default config from station\n",
      "No sequencer config detected, using default config from station\n",
      "No sequencer config detected, using default config from station\n",
      "No sequencer config detected, using default config from station\n",
      "No sequencer config detected, using default config from station\n",
      "No sequencer config detected, using default config from station\n",
      "No sequencer config detected, using default config from station\n",
      "No sequencer config detected, using default config from station\n",
      "No sequencer config detected, using default config from station\n",
      "No sequencer config detected, using default config from station\n",
      "No sequencer config detected, using default config from station\n",
      "No sequencer config detected, using default config from station\n",
      "No sequencer config detected, using default config from station\n",
      "No sequencer config detected, using default config from station\n",
      "No sequencer config detected, using default config from station\n",
      "No sequencer config detected, using default config from station\n",
      "No sequencer config detected, using default config from station\n",
      "No sequencer config detected, using default config from station\n",
      "No sequencer config detected, using default config from station\n",
      "No sequencer config detected, using default config from station\n",
      "No sequencer config detected, using default config from station\n",
      "No sequencer config detected, using default config from station\n",
      "No sequencer config detected, using default config from station\n",
      "No sequencer config detected, using default config from station\n",
      "No sequencer config detected, using default config from station\n",
      "No sequencer config detected, using default config from station\n",
      "No sequencer config detected, using default config from station\n",
      "No sequencer config detected, using default config from station\n",
      "No sequencer config detected, using default config from station\n",
      "No sequencer config detected, using default config from station\n",
      "No sequencer config detected, using default config from station\n",
      "No sequencer config detected, using default config from station\n",
      "No sequencer config detected, using default config from station\n",
      "No sequencer config detected, using default config from station\n",
      "No sequencer config detected, using default config from station\n",
      "No sequencer config detected, using default config from station\n",
      "No sequencer config detected, using default config from station\n",
      "No sequencer config detected, using default config from station\n",
      "No sequencer config detected, using default config from station\n",
      "No sequencer config detected, using default config from station\n",
      "No sequencer config detected, using default config from station\n",
      "No sequencer config detected, using default config from station\n",
      "No sequencer config detected, using default config from station\n",
      "No sequencer config detected, using default config from station\n",
      "No sequencer config detected, using default config from station\n",
      "No sequencer config detected, using default config from station\n",
      "No sequencer config detected, using default config from station\n",
      "No sequencer config detected, using default config from station\n",
      "No sequencer config detected, using default config from station\n",
      "No sequencer config detected, using default config from station\n",
      "No sequencer config detected, using default config from station\n",
      "No sequencer config detected, using default config from station\n",
      "No sequencer config detected, using default config from station\n",
      "No sequencer config detected, using default config from station\n",
      "No sequencer config detected, using default config from station\n",
      "No sequencer config detected, using default config from station\n",
      "No sequencer config detected, using default config from station\n",
      "No sequencer config detected, using default config from station\n"
     ]
    },
    {
     "name": "stdout",
     "output_type": "stream",
     "text": [
      "Programming 'RandomizedBenchmarking_sequence' (600 element(s)) \t  finished in 28.22 seconds.\n",
      " 100% completed \telapsed time: 88.2s \ttime left: 0.0s\n"
     ]
    }
   ],
   "source": [
    "nr_cliffords=[2,4,8,16]\n",
    "qb2.measure_randomized_benchmarking(nr_cliffords)"
   ]
  },
  {
   "cell_type": "code",
   "execution_count": 10,
   "metadata": {
    "collapsed": false
   },
   "outputs": [],
   "source": [
    "RBA = ma.RandomizedBenchmarking_Analysis(T1=T1, pulse_delay=qb2.pulse_delay())"
   ]
  },
  {
   "cell_type": "markdown",
   "metadata": {},
   "source": [
    "## Butterfly experiment (still needs testing)"
   ]
  },
  {
   "cell_type": "code",
   "execution_count": null,
   "metadata": {
    "collapsed": false
   },
   "outputs": [],
   "source": [
    "from pycqed.measurement import awg_sweep_functions as awg_swf\n",
    "reload(sq)\n",
    "sq.station = station\n",
    "\n",
    "qubit.int_log_det = det.UHFQC_integration_logging_det(\n",
    "    UHFQC=UHFQC, AWG=AWG, channels=[\n",
    "        qubit.RO_acq_weight_function_I(),\n",
    "        qubit.RO_acq_weight_function_Q()],\n",
    "    integration_length=qubit.RO_acq_integration_length(),\n",
    "    nr_shots=4092)\n",
    "\n",
    "def measure_butterfly(self, return_detector=False,\n",
    "                      MC=None,\n",
    "                      initialize=False,\n",
    "                      post_msmt_delay=2e-6, case=True):\n",
    "    self.prepare_for_timedomain()\n",
    "    if MC is None:\n",
    "        MC = self.MC\n",
    "    MC.set_sweep_function(awg_swf.Butterfly(\n",
    "        pulse_pars=self.get_drive_pars(), RO_pars=self.get_RO_pars(),\n",
    "        initialize=initialize, post_msmt_delay=post_msmt_delay))\n",
    "    MC.set_detector_function(self.int_log_det)\n",
    "    MC.run('Butterfly{}initialize_{}'.format(self.msmt_suffix, initialize))\n",
    "\n",
    "measure_butterfly(qubit)"
   ]
  },
  {
   "cell_type": "code",
   "execution_count": null,
   "metadata": {
    "collapsed": false
   },
   "outputs": [],
   "source": [
    "reload(ma)\n",
    "# first perform SSRO analysis to extract the optimal rotation angle\n",
    "# theta\n",
    "a = ma.SSRO_discrimination_analysis(\n",
    "    label='Butterfly',\n",
    "    current_threshold=None,\n",
    "    close_fig=False,\n",
    "    plot_2D_histograms=True)\n",
    "\n",
    "# the, run it a second time to determin the optimum threshold along the\n",
    "# rotated I axis\n",
    "b = ma.SSRO_discrimination_analysis(\n",
    "    label='Butterfly',\n",
    "    current_threshold=None,\n",
    "    close_fig=False,\n",
    "    plot_2D_histograms=True, theta_in=-a.theta)\n",
    "\n",
    "c = ma.butterfly_analysis(\n",
    "    close_main_fig=False, initialize=initialize,\n",
    "    theta_in=-a.theta,\n",
    "    threshold=b.opt_I_threshold, digitize=True, case=True)"
   ]
  },
  {
   "cell_type": "code",
   "execution_count": null,
   "metadata": {
    "collapsed": true
   },
   "outputs": [],
   "source": [
    "plt.show()"
   ]
  },
  {
   "cell_type": "code",
   "execution_count": null,
   "metadata": {
    "collapsed": false,
    "scrolled": true
   },
   "outputs": [],
   "source": [
    "c.butterfly_coeffs"
   ]
  },
  {
   "cell_type": "code",
   "execution_count": null,
   "metadata": {
    "collapsed": true
   },
   "outputs": [],
   "source": [
    "plt.plot(a.measured_values[1])\n",
    "plt.show()"
   ]
  },
  {
   "cell_type": "markdown",
   "metadata": {},
   "source": [
    "## temp"
   ]
  },
  {
   "cell_type": "code",
   "execution_count": null,
   "metadata": {
    "collapsed": false
   },
   "outputs": [],
   "source": [
    "#UHFQC.quex_rl_length(2)\n",
    "AWG.start()\n",
    "UHFQC.awgs_0_enable(1)\n",
    "\n",
    "# why do we need this?\n",
    "try:\n",
    "    UHFQC.awgs_0_enable()\n",
    "except:\n",
    "    UHFQC.awgs_0_enable()\n",
    "\n",
    "while UHFQC.awgs_0_enable() == 1:\n",
    "    time.sleep(0.01)\n",
    "data = ['', '']\n",
    "data[0] = UHFQC.quex_rl_data_0()[0]['vector']\n",
    "data[1] = UHFQC.quex_rl_data_1()[0]['vector']\n",
    "AWG.stop()\n",
    "data\n",
    "#data[0][0]**2 + data[1][0]**2"
   ]
  },
  {
   "cell_type": "code",
   "execution_count": null,
   "metadata": {
    "collapsed": false
   },
   "outputs": [],
   "source": [
    "reload(ZI_UHFQC)\n",
    "UHFQC.single_acquisition_initialize()\n",
    "data = UHFQC.single_acquisition(2)\n",
    "UHFQC.single_acquisition_finalize()\n",
    "data"
   ]
  },
  {
   "cell_type": "code",
   "execution_count": null,
   "metadata": {
    "collapsed": true
   },
   "outputs": [],
   "source": [
    "qubit.cw_source.power(-40)\n",
    "qubit.spec_pulse_length(20e-6) #s\n",
    "qubit.spec_pulse_depletion_time(10e-6) #s\n",
    "qubit.RO_pulse_length(2.2e-6) #s\n",
    "qubit.RO_acq_marker_delay(0) #s\n",
    "qubit.RO_pulse_delay(500e-9) #s\n",
    "readout_RF.pulsemod_state('On')"
   ]
  },
  {
   "cell_type": "code",
   "execution_count": null,
   "metadata": {
    "collapsed": false,
    "scrolled": false
   },
   "outputs": [],
   "source": [
    "qubit.measure_spectroscopy(freqs=np.linspace(5.8e9, 6.2e9, 50), pulsed=True)"
   ]
  },
  {
   "cell_type": "code",
   "execution_count": null,
   "metadata": {
    "collapsed": false
   },
   "outputs": [],
   "source": [
    "qubit.readout_RF.close()\n",
    "qubit.readout_LO.close()"
   ]
  },
  {
   "cell_type": "code",
   "execution_count": null,
   "metadata": {
    "collapsed": false
   },
   "outputs": [],
   "source": [
    "station.components.keys()"
   ]
  },
  {
   "cell_type": "code",
   "execution_count": null,
   "metadata": {
    "collapsed": false
   },
   "outputs": [],
   "source": [
    "AWG.clock_freq(1e9)"
   ]
  },
  {
   "cell_type": "code",
   "execution_count": null,
   "metadata": {
    "collapsed": false
   },
   "outputs": [],
   "source": [
    "readout_LO.power()"
   ]
  },
  {
   "cell_type": "code",
   "execution_count": null,
   "metadata": {
    "collapsed": false
   },
   "outputs": [],
   "source": [
    "heterodyne.nr_averages()"
   ]
  },
  {
   "cell_type": "code",
   "execution_count": null,
   "metadata": {
    "collapsed": false
   },
   "outputs": [],
   "source": [
    "qubit.RO_pulse_power()"
   ]
  },
  {
   "cell_type": "code",
   "execution_count": null,
   "metadata": {
    "collapsed": true
   },
   "outputs": [],
   "source": [
    "readout_RF.pulsemod_state(\"On\")"
   ]
  },
  {
   "cell_type": "code",
   "execution_count": null,
   "metadata": {
    "collapsed": false
   },
   "outputs": [],
   "source": [
    "for instr in station.components.values():\n",
    "    instr.close()"
   ]
  },
  {
   "cell_type": "code",
   "execution_count": null,
   "metadata": {
    "collapsed": true
   },
   "outputs": [],
   "source": []
  }
 ],
 "metadata": {
  "anaconda-cloud": {},
  "kernelspec": {
   "display_name": "Python [conda root]",
   "language": "python",
   "name": "conda-root-py"
  },
  "language_info": {
   "codemirror_mode": {
    "name": "ipython",
    "version": 3
   },
   "file_extension": ".py",
   "mimetype": "text/x-python",
   "name": "python",
   "nbconvert_exporter": "python",
   "pygments_lexer": "ipython3",
   "version": "3.5.2"
  },
  "widgets": {
   "state": {},
   "version": "1.1.2"
  }
 },
 "nbformat": 4,
 "nbformat_minor": 0
}
