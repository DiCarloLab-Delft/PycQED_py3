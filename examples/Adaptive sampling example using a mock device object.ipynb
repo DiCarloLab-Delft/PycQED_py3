{
 "cells": [
  {
   "cell_type": "code",
   "execution_count": null,
   "metadata": {},
   "outputs": [],
   "source": [
    "%matplotlib inline\n",
    "import adaptive\n",
    "import matplotlib.pyplot as plt\n",
    "import pycqed as pq\n",
    "import numpy as np\n",
    "from pycqed.measurement import measurement_control\n",
    "import pycqed.measurement.detector_functions as det\n",
    "from qcodes import station\n",
    "station = station.Station()\n"
   ]
  },
  {
   "cell_type": "markdown",
   "metadata": {},
   "source": [
    "## Setting up the mock device\n",
    "\n",
    "Measurements are controlled through the `MeasurementControl` usually instantiated as `MC`"
   ]
  },
  {
   "cell_type": "code",
   "execution_count": null,
   "metadata": {},
   "outputs": [],
   "source": [
    "from pycqed.instrument_drivers.virtual_instruments.mock_device import Mock_Device\n",
    "MC = measurement_control.MeasurementControl('MC',live_plot_enabled=True, verbose=True)\n",
    "MC.station = station\n",
    "station.add_component(MC)\n",
    "\n",
    "mock_device = Mock_Device('mock_device')\n",
    "mock_device.mw_pow(-20)\n",
    "mock_device.res_freq(7.400023457e9)\n",
    "mock_device.cw_noise_level(.0005)\n",
    "mock_device.acq_delay(.05)\n"
   ]
  },
  {
   "cell_type": "markdown",
   "metadata": {},
   "source": [
    "## Measuring a resonator using the conventional method\n",
    "Points are chosen on a linspace of 100 points. This is enough to identify the location of the resonator. "
   ]
  },
  {
   "cell_type": "code",
   "execution_count": null,
   "metadata": {},
   "outputs": [],
   "source": [
    "freqs = np.linspace(7.39e9, 7.41e9, 100)\n",
    "\n",
    "d = det.Function_Detector(mock_device.S21,value_names=['Magn', 'Phase'], \n",
    "                          value_units=['V', 'deg'])\n",
    "MC.set_sweep_function(mock_device.mw_freq)\n",
    "MC.set_sweep_points(freqs)\n",
    "MC.set_detector_function(d)\n",
    "dat=MC.run('test')"
   ]
  },
  {
   "cell_type": "markdown",
   "metadata": {},
   "source": [
    "## Using 1D adaptive sampler from the MC \n",
    "\n",
    "This can also be done using an adaptive `Leaner1D` object, chosing 100 points optimally in the interval. "
   ]
  },
  {
   "cell_type": "code",
   "execution_count": null,
   "metadata": {},
   "outputs": [],
   "source": [
    "mock_device.acq_delay(.05)"
   ]
  },
  {
   "cell_type": "code",
   "execution_count": null,
   "metadata": {},
   "outputs": [],
   "source": [
    "\n",
    "d = det.Function_Detector(mock_device.S21, value_names=['Magn', 'Phase'], value_units=['V', 'deg'])\n",
    "\n",
    "MC.set_sweep_function(mock_device.mw_freq)\n",
    "MC.set_detector_function(d)\n",
    "MC.set_adaptive_function_parameters({'adaptive_function': adaptive.Learner1D, \n",
    "                                     'goal':lambda l: l.npoints>100, \n",
    "                                     'bounds':(7.39e9, 7.41e9)})\n",
    "dat = MC.run(mode='adaptive')\n",
    "from pycqed.analysis import measurement_analysis as ma\n",
    "# ma.Homodyne_Analysis(close_fig=False, label='M')"
   ]
  },
  {
   "cell_type": "markdown",
   "metadata": {},
   "source": [
    "## Two D learner\n",
    "\n",
    "The learner can also be used to adaptively sample a 2D /heatmap type experiment. \n",
    "However, currently we do not have easy plotting function for that and we still need to rely on the adaptive Learner plotting methods. \n",
    "\n",
    "It would be great to have this working with a realtime pyqtgraph based plotting window so that we can use this without the notebooks. "
   ]
  },
  {
   "cell_type": "code",
   "execution_count": null,
   "metadata": {},
   "outputs": [],
   "source": [
    "d = det.Function_Detector(mock_device.S21, value_names=['Magn', 'Phase'], value_units=['V', 'deg'])\n",
    "MC.set_sweep_function(mock_device.mw_freq)\n",
    "MC.set_sweep_function_2D(mock_device.mw_pow)\n",
    "MC.set_detector_function(d)\n",
    "MC.set_adaptive_function_parameters({'adaptive_function': adaptive.Learner2D, \n",
    "                                     'goal':lambda l: l.npoints>20*20, \n",
    "                                     'bounds':((7.398e9, 7.402e9), \n",
    "                                               (-20, -10))})\n",
    "dat = MC.run(mode='adaptive')\n",
    "\n"
   ]
  },
  {
   "cell_type": "code",
   "execution_count": null,
   "metadata": {},
   "outputs": [],
   "source": [
    "# Required to be able to use the fancy interpolating plot \n",
    "adaptive.notebook_extension()\n",
    "MC.learner.plot(tri_alpha=.1)"
   ]
  },
  {
   "cell_type": "code",
   "execution_count": null,
   "metadata": {},
   "outputs": [],
   "source": []
  }
 ],
 "metadata": {
  "language_info": {
   "name": "python",
   "pygments_lexer": "ipython3"
  }
 },
 "nbformat": 4,
 "nbformat_minor": 2
}
