{
 "cells": [
  {
   "cell_type": "markdown",
   "metadata": {},
   "source": [
    "# Tutorial 1. The Measurement Control \n",
    "\n",
    "This tutorial covers basic usage of PycQED focusing on running basic experiments using `MeasurementControl`. \n",
    "The `MeasurementControl` is the main `Instrument` in charge of running any experiment. It takes care of saving the data in a standardized format as well as live plotting of the data during the experiment. \n",
    "`PycQED` makes a distinction between `soft`(ware) controlled measurements and `hard`(ware) controlled measurements. \n",
    "\n",
    "In a `soft` measurement `MeasurementControl` is in charge of the measurement loop and consecutively sets and gets datapoints. A `soft` measurement can be 1D, 2D or higher dimensional and also supports adaptive measurements in which the datapoints are determined during the measurement loop. \n",
    "\n",
    "In a `hard` measurement the hardware (such as an AWG or a central controller) is in charge of the measurement loop. In this case, the datapoints to be acquired are determined before the experiment starts and are precompiled into the hardware which is then armed and starts acquisition. In a `hard` measurement `MeasurementControl` does not take care of the measurement loop but still takes care of the data storage and live plotting of the experiment. "
   ]
  },
  {
   "cell_type": "markdown",
   "metadata": {},
   "source": [
    "## import required modules"
   ]
  },
  {
   "cell_type": "code",
   "execution_count": 1,
   "metadata": {},
   "outputs": [
    {
     "name": "stdout",
     "output_type": "stream",
     "text": [
      "/Users/adriaanrol/GitHubRepos/DiCarloLab_Repositories/PycQED_py3/data\n",
      "Data directory set to: /Users/adriaanrol/GitHubRepos/DiCarloLab_Repositories/PycQED_py3/data\n",
      "Could not import msvcrt (used for detecting keystrokes)\n",
      "/Users/adriaanrol/GitHubRepos/DiCarloLab_Repositories/PycQED_py3/data\n"
     ]
    },
    {
     "name": "stderr",
     "output_type": "stream",
     "text": [
      "/usr/local/lib/python3.7/site-packages/sklearn/externals/joblib/__init__.py:15: DeprecationWarning: sklearn.externals.joblib is deprecated in 0.21 and will be removed in 0.23. Please import this functionality directly from joblib, which can be installed with: pip install joblib. If this warning is raised when loading pickled models, you may need to re-serialize those models with scikit-learn 0.21+.\n",
      "  warnings.warn(msg, category=DeprecationWarning)\n"
     ]
    }
   ],
   "source": [
    "import pycqed as pq\n",
    "import numpy as np\n",
    "from pycqed.measurement import measurement_control\n",
    "from pycqed.measurement.sweep_functions import None_Sweep\n",
    "import pycqed.measurement.detector_functions as det\n",
    "from qcodes import station\n",
    "station = station.Station()\n"
   ]
  },
  {
   "cell_type": "markdown",
   "metadata": {},
   "source": [
    "## Creating an instance of `MeasurementControl`\n",
    "\n",
    "Measurements are controlled through the `MeasurementControl` usually instantiated as `MC`"
   ]
  },
  {
   "cell_type": "code",
   "execution_count": 2,
   "metadata": {},
   "outputs": [
    {
     "data": {
      "text/plain": [
       "'MC'"
      ]
     },
     "execution_count": 2,
     "metadata": {},
     "output_type": "execute_result"
    }
   ],
   "source": [
    "MC = measurement_control.MeasurementControl('MC',live_plot_enabled=True, verbose=True)\n",
    "MC.station = station\n",
    "station.add_component(MC)"
   ]
  },
  {
   "cell_type": "markdown",
   "metadata": {},
   "source": [
    "The `InstrumentMonitor` can be used to see the parameters of any instrument connected to the station and updates during the loop initiated by `MeasurementControl`. "
   ]
  },
  {
   "cell_type": "code",
   "execution_count": 3,
   "metadata": {},
   "outputs": [],
   "source": [
    "from pycqed.instrument_drivers.virtual_instruments import instrument_monitor as im \n",
    "IM = im.InstrumentMonitor('IM', station)\n",
    "station.add_component(IM)\n",
    "# Link the instrument monitor to the MC so that it gets updated in the loop\n",
    "MC.instrument_monitor('IM')\n",
    "IM.update()"
   ]
  },
  {
   "cell_type": "code",
   "execution_count": 7,
   "metadata": {},
   "outputs": [],
   "source": [
    "IM.update_interval(.1)\n",
    "IM.update()"
   ]
  },
  {
   "cell_type": "markdown",
   "metadata": {},
   "source": [
    "## Create instruments used in the experiment \n",
    "Let's start by creating a dummy instrument called MockParabola. \n"
   ]
  },
  {
   "cell_type": "code",
   "execution_count": 8,
   "metadata": {},
   "outputs": [
    {
     "data": {
      "text/plain": [
       "'dummy_instrument'"
      ]
     },
     "execution_count": 8,
     "metadata": {},
     "output_type": "execute_result"
    }
   ],
   "source": [
    "from pycqed.instrument_drivers.physical_instruments.dummy_instruments import DummyParHolder\n",
    "dummy_instrument = DummyParHolder('dummy_instrument')\n",
    "station.add_component(dummy_instrument)"
   ]
  },
  {
   "cell_type": "markdown",
   "metadata": {},
   "source": [
    "## A 1D hard measurement \n",
    "A hard measurement is a measurement where the data acquisition loop happens in the **hard**ware."
   ]
  },
  {
   "cell_type": "code",
   "execution_count": 9,
   "metadata": {},
   "outputs": [
    {
     "name": "stderr",
     "output_type": "stream",
     "text": [
      "WARNING:root:List of type \"<class 'numpy.ndarray'>\" for \"value\":\"[array([0.])]\" not supported, storing as string\n"
     ]
    },
    {
     "name": "stdout",
     "output_type": "stream",
     "text": [
      "Starting measurement: dummy_hard\n",
      "Sweep function: None_Sweep\n",
      "Detector function: Dummy_Detector_Hard\n",
      " 100% completed \telapsed time: 12.7s \ttime left: 0.0s\n"
     ]
    }
   ],
   "source": [
    "MC.soft_avg(15)\n",
    "MC.persist_mode(True)\n",
    "MC.set_sweep_function(None_Sweep(sweep_control='hard'))\n",
    "MC.set_sweep_points(np.linspace(0, 10, 30))\n",
    "MC.set_detector_function(det.Dummy_Detector_Hard(noise=0.5, delay=.02))\n",
    "dat = MC.run('dummy_hard')\n",
    "data_set = dat['dset']"
   ]
  },
  {
   "cell_type": "markdown",
   "metadata": {},
   "source": [
    "By setting persist_mode = True we can see a copy of the last measurements"
   ]
  },
  {
   "cell_type": "code",
   "execution_count": 10,
   "metadata": {},
   "outputs": [
    {
     "name": "stderr",
     "output_type": "stream",
     "text": [
      "WARNING:root:List of type \"<class 'numpy.ndarray'>\" for \"value\":\"[array([0.])]\" not supported, storing as string\n"
     ]
    },
    {
     "name": "stdout",
     "output_type": "stream",
     "text": [
      "Starting measurement: dummy_hard persistent\n",
      "Sweep function: None_Sweep\n",
      "Detector function: Dummy_Detector_Hard\n",
      " 100% completed \telapsed time: 2.4s \ttime left: 0.0s\n"
     ]
    }
   ],
   "source": [
    "\n",
    "MC.set_sweep_function(None_Sweep(sweep_control='hard'))\n",
    "MC.set_sweep_points(np.linspace(0, 10, 30))\n",
    "MC.set_detector_function(det.Dummy_Detector_Hard(noise=0.5, delay=.02))\n",
    "dat2 = MC.run('dummy_hard persistent')\n",
    "data_set2 = dat2['dset']"
   ]
  },
  {
   "cell_type": "markdown",
   "metadata": {},
   "source": [
    "# A simple 1D soft measurement \n",
    "A soft measurement is a a measurement where the data acquisition loop occurs in the **soft**ware"
   ]
  },
  {
   "cell_type": "code",
   "execution_count": 11,
   "metadata": {},
   "outputs": [],
   "source": [
    "dummy_instrument.x(145/134545)\n",
    "IM.update()"
   ]
  },
  {
   "cell_type": "code",
   "execution_count": 12,
   "metadata": {},
   "outputs": [
    {
     "name": "stderr",
     "output_type": "stream",
     "text": [
      "WARNING:root:List of type \"<class 'numpy.ndarray'>\" for \"value\":\"[array([0.])]\" not supported, storing as string\n"
     ]
    },
    {
     "name": "stdout",
     "output_type": "stream",
     "text": [
      "Starting measurement: 1D test\n",
      "Sweep function: x\n",
      "Detector function: parabola\n",
      " 97% completed \telapsed time: 7.4s \ttime left: 0.2ss"
     ]
    },
    {
     "name": "stderr",
     "output_type": "stream",
     "text": [
      "WARNING:root:List of type \"<class 'numpy.ndarray'>\" for \"value\":\"[array([0.])]\" not supported, storing as string\n"
     ]
    },
    {
     "name": "stdout",
     "output_type": "stream",
     "text": [
      " 100% completed \telapsed time: 7.6s \ttime left: 0.0s\n",
      "Starting measurement: 1D test-persist\n",
      "Sweep function: x\n",
      "Detector function: parabola\n",
      " 100% completed \telapsed time: 7.9s \ttime left: 0.0s\n"
     ]
    }
   ],
   "source": [
    "dummy_instrument.delay(.01)\n",
    "MC.soft_avg(15)\n",
    "MC.set_sweep_function(dummy_instrument.x)\n",
    "MC.set_sweep_points(np.linspace(-1,1,30))\n",
    "dummy_instrument.noise(1)\n",
    "\n",
    "MC.set_detector_function(dummy_instrument.parabola)\n",
    "dat = MC.run('1D test')\n",
    "data_set = dat['dset']\n",
    "\n",
    "# the second plot will also show the first line\n",
    "MC.set_sweep_function(dummy_instrument.x)\n",
    "MC.set_sweep_points(np.linspace(-1,1,30))\n",
    "\n",
    "dat2= MC.run('1D test-persist')\n",
    "data_set2 = dat2['dset']"
   ]
  },
  {
   "cell_type": "code",
   "execution_count": 11,
   "metadata": {},
   "outputs": [
    {
     "name": "stderr",
     "output_type": "stream",
     "text": [
      "WARNING:root:List of type \"<class 'numpy.ndarray'>\" for \"value\":\"[array([0.])]\" not supported, storing as string\n"
     ]
    },
    {
     "name": "stdout",
     "output_type": "stream",
     "text": [
      "Starting measurement: 1D test\n",
      "Sweep function: x\n",
      "Detector function: Dummy_Detector_Soft\n",
      " 100% completed \telapsed time: 1.3s \ttime left: 0.0s\n"
     ]
    }
   ],
   "source": [
    "dummy_instrument.delay(.01)\n",
    "MC.soft_avg(15)\n",
    "MC.set_sweep_function(dummy_instrument.x)\n",
    "MC.set_sweep_points(np.linspace(-1,1,30))\n",
    "\n",
    "MC.set_detector_function(det.Dummy_Detector_Soft())\n",
    "dat = MC.run('1D test')\n",
    "data_set = dat['dset']\n"
   ]
  },
  {
   "cell_type": "markdown",
   "metadata": {},
   "source": [
    "You can play around a bit with the options in the MC: "
   ]
  },
  {
   "cell_type": "code",
   "execution_count": 13,
   "metadata": {},
   "outputs": [],
   "source": [
    "MC.persist_mode(True) # Turns on and off persistent plotting\n",
    "MC.verbose(True)\n",
    "MC.plotting_interval(.2)\n",
    "MC.live_plot_enabled(True)"
   ]
  },
  {
   "cell_type": "markdown",
   "metadata": {},
   "source": [
    "# A simple 2D measurement"
   ]
  },
  {
   "cell_type": "code",
   "execution_count": 13,
   "metadata": {},
   "outputs": [
    {
     "name": "stderr",
     "output_type": "stream",
     "text": [
      "WARNING:root:List of type \"<class 'numpy.ndarray'>\" for \"value\":\"[array([0.])]\" not supported, storing as string\n"
     ]
    },
    {
     "name": "stdout",
     "output_type": "stream",
     "text": [
      "Starting measurement: test\n",
      "Sweep function 0: x\n",
      "Sweep function 1: Sweep_function\n",
      "Detector function: parabola\n",
      " 100% completed \telapsed time: 8.1s \ttime left: 0.0ss\n"
     ]
    }
   ],
   "source": [
    "dummy_instrument.delay(.0001)\n",
    "MC.soft_avg(4)\n",
    "\n",
    "sweep_pts = np.linspace(-2, 2, 30)\n",
    "sweep_pts_2D = np.linspace(-2, 2, 5)\n",
    "\n",
    "MC.set_sweep_function(dummy_instrument.x)\n",
    "MC.set_sweep_function_2D(dummy_instrument.y)\n",
    "MC.set_sweep_points(sweep_pts)\n",
    "MC.set_sweep_points_2D(sweep_pts_2D)\n",
    "MC.set_detector_function(dummy_instrument.parabola)\n",
    "dat=MC.run('test', mode='2D')\n",
    "data_set = dat['dset']\n"
   ]
  },
  {
   "cell_type": "markdown",
   "metadata": {},
   "source": [
    "# 2D combinatioin of a hard inner and soft outer loop\n",
    "The hard inner loop returns 30 values "
   ]
  },
  {
   "cell_type": "code",
   "execution_count": 14,
   "metadata": {},
   "outputs": [
    {
     "name": "stderr",
     "output_type": "stream",
     "text": [
      "WARNING:root:List of type \"<class 'numpy.ndarray'>\" for \"value\":\"[array([0.])]\" not supported, storing as string\n"
     ]
    },
    {
     "name": "stdout",
     "output_type": "stream",
     "text": [
      "Starting measurement: 2D_hard\n",
      "Sweep function 0: None_Sweep\n",
      "Sweep function 1: None_Sweep\n",
      "Detector function: Dummy_Detector_Hard\n",
      " 100% completed \telapsed time: 7.0s \ttime left: 0.0s\n"
     ]
    }
   ],
   "source": [
    "MC.soft_avg(1)\n",
    "sweep_pts = np.linspace(0, 10, 30)\n",
    "sweep_pts_2D = np.linspace(0, 10, 30)\n",
    "MC.set_sweep_function(None_Sweep(sweep_control='hard'))\n",
    "MC.set_sweep_function_2D(None_Sweep(sweep_control='soft'))\n",
    "MC.set_sweep_points(sweep_pts)\n",
    "MC.set_sweep_points_2D(sweep_pts_2D)\n",
    "MC.set_detector_function(det.Dummy_Detector_Hard(delay=.05, noise=.1))\n",
    "dat = MC.run('2D_hard', mode='2D')\n",
    "data_set = dat['dset']"
   ]
  },
  {
   "cell_type": "markdown",
   "metadata": {},
   "source": [
    "## A Hard measurement that uses soft averaging"
   ]
  },
  {
   "cell_type": "markdown",
   "metadata": {},
   "source": [
    "The number of soft_averages determines how many times the experiment will be performed. \n",
    "Only the averaged data is plotted and saved. \n",
    "The number of soft-averages can be set as a parameter of the Measurement Control. \n",
    "\n",
    "Will first implement it for 1D hard sweeps (easier) and then follow for combinations of hard and soft sweeps. "
   ]
  },
  {
   "cell_type": "code",
   "execution_count": 21,
   "metadata": {},
   "outputs": [
    {
     "name": "stderr",
     "output_type": "stream",
     "text": [
      "WARNING:root:List of type \"<class 'numpy.ndarray'>\" for \"value\":\"[array([0.])]\" not supported, storing as string\n"
     ]
    },
    {
     "name": "stdout",
     "output_type": "stream",
     "text": [
      "Starting measurement: dummy_hard\n",
      "Sweep function: None_Sweep\n",
      "Detector function: Dummy_Detector_Hard\n",
      " 100% completed \telapsed time: 1.2s \ttime left: 0.0s\n"
     ]
    }
   ],
   "source": [
    "MC.soft_avg(4)\n",
    "MC.set_sweep_function(None_Sweep(sweep_control='hard'))\n",
    "MC.set_sweep_points(np.linspace(0, 10, 30))\n",
    "MC.set_detector_function(det.Dummy_Detector_Hard(noise=1.5, delay=.02))\n",
    "\n",
    "dat = MC.run('dummy_hard')\n",
    "data_set = dat['dset']"
   ]
  },
  {
   "cell_type": "markdown",
   "metadata": {},
   "source": [
    "# 2D soft averaging"
   ]
  },
  {
   "cell_type": "code",
   "execution_count": 22,
   "metadata": {},
   "outputs": [
    {
     "name": "stderr",
     "output_type": "stream",
     "text": [
      "WARNING:root:List of type \"<class 'numpy.ndarray'>\" for \"value\":\"[array([0.])]\" not supported, storing as string\n"
     ]
    },
    {
     "name": "stdout",
     "output_type": "stream",
     "text": [
      "Starting measurement: dummy_hard_2D\n",
      "Sweep function 0: None_Sweep\n",
      "Sweep function 1: None_Sweep\n",
      "Detector function: Dummy_Detector_Hard\n",
      " 100% completed \telapsed time: 15.0s \ttime left: 0.0s\n"
     ]
    }
   ],
   "source": [
    "MC.soft_avg(10)\n",
    "sweep_pts = np.linspace(0, 10, 30)\n",
    "sweep_pts_2D = np.linspace(0, 10, 5)\n",
    "MC.set_sweep_function(None_Sweep(sweep_control='hard'))\n",
    "MC.set_sweep_function_2D(None_Sweep(sweep_control='soft'))\n",
    "MC.set_sweep_points(sweep_pts)\n",
    "MC.set_sweep_points_2D(sweep_pts_2D)\n",
    "MC.set_detector_function(det.Dummy_Detector_Hard(noise=1.5, delay=.001))\n",
    "\n",
    "dat = MC.run('dummy_hard_2D', mode='2D')\n",
    "data_set = dat['dset']"
   ]
  },
  {
   "cell_type": "markdown",
   "metadata": {},
   "source": [
    "\n",
    "## Starting an adaptive measurement \n",
    "This example does a 2D optimization over the mock parabola"
   ]
  },
  {
   "cell_type": "code",
   "execution_count": 17,
   "metadata": {},
   "outputs": [],
   "source": [
    "dummy_instrument.delay(.05)"
   ]
  },
  {
   "cell_type": "code",
   "execution_count": 22,
   "metadata": {},
   "outputs": [],
   "source": [
    "dummy_instrument.noise(2)"
   ]
  },
  {
   "cell_type": "code",
   "execution_count": 24,
   "metadata": {},
   "outputs": [
    {
     "name": "stderr",
     "output_type": "stream",
     "text": [
      "WARNING:root:List of type \"<class 'numpy.ndarray'>\" for \"value\":\"[array([0.])]\" not supported, storing as string\n"
     ]
    },
    {
     "name": "stdout",
     "output_type": "stream",
     "text": [
      "Starting measurement: 1D test\n",
      "Sweep function 0: x\n",
      "Sweep function 1: y\n",
      "Detector function: parabola\n",
      "Acquired 58 points, \telapsed time: 14.6s"
     ]
    }
   ],
   "source": [
    "from pycqed.measurement.optimization import nelder_mead\n",
    "MC.soft_avg(1)\n",
    "dummy_instrument\n",
    "MC.set_sweep_functions([dummy_instrument.x, dummy_instrument.y])\n",
    "MC.set_adaptive_function_parameters({'adaptive_function':nelder_mead, \n",
    "                                    'x0':[-5,-5], 'initial_step': [2.5, 2.5]})\n",
    "dummy_instrument.noise(2)\n",
    "MC.set_detector_function(dummy_instrument.parabola)\n",
    "dat = MC.run('1D test', mode='adaptive')\n",
    "data_set = dat['dset']"
   ]
  },
  {
   "cell_type": "markdown",
   "metadata": {},
   "source": [
    "For a more advanced example of adaptive measurements see \"Tutorial: Measurement Control - adaptive sampling\". "
   ]
  }
 ],
 "metadata": {
  "kernelspec": {
   "display_name": "Python 3",
   "language": "python",
   "name": "python3"
  },
  "language_info": {
   "codemirror_mode": {
    "name": "ipython",
    "version": 3
   },
   "file_extension": ".py",
   "mimetype": "text/x-python",
   "name": "python",
   "nbconvert_exporter": "python",
   "pygments_lexer": "ipython3",
   "version": "3.7.5"
  }
 },
 "nbformat": 4,
 "nbformat_minor": 4
}
