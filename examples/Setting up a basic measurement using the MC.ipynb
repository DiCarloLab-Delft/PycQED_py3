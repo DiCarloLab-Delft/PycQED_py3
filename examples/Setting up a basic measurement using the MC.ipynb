{
 "cells": [
  {
   "cell_type": "code",
   "execution_count": 1,
   "metadata": {
    "collapsed": false
   },
   "outputs": [
    {
     "name": "stderr",
     "output_type": "stream",
     "text": [
      "WARNING:root:Setting datadir to default location\n"
     ]
    },
    {
     "name": "stdout",
     "output_type": "stream",
     "text": [
      "Data directory set to: None\n"
     ]
    }
   ],
   "source": [
    "import pycqed as pq\n",
    "import numpy as np\n",
    "from pycqed.measurement import measurement_control\n",
    "from pycqed.measurement.sweep_functions import None_Sweep\n",
    "import pycqed.measurement.detector_functions as det\n",
    "from qcodes import station\n",
    "station = station.Station()\n"
   ]
  },
  {
   "cell_type": "markdown",
   "metadata": {},
   "source": [
    "## Creating an instance of the measurement control\n",
    "\n",
    "Measurements are controlled through the `MeasurementControl` usually instantiated as `MC`"
   ]
  },
  {
   "cell_type": "code",
   "execution_count": 2,
   "metadata": {
    "collapsed": false
   },
   "outputs": [
    {
     "data": {
      "text/plain": [
       "'MC'"
      ]
     },
     "execution_count": 2,
     "metadata": {},
     "output_type": "execute_result"
    }
   ],
   "source": [
    "MC = measurement_control.MeasurementControl('MC',live_plot_enabled=True, verbose=True)\n",
    "MC.station = station\n",
    "station.add_component(MC)"
   ]
  },
  {
   "cell_type": "code",
   "execution_count": 3,
   "metadata": {
    "collapsed": false
   },
   "outputs": [
    {
     "name": "stderr",
     "output_type": "stream",
     "text": [
      "WARNING:root:Error getting or interpreting *IDN?: ''\n"
     ]
    }
   ],
   "source": [
    "from pycqed.instrument_drivers.virtual_instruments import instrument_monitor as im \n",
    "IM = im.InstrumentMonitor('IM', station)\n",
    "station.add_component(IM)\n",
    "# Link the instrument monitor to the MC so that it gets updated in the loop\n",
    "MC.instrument_monitor('IM')"
   ]
  },
  {
   "cell_type": "markdown",
   "metadata": {},
   "source": [
    "## Create instruments used in the experiment \n",
    "Let's start by creating a dummy instrument called MockParabola. \n"
   ]
  },
  {
   "cell_type": "code",
   "execution_count": 4,
   "metadata": {
    "collapsed": false
   },
   "outputs": [
    {
     "data": {
      "text/plain": [
       "'dummy_instrument'"
      ]
     },
     "execution_count": 4,
     "metadata": {},
     "output_type": "execute_result"
    }
   ],
   "source": [
    "from pycqed.instrument_drivers.physical_instruments.dummy_instruments import DummyParHolder\n",
    "dummy_instrument = DummyParHolder('dummy_instrument')\n",
    "station.add_component(dummy_instrument)"
   ]
  },
  {
   "cell_type": "markdown",
   "metadata": {},
   "source": [
    "## A 1D hard measurement \n",
    "A hard measurement is a measurement where the data acquisition loop happens in the **hard**ware."
   ]
  },
  {
   "cell_type": "code",
   "execution_count": 5,
   "metadata": {
    "collapsed": false,
    "scrolled": false
   },
   "outputs": [
    {
     "name": "stdout",
     "output_type": "stream",
     "text": [
      "Starting measurement: dummy_hard\n",
      "Sweep function: None_Sweep\n",
      "Detector function: Dummy_Detector\n",
      " 100% completed \telapsed time: 1.0s \ttime left: 0.0s\n"
     ]
    }
   ],
   "source": [
    "MC.soft_avg(15)\n",
    "MC.persist_mode(True)\n",
    "MC.set_sweep_function(None_Sweep(sweep_control='hard'))\n",
    "MC.set_sweep_points(np.linspace(0, 10, 30))\n",
    "MC.set_detector_function(det.Dummy_Detector_Hard(noise=0.5, delay=.02))\n",
    "dat = MC.run('dummy_hard')\n",
    "data_set = dat['dset']"
   ]
  },
  {
   "cell_type": "markdown",
   "metadata": {},
   "source": [
    "By setting persist_mode = True we can see a copy of the last measurements"
   ]
  },
  {
   "cell_type": "code",
   "execution_count": 6,
   "metadata": {
    "collapsed": false
   },
   "outputs": [
    {
     "name": "stdout",
     "output_type": "stream",
     "text": [
      "Starting measurement: dummy_hard persistent\n",
      "Sweep function: None_Sweep\n",
      "Detector function: Dummy_Detector\n",
      " 100% completed \telapsed time: 1.4s \ttime left: 0.0s\n",
      "[[  0.00000000e+00  -8.41805618e-03   9.52221751e-01]\n",
      " [  3.44827592e-01   5.64679876e-02   9.63823080e-01]\n",
      " [  6.89655185e-01   2.71647215e-01   9.90496159e-01]\n",
      " [  1.03448272e+00   3.58638942e-01   9.83597755e-01]\n",
      " [  1.37931037e+00   4.11285490e-01   8.58026862e-01]\n",
      " [  1.72413790e+00   4.77858633e-01   7.64453173e-01]\n",
      " [  2.06896544e+00   6.31779075e-01   7.80045271e-01]\n",
      " [  2.41379309e+00   6.28673434e-01   7.12422073e-01]\n",
      " [  2.75862074e+00   8.28549922e-01   6.89963996e-01]\n",
      " [  3.10344839e+00   8.08600903e-01   5.54980338e-01]\n",
      " [  3.44827580e+00   8.77372682e-01   4.91556764e-01]\n",
      " [  3.79310346e+00   9.23762381e-01   4.19212967e-01]\n",
      " [  4.13793087e+00   9.73725736e-01   2.85644293e-01]\n",
      " [  4.48275852e+00   9.79517102e-01   7.03447387e-02]\n",
      " [  4.82758617e+00   1.05004179e+00   5.40984496e-02]\n",
      " [  5.17241383e+00   1.08093548e+00  -8.87244269e-02]\n",
      " [  5.51724148e+00   1.00360012e+00  -1.67943716e-01]\n",
      " [  5.86206913e+00   9.49792027e-01  -3.16440761e-01]\n",
      " [  6.20689678e+00   9.28232491e-01  -4.36341375e-01]\n",
      " [  6.55172396e+00   9.33600187e-01  -4.78987128e-01]\n",
      " [  6.89655161e+00   7.27082551e-01  -6.07001722e-01]\n",
      " [  7.24137926e+00   7.72163808e-01  -6.35885179e-01]\n",
      " [  7.58620691e+00   6.45901322e-01  -7.35407114e-01]\n",
      " [  7.93103456e+00   5.10887504e-01  -9.08347905e-01]\n",
      " [  8.27586174e+00   4.88061309e-01  -7.98481047e-01]\n",
      " [  8.62068939e+00   4.13446218e-01  -9.27012920e-01]\n",
      " [  8.96551704e+00   3.15337449e-01  -1.00892162e+00]\n",
      " [  9.31034470e+00   1.65451705e-01  -1.01685059e+00]\n",
      " [  9.65517235e+00   1.13537371e-01  -1.01554918e+00]\n",
      " [  1.00000000e+01  -4.30937521e-02  -9.94131565e-01]]\n"
     ]
    }
   ],
   "source": [
    "\n",
    "MC.set_sweep_function(None_Sweep(sweep_control='hard'))\n",
    "MC.set_sweep_points(np.linspace(0, 10, 30))\n",
    "MC.set_detector_function(det.Dummy_Detector_Hard(noise=0.5, delay=.02))\n",
    "dat2 = MC.run('dummy_hard persistent')\n",
    "data_set2 = dat2['dset']\n",
    "print(data_set2)"
   ]
  },
  {
   "cell_type": "markdown",
   "metadata": {},
   "source": [
    "# A simple 1D soft measurement \n",
    "A soft measurement is a a measurement where the data acquisition loop occurs in the **soft**ware"
   ]
  },
  {
   "cell_type": "code",
   "execution_count": null,
   "metadata": {
    "collapsed": true
   },
   "outputs": [],
   "source": []
  },
  {
   "cell_type": "code",
   "execution_count": null,
   "metadata": {
    "collapsed": true
   },
   "outputs": [],
   "source": []
  },
  {
   "cell_type": "code",
   "execution_count": 8,
   "metadata": {
    "collapsed": false
   },
   "outputs": [],
   "source": [
    "dummy_instrument.x(145/134545)\n",
    "IM.update()"
   ]
  },
  {
   "cell_type": "code",
   "execution_count": 9,
   "metadata": {
    "collapsed": false
   },
   "outputs": [
    {
     "name": "stdout",
     "output_type": "stream",
     "text": [
      "Starting measurement: 1D test\n",
      "Sweep function: x\n",
      "Detector function: parabola\n",
      " 100% completed \telapsed time: 6.6s \ttime left: 0.0s\n",
      "Starting measurement: 1D test-persist\n",
      "Sweep function: x\n",
      "Detector function: parabola\n",
      " 100% completed \telapsed time: 7.5s \ttime left: 0.0s\n"
     ]
    }
   ],
   "source": [
    "dummy_instrument.delay(.01)\n",
    "MC.soft_avg(15)\n",
    "MC.set_sweep_function(dummy_instrument.x)\n",
    "MC.set_sweep_points(np.linspace(-1,1,30))\n",
    "dummy_instrument.noise(1)\n",
    "\n",
    "MC.set_detector_function(dummy_instrument.parabola)\n",
    "dat = MC.run('1D test')\n",
    "data_set = dat['dset']\n",
    "\n",
    "# the second plot will also show the first line\n",
    "MC.set_sweep_function(dummy_instrument.x)\n",
    "MC.set_sweep_points(np.linspace(-1,1,30))\n",
    "\n",
    "dat2= MC.run('1D test-persist')\n",
    "data_set2 = dat2['dset']"
   ]
  },
  {
   "cell_type": "markdown",
   "metadata": {},
   "source": [
    "You can play around a bit with the options in the MC: "
   ]
  },
  {
   "cell_type": "code",
   "execution_count": 10,
   "metadata": {
    "collapsed": true
   },
   "outputs": [],
   "source": [
    "MC.persist_mode(True) # Turns on and off persistent plotting\n",
    "MC.verbose(True)\n",
    "MC.plotting_interval(.2)\n",
    "MC.live_plot_enabled(True)"
   ]
  },
  {
   "cell_type": "markdown",
   "metadata": {},
   "source": [
    "# A simple 2D measurement"
   ]
  },
  {
   "cell_type": "code",
   "execution_count": 10,
   "metadata": {
    "collapsed": false
   },
   "outputs": [
    {
     "name": "stdout",
     "output_type": "stream",
     "text": [
      "Starting measurement: test\n",
      "Sweep function 0: x\n",
      "Sweep function 1: Sweep_function\n",
      "Detector function: parabola\n",
      " 100% completed \telapsed time: 5.2s \ttime left: 0.0ss\n"
     ]
    }
   ],
   "source": [
    "dummy_instrument.delay(.0001)\n",
    "MC.soft_avg(4)\n",
    "\n",
    "sweep_pts = np.linspace(-2, 2, 30)\n",
    "sweep_pts_2D = np.linspace(-2, 2, 5)\n",
    "\n",
    "MC.set_sweep_function(dummy_instrument.x)\n",
    "MC.set_sweep_function_2D(dummy_instrument.y)\n",
    "MC.set_sweep_points(sweep_pts)\n",
    "MC.set_sweep_points_2D(sweep_pts_2D)\n",
    "MC.set_detector_function(dummy_instrument.parabola)\n",
    "dat=MC.run('test', mode='2D')\n",
    "data_set = dat['dset']\n"
   ]
  },
  {
   "cell_type": "markdown",
   "metadata": {},
   "source": [
    "# 2D combinatioin of a hard inner and soft outer loop\n",
    "The hard inner loop returns 30 values "
   ]
  },
  {
   "cell_type": "code",
   "execution_count": 9,
   "metadata": {
    "collapsed": false
   },
   "outputs": [
    {
     "name": "stdout",
     "output_type": "stream",
     "text": [
      "Starting measurement: 2D_hard\n",
      "Sweep function 0: None_Sweep\n",
      "Sweep function 1: None_Sweep\n",
      "Detector function: Dummy_Detector\n",
      " 100% completed \telapsed time: 14.0s \ttime left: 0.0s\n"
     ]
    }
   ],
   "source": [
    "MC.soft_avg(1)\n",
    "sweep_pts = np.linspace(0, 10, 30)\n",
    "sweep_pts_2D = np.linspace(0, 10, 30)\n",
    "MC.set_sweep_function(None_Sweep(sweep_control='hard'))\n",
    "MC.set_sweep_function_2D(None_Sweep(sweep_control='soft'))\n",
    "MC.set_sweep_points(sweep_pts)\n",
    "MC.set_sweep_points_2D(sweep_pts_2D)\n",
    "MC.set_detector_function(det.Dummy_Detector_Hard(delay=.05, noise=.1))\n",
    "dat = MC.run('2D_hard', mode='2D')\n",
    "data_set = dat['dset']"
   ]
  },
  {
   "cell_type": "markdown",
   "metadata": {},
   "source": [
    "## A Hard measurement that uses soft averaging"
   ]
  },
  {
   "cell_type": "markdown",
   "metadata": {},
   "source": [
    "The number of soft_averages determines how many times the experiment will be performed. \n",
    "Only the averaged data is plotted and saved. \n",
    "The number of soft-averages can be set as a parameter of the Measurement Control. \n",
    "\n",
    "Will first implement it for 1D hard sweeps (easier) and then follow for combinations of hard and soft sweeps. "
   ]
  },
  {
   "cell_type": "code",
   "execution_count": 10,
   "metadata": {
    "collapsed": false
   },
   "outputs": [
    {
     "name": "stdout",
     "output_type": "stream",
     "text": [
      "Starting measurement: dummy_hard\n",
      "Sweep function: None_Sweep\n",
      "Detector function: Dummy_Detector\n",
      " 100% completed \telapsed time: 1.1s \ttime left: 0.0s\n"
     ]
    }
   ],
   "source": [
    "MC.soft_avg(4)\n",
    "MC.set_sweep_function(None_Sweep(sweep_control='hard'))\n",
    "MC.set_sweep_points(np.linspace(0, 10, 30))\n",
    "MC.set_detector_function(det.Dummy_Detector_Hard(noise=1.5, delay=.02))\n",
    "\n",
    "dat = MC.run('dummy_hard')\n",
    "data_set = dat['dset']"
   ]
  },
  {
   "cell_type": "markdown",
   "metadata": {},
   "source": [
    "# 2D soft averaging"
   ]
  },
  {
   "cell_type": "code",
   "execution_count": 11,
   "metadata": {
    "collapsed": false
   },
   "outputs": [
    {
     "name": "stdout",
     "output_type": "stream",
     "text": [
      "Starting measurement: dummy_hard_2D\n",
      "Sweep function 0: None_Sweep\n",
      "Sweep function 1: None_Sweep\n",
      "Detector function: Dummy_Detector\n",
      " 100% completed \telapsed time: 16.7s \ttime left: 0.0s\n"
     ]
    }
   ],
   "source": [
    "MC.soft_avg(10)\n",
    "sweep_pts = np.linspace(0, 10, 30)\n",
    "sweep_pts_2D = np.linspace(0, 10, 5)\n",
    "MC.set_sweep_function(None_Sweep(sweep_control='hard'))\n",
    "MC.set_sweep_function_2D(None_Sweep(sweep_control='soft'))\n",
    "MC.set_sweep_points(sweep_pts)\n",
    "MC.set_sweep_points_2D(sweep_pts_2D)\n",
    "MC.set_detector_function(det.Dummy_Detector_Hard(noise=1.5, delay=.001))\n",
    "\n",
    "dat = MC.run('dummy_hard_2D', mode='2D')\n",
    "data_set = dat['dset']"
   ]
  },
  {
   "cell_type": "markdown",
   "metadata": {},
   "source": [
    "\n",
    "## Starting an adaptive measurement \n",
    "This example does a 2D optimization over the mock parabola"
   ]
  },
  {
   "cell_type": "code",
   "execution_count": 12,
   "metadata": {
    "collapsed": false
   },
   "outputs": [
    {
     "name": "stdout",
     "output_type": "stream",
     "text": [
      "Starting measurement: 1D test\n",
      "Sweep function 0: module\n",
      "Sweep function 1: module\n",
      "Detector function: parabola\n",
      "Optimization completed in 1.564s\n"
     ]
    }
   ],
   "source": [
    "from pycqed.measurement.optimization import nelder_mead\n",
    "MC.soft_avg(1)\n",
    "dummy_instrument\n",
    "MC.set_sweep_functions([dummy_instrument.x, dummy_instrument.y])\n",
    "MC.set_adaptive_function_parameters({'adaptive_function':nelder_mead, \n",
    "                                    'x0':[-5,-5], 'initial_step': [2.5, 2.5]})\n",
    "dummy_instrument.noise(.5)\n",
    "MC.set_detector_function(dummy_instrument.parabola)\n",
    "dat = MC.run('1D test', mode='adaptive')\n",
    "data_set = dat['dset']"
   ]
  },
  {
   "cell_type": "code",
   "execution_count": null,
   "metadata": {
    "collapsed": true
   },
   "outputs": [],
   "source": []
  }
 ],
 "metadata": {
  "kernelspec": {
   "display_name": "Python 3",
   "language": "python",
   "name": "python3"
  },
  "language_info": {
   "codemirror_mode": {
    "name": "ipython",
    "version": 3
   },
   "file_extension": ".py",
   "mimetype": "text/x-python",
   "name": "python",
   "nbconvert_exporter": "python",
   "pygments_lexer": "ipython3",
   "version": "3.6.0"
  }
 },
 "nbformat": 4,
 "nbformat_minor": 0
}
