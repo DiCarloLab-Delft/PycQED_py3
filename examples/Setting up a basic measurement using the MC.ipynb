{
 "cells": [
  {
   "cell_type": "code",
   "execution_count": null,
   "metadata": {},
   "outputs": [],
   "source": [
    "import pycqed as pq\n",
    "import numpy as np\n",
    "from pycqed.measurement import measurement_control\n",
    "from pycqed.measurement.sweep_functions import None_Sweep\n",
    "import pycqed.measurement.detector_functions as det\n",
    "from qcodes import station\n",
    "station = station.Station()\n"
   ]
  },
  {
   "cell_type": "markdown",
   "metadata": {},
   "source": [
    "## Creating an instance of the measurement control\n",
    "\n",
    "Measurements are controlled through the `MeasurementControl` usually instantiated as `MC`"
   ]
  },
  {
   "cell_type": "code",
   "execution_count": null,
   "metadata": {},
   "outputs": [],
   "source": [
    "MC = measurement_control.MeasurementControl('MC',live_plot_enabled=True, verbose=True)\n",
    "MC.station = station\n",
    "station.add_component(MC)"
   ]
  },
  {
   "cell_type": "code",
   "execution_count": null,
   "metadata": {},
   "outputs": [],
   "source": [
    "from pycqed.instrument_drivers.virtual_instruments import instrument_monitor as im \n",
    "IM = im.InstrumentMonitor('IM', station)\n",
    "station.add_component(IM)\n",
    "# Link the instrument monitor to the MC so that it gets updated in the loop\n",
    "MC.instrument_monitor('IM')"
   ]
  },
  {
   "cell_type": "code",
   "execution_count": null,
   "metadata": {},
   "outputs": [],
   "source": [
    "IM.update()"
   ]
  },
  {
   "cell_type": "markdown",
   "metadata": {},
   "source": [
    "## Create instruments used in the experiment \n",
    "Let's start by creating a dummy instrument called MockParabola. \n"
   ]
  },
  {
   "cell_type": "code",
   "execution_count": null,
   "metadata": {},
   "outputs": [],
   "source": [
    "from pycqed.instrument_drivers.physical_instruments.dummy_instruments import DummyParHolder\n",
    "dummy_instrument = DummyParHolder('dummy_instrument')\n",
    "station.add_component(dummy_instrument)"
   ]
  },
  {
   "cell_type": "markdown",
   "metadata": {},
   "source": [
    "## A 1D hard measurement \n",
    "A hard measurement is a measurement where the data acquisition loop happens in the **hard**ware."
   ]
  },
  {
   "cell_type": "code",
   "execution_count": null,
   "metadata": {},
   "outputs": [],
   "source": [
    "MC.soft_avg(15)\n",
    "MC.persist_mode(True)\n",
    "MC.set_sweep_function(None_Sweep(sweep_control='hard'))\n",
    "MC.set_sweep_points(np.linspace(0, 10, 30))\n",
    "MC.set_detector_function(det.Dummy_Detector_Hard(noise=0.5, delay=.02))\n",
    "dat = MC.run('dummy_hard')\n",
    "data_set = dat['dset']"
   ]
  },
  {
   "cell_type": "markdown",
   "metadata": {},
   "source": [
    "By setting persist_mode = True we can see a copy of the last measurements"
   ]
  },
  {
   "cell_type": "code",
   "execution_count": null,
   "metadata": {},
   "outputs": [],
   "source": [
    "\n",
    "MC.set_sweep_function(None_Sweep(sweep_control='hard'))\n",
    "MC.set_sweep_points(np.linspace(0, 10, 30))\n",
    "MC.set_detector_function(det.Dummy_Detector_Hard(noise=0.5, delay=.02))\n",
    "dat2 = MC.run('dummy_hard persistent')\n",
    "data_set2 = dat2['dset']"
   ]
  },
  {
   "cell_type": "markdown",
   "metadata": {},
   "source": [
    "# A simple 1D soft measurement \n",
    "A soft measurement is a a measurement where the data acquisition loop occurs in the **soft**ware"
   ]
  },
  {
   "cell_type": "code",
   "execution_count": null,
   "metadata": {},
   "outputs": [],
   "source": [
    "dummy_instrument.x(145/134545)\n",
    "IM.update()"
   ]
  },
  {
   "cell_type": "code",
   "execution_count": null,
   "metadata": {},
   "outputs": [],
   "source": [
    "dummy_instrument.delay(.01)\n",
    "MC.soft_avg(15)\n",
    "MC.set_sweep_function(dummy_instrument.x)\n",
    "MC.set_sweep_points(np.linspace(-1,1,30))\n",
    "dummy_instrument.noise(1)\n",
    "\n",
    "MC.set_detector_function(dummy_instrument.parabola)\n",
    "dat = MC.run('1D test')\n",
    "data_set = dat['dset']\n",
    "\n",
    "# the second plot will also show the first line\n",
    "MC.set_sweep_function(dummy_instrument.x)\n",
    "MC.set_sweep_points(np.linspace(-1,1,30))\n",
    "\n",
    "dat2= MC.run('1D test-persist')\n",
    "data_set2 = dat2['dset']"
   ]
  },
  {
   "cell_type": "code",
   "execution_count": null,
   "metadata": {},
   "outputs": [],
   "source": [
    "dummy_instrument.delay(.01)\n",
    "MC.soft_avg(15)\n",
    "MC.set_sweep_function(dummy_instrument.x)\n",
    "MC.set_sweep_points(np.linspace(-1,1,30))\n",
    "\n",
    "MC.set_detector_function(det.Dummy_Detector_Soft())\n",
    "dat = MC.run('1D test')\n",
    "data_set = dat['dset']\n"
   ]
  },
  {
   "cell_type": "code",
   "execution_count": null,
   "metadata": {},
   "outputs": [],
   "source": [
    "from importlib import reload\n",
    "reload(det)\n",
    "d=det.Dummy_Detector_Soft()\n",
    "d.acquire_data_point()\n",
    "\n",
    "np.shape(d.acquire_data_point())"
   ]
  },
  {
   "cell_type": "code",
   "execution_count": null,
   "metadata": {},
   "outputs": [],
   "source": [
    "d=det.Dummy_Detector_Soft_diff_shape()\n",
    "d.acquire_data_point()\n",
    "len(np.shape(d.acquire_data_point()))"
   ]
  },
  {
   "cell_type": "markdown",
   "metadata": {},
   "source": [
    "You can play around a bit with the options in the MC: "
   ]
  },
  {
   "cell_type": "code",
   "execution_count": null,
   "metadata": {},
   "outputs": [],
   "source": [
    "MC.persist_mode(True) # Turns on and off persistent plotting\n",
    "MC.verbose(True)\n",
    "MC.plotting_interval(.2)\n",
    "MC.live_plot_enabled(True)"
   ]
  },
  {
   "cell_type": "markdown",
   "metadata": {},
   "source": [
    "# A simple 2D measurement"
   ]
  },
  {
   "cell_type": "code",
   "execution_count": null,
   "metadata": {},
   "outputs": [],
   "source": [
    "dummy_instrument.delay(.0001)\n",
    "MC.soft_avg(4)\n",
    "\n",
    "sweep_pts = np.linspace(-2, 2, 30)\n",
    "sweep_pts_2D = np.linspace(-2, 2, 5)\n",
    "\n",
    "MC.set_sweep_function(dummy_instrument.x)\n",
    "MC.set_sweep_function_2D(dummy_instrument.y)\n",
    "MC.set_sweep_points(sweep_pts)\n",
    "MC.set_sweep_points_2D(sweep_pts_2D)\n",
    "MC.set_detector_function(dummy_instrument.parabola)\n",
    "dat=MC.run('test', mode='2D')\n",
    "data_set = dat['dset']\n"
   ]
  },
  {
   "cell_type": "markdown",
   "metadata": {},
   "source": [
    "# 2D combinatioin of a hard inner and soft outer loop\n",
    "The hard inner loop returns 30 values "
   ]
  },
  {
   "cell_type": "code",
   "execution_count": null,
   "metadata": {},
   "outputs": [],
   "source": [
    "MC.soft_avg(1)\n",
    "sweep_pts = np.linspace(0, 10, 30)\n",
    "sweep_pts_2D = np.linspace(0, 10, 30)\n",
    "MC.set_sweep_function(None_Sweep(sweep_control='hard'))\n",
    "MC.set_sweep_function_2D(None_Sweep(sweep_control='soft'))\n",
    "MC.set_sweep_points(sweep_pts)\n",
    "MC.set_sweep_points_2D(sweep_pts_2D)\n",
    "MC.set_detector_function(det.Dummy_Detector_Hard(delay=.05, noise=.1))\n",
    "dat = MC.run('2D_hard', mode='2D')\n",
    "data_set = dat['dset']"
   ]
  },
  {
   "cell_type": "markdown",
   "metadata": {},
   "source": [
    "## A Hard measurement that uses soft averaging"
   ]
  },
  {
   "cell_type": "markdown",
   "metadata": {},
   "source": [
    "The number of soft_averages determines how many times the experiment will be performed. \n",
    "Only the averaged data is plotted and saved. \n",
    "The number of soft-averages can be set as a parameter of the Measurement Control. \n",
    "\n",
    "Will first implement it for 1D hard sweeps (easier) and then follow for combinations of hard and soft sweeps. "
   ]
  },
  {
   "cell_type": "code",
   "execution_count": null,
   "metadata": {},
   "outputs": [],
   "source": [
    "MC.soft_avg(4)\n",
    "MC.set_sweep_function(None_Sweep(sweep_control='hard'))\n",
    "MC.set_sweep_points(np.linspace(0, 10, 30))\n",
    "MC.set_detector_function(det.Dummy_Detector_Hard(noise=1.5, delay=.02))\n",
    "\n",
    "dat = MC.run('dummy_hard')\n",
    "data_set = dat['dset']"
   ]
  },
  {
   "cell_type": "markdown",
   "metadata": {},
   "source": [
    "# 2D soft averaging"
   ]
  },
  {
   "cell_type": "code",
   "execution_count": null,
   "metadata": {},
   "outputs": [],
   "source": [
    "MC.soft_avg(10)\n",
    "sweep_pts = np.linspace(0, 10, 30)\n",
    "sweep_pts_2D = np.linspace(0, 10, 5)\n",
    "MC.set_sweep_function(None_Sweep(sweep_control='hard'))\n",
    "MC.set_sweep_function_2D(None_Sweep(sweep_control='soft'))\n",
    "MC.set_sweep_points(sweep_pts)\n",
    "MC.set_sweep_points_2D(sweep_pts_2D)\n",
    "MC.set_detector_function(det.Dummy_Detector_Hard(noise=1.5, delay=.001))\n",
    "\n",
    "dat = MC.run('dummy_hard_2D', mode='2D')\n",
    "data_set = dat['dset']"
   ]
  },
  {
   "cell_type": "markdown",
   "metadata": {},
   "source": [
    "\n",
    "## Starting an adaptive measurement \n",
    "This example does a 2D optimization over the mock parabola"
   ]
  },
  {
   "cell_type": "code",
   "execution_count": null,
   "metadata": {},
   "outputs": [],
   "source": [
    "from pycqed.measurement.optimization import nelder_mead\n",
    "MC.soft_avg(1)\n",
    "dummy_instrument\n",
    "MC.set_sweep_functions([dummy_instrument.x, dummy_instrument.y])\n",
    "MC.set_adaptive_function_parameters({'adaptive_function':nelder_mead, \n",
    "                                    'x0':[-5,-5], 'initial_step': [2.5, 2.5]})\n",
    "dummy_instrument.noise(.5)\n",
    "MC.set_detector_function(dummy_instrument.parabola)\n",
    "dat = MC.run('1D test', mode='adaptive')\n",
    "data_set = dat['dset']"
   ]
  }
 ],
 "metadata": {
  "language_info": {
   "name": "python",
   "pygments_lexer": "ipython3"
  }
 },
 "nbformat": 4,
 "nbformat_minor": 0
}
