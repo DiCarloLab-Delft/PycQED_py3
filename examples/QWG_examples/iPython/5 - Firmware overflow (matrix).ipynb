{
 "cells": [
  {
   "cell_type": "code",
   "execution_count": null,
   "metadata": {},
   "outputs": [],
   "source": [
    "from pycqed.instrument_drivers.physical_instruments.QuTech_AWG_Module \\\n",
    "    import QuTech_AWG_Module\n",
    "import numpy as np\n",
    "import matplotlib.pyplot as plt\n",
    "from scipy import signal\n",
    "%matplotlib inline\n",
    "\n",
    "#qwgDevice = \"QWG1\"\n",
    "qwgDevice = \"QWG2\"\n",
    "\n",
    "ip = None;\n",
    "\n",
    "if qwgDevice == \"QWG1\":\n",
    "    ip = \"192.168.0.10\"\n",
    "elif qwgDevice == \"QWG2\":\n",
    "    ip = \"192.168.0.11\"\n",
    "else:\n",
    "    raise RuntimeError('Did not select support device')\n",
    "    exit()\n",
    "\n",
    "qwg1 = QuTech_AWG_Module(\n",
    "    'QWG', address=ip,\n",
    "    port=5025)"
   ]
  },
  {
   "cell_type": "code",
   "execution_count": null,
   "metadata": {},
   "outputs": [],
   "source": [
    "qwg1.reset()"
   ]
  },
  {
   "cell_type": "code",
   "execution_count": null,
   "metadata": {},
   "outputs": [],
   "source": [
    "qwg1.stop()"
   ]
  },
  {
   "cell_type": "code",
   "execution_count": null,
   "metadata": {},
   "outputs": [],
   "source": [
    "\n",
    "fs = 1e9\n",
    "# For continuous mode this value should be a multiple of 4e-9\n",
    "time = 52e-9\n",
    "length = int(time*fs)\n",
    "waveformSine = np.sin(np.arange(length)*2*np.pi/(length))\n",
    "\n",
    "qwg1.createWaveformReal('sin', waveformSine)\n",
    "plt.plot(waveformSine)"
   ]
  },
  {
   "cell_type": "code",
   "execution_count": null,
   "metadata": {},
   "outputs": [],
   "source": [
    "# Set for continuous\n",
    "qwg1.set('ch1_default_waveform', 'sin')\n",
    "qwg1.set('ch2_default_waveform', 'sin')\n",
    "qwg1.set('ch3_default_waveform', 'sin')\n",
    "qwg1.set('ch4_default_waveform', 'sin')"
   ]
  },
  {
   "cell_type": "code",
   "execution_count": null,
   "metadata": {},
   "outputs": [],
   "source": [
    "qwg1.ch_pair1_transform_matrix(np.array([[1, 0.5],[0.5, 1]]))\n",
    "qwg1.ch_pair3_transform_matrix(np.array([[1, 0],[0, 1]]))"
   ]
  },
  {
   "cell_type": "code",
   "execution_count": null,
   "metadata": {},
   "outputs": [],
   "source": [
    "qwg1.ch_pair1_sideband_frequency.set(0)\n",
    "qwg1.ch_pair3_sideband_frequency.set(0)"
   ]
  },
  {
   "cell_type": "code",
   "execution_count": null,
   "metadata": {},
   "outputs": [],
   "source": [
    "qwg1.ch1_offset(0.2)\n",
    "qwg1.ch2_offset(0)\n",
    "qwg1.ch3_offset(0)\n",
    "qwg1.ch4_offset(0)"
   ]
  },
  {
   "cell_type": "code",
   "execution_count": null,
   "metadata": {},
   "outputs": [],
   "source": [
    "qwg1.ch1_amp(1.6)\n",
    "qwg1.ch2_amp(1.6)\n",
    "qwg1.ch3_amp(1.6)\n",
    "qwg1.ch4_amp(1.6)"
   ]
  },
  {
   "cell_type": "code",
   "execution_count": null,
   "metadata": {},
   "outputs": [],
   "source": [
    "qwg1.ch1_state(True)\n",
    "qwg1.ch2_state(True)\n",
    "qwg1.ch3_state(True)\n",
    "qwg1.ch4_state(True)\n",
    "\n",
    "qwg1.run_mode('CONt')\n",
    "qwg1.start()"
   ]
  },
  {
   "cell_type": "code",
   "execution_count": null,
   "metadata": {},
   "outputs": [],
   "source": [
    "qwg1.stop()"
   ]
  },
  {
   "cell_type": "code",
   "execution_count": null,
   "metadata": {},
   "outputs": [],
   "source": []
  }
 ],
 "metadata": {
  "language_info": {
   "name": "python",
   "pygments_lexer": "ipython3"
  }
 },
 "nbformat": 4,
 "nbformat_minor": 0
}
