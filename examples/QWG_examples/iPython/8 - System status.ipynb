{
 "cells": [
  {
   "cell_type": "code",
   "execution_count": 1,
   "metadata": {
    "collapsed": false
   },
   "outputs": [
    {
     "name": "stdout",
     "output_type": "stream",
     "text": [
      "Connected to: QuTech QWG (serial:, firmware:swVersion=0.9beta16-CW_BITS=7-IOB_V2 swBuild=20171109-12:12:51 fwVersion=0.1.14 fwBuild=20171103-15:23:08 kmodVersion=0.79 kmodBuild=20171109-10:22:53) in 0.11s\n"
     ]
    }
   ],
   "source": [
    "from pycqed.instrument_drivers.physical_instruments.QuTech_AWG_Module \\\n",
    "    import QuTech_AWG_Module\n",
    "import json\n",
    "\n",
    "%matplotlib inline\n",
    "\n",
    "#qwgDevice = \"QWG1\"\n",
    "qwgDevice = \"QWG2\"\n",
    "\n",
    "ip = None;\n",
    "\n",
    "if qwgDevice == \"QWG1\":\n",
    "    ip = \"192.168.0.10\"\n",
    "elif qwgDevice == \"QWG2\":\n",
    "    ip = \"192.168.0.11\"\n",
    "else:\n",
    "    raise RuntimeError('Did not select support device')\n",
    "    exit()\n",
    "\n",
    "qwg1 = QuTech_AWG_Module(\n",
    "    'QWG', address=ip,\n",
    "    port=5025)"
   ]
  },
  {
   "cell_type": "code",
   "execution_count": 3,
   "metadata": {
    "collapsed": false
   },
   "outputs": [
    {
     "name": "stdout",
     "output_type": "stream",
     "text": [
      "{\n",
      "  \"channels\": [\n",
      "    {\n",
      "      \"overflow\": true,\n",
      "      \"on\": false,\n",
      "      \"underdrive\": false,\n",
      "      \"id\": 1\n",
      "    },\n",
      "    {\n",
      "      \"overflow\": true,\n",
      "      \"on\": false,\n",
      "      \"underdrive\": false,\n",
      "      \"id\": 2\n",
      "    },\n",
      "    {\n",
      "      \"overflow\": false,\n",
      "      \"on\": false,\n",
      "      \"underdrive\": false,\n",
      "      \"id\": 3\n",
      "    },\n",
      "    {\n",
      "      \"overflow\": false,\n",
      "      \"on\": false,\n",
      "      \"underdrive\": false,\n",
      "      \"id\": 4\n",
      "    }\n",
      "  ]\n",
      "}\n"
     ]
    }
   ],
   "source": [
    "print(json.dumps(qwg1.get_system_status(), indent=2))"
   ]
  },
  {
   "cell_type": "code",
   "execution_count": null,
   "metadata": {
    "collapsed": true
   },
   "outputs": [],
   "source": []
  }
 ],
 "metadata": {
  "anaconda-cloud": {},
  "kernelspec": {
   "display_name": "Python [Root]",
   "language": "python",
   "name": "Python [Root]"
  },
  "language_info": {
   "codemirror_mode": {
    "name": "ipython",
    "version": 3
   },
   "file_extension": ".py",
   "mimetype": "text/x-python",
   "name": "python",
   "nbconvert_exporter": "python",
   "pygments_lexer": "ipython3",
   "version": "3.5.2"
  }
 },
 "nbformat": 4,
 "nbformat_minor": 0
}
