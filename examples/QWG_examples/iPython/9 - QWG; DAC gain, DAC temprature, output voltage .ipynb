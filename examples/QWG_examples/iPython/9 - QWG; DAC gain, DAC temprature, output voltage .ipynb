{
 "cells": [
  {
   "cell_type": "code",
   "execution_count": null,
   "metadata": {},
   "outputs": [],
   "source": [
    "from pycqed.instrument_drivers.physical_instruments.QuTech_AWG_Module \\\n",
    "    import QuTech_AWG_Module\n",
    "import numpy as np\n",
    "import matplotlib.pyplot as plt\n",
    "from scipy import signal\n",
    "%matplotlib inline\n",
    "\n",
    "qwgDevice = \"QWG1\"\n",
    "#qwgDevice = \"QWG2\"\n",
    "\n",
    "ip = None;\n",
    "\n",
    "if qwgDevice == \"QWG1\":\n",
    "    ip = \"192.168.0.10\"\n",
    "elif qwgDevice == \"QWG2\":\n",
    "    ip = \"192.168.0.11\"\n",
    "else:\n",
    "    raise RuntimeError('Did not select support device')\n",
    "    exit()\n",
    "\n",
    "qwg1 = QuTech_AWG_Module(\n",
    "    'QWG', address=ip,\n",
    "    port=5025)"
   ]
  },
  {
   "cell_type": "code",
   "execution_count": null,
   "metadata": {},
   "outputs": [],
   "source": [
    "qwg1.reset()"
   ]
  },
  {
   "cell_type": "code",
   "execution_count": null,
   "metadata": {},
   "outputs": [],
   "source": [
    "qwg1.stop()"
   ]
  },
  {
   "cell_type": "code",
   "execution_count": null,
   "metadata": {},
   "outputs": [],
   "source": [
    "fs = 1e9\n",
    "# For continuous mode this value should be a multiple of 4e-9\n",
    "time = 52e-9\n",
    "\n",
    "length = int(time*fs)\n",
    "halflength = int(time*fs/2)\n",
    "\n",
    "waveformLine = []\n",
    "for x in range(0, length):\n",
    "    waveformLine.append(1)\n",
    "    \n",
    "waveformLine = np.array(waveformLine)\n",
    "\n",
    "waveformSine = np.sin(np.arange(length)*2*np.pi/(length))\n",
    "waveformCosine = np.cos(np.arange(length)*2*np.pi/length)\n",
    "\n",
    "qwg1.createWaveformReal('sin', waveformSine)\n",
    "qwg1.createWaveformReal('line', waveformLine)\n",
    "plt.plot(waveformSine)\n",
    "plt.plot(waveformLine)"
   ]
  },
  {
   "cell_type": "code",
   "execution_count": null,
   "metadata": {},
   "outputs": [],
   "source": [
    "qwg1.set('ch1_default_waveform', 'line')\n",
    "qwg1.set('ch2_default_waveform', 'sin')"
   ]
  },
  {
   "cell_type": "code",
   "execution_count": null,
   "metadata": {},
   "outputs": [],
   "source": [
    "qwg1.run_mode('CONt')"
   ]
  },
  {
   "cell_type": "code",
   "execution_count": null,
   "metadata": {},
   "outputs": [],
   "source": [
    "qwg1.ch_pair1_sideband_frequency.set(0)\n",
    "qwg1.ch_pair3_sideband_frequency.set(0)"
   ]
  },
  {
   "cell_type": "code",
   "execution_count": null,
   "metadata": {},
   "outputs": [],
   "source": [
    "qwg1.ch1_offset(0)\n",
    "qwg1.ch2_offset(0)\n",
    "qwg1.ch3_offset(0)\n",
    "qwg1.ch4_offset(0)"
   ]
  },
  {
   "cell_type": "code",
   "execution_count": null,
   "metadata": {},
   "outputs": [],
   "source": [
    "qwg1.ch1_amp(1.6)\n",
    "qwg1.ch2_amp(1.6)\n",
    "qwg1.ch3_amp(1)\n",
    "qwg1.ch4_amp(1)"
   ]
  },
  {
   "cell_type": "code",
   "execution_count": null,
   "metadata": {},
   "outputs": [],
   "source": [
    "qwg1.ch1_state(True)\n",
    "qwg1.ch2_state(True)\n",
    "qwg1.ch3_state(True)\n",
    "qwg1.ch4_state(True)\n",
    "\n",
    "qwg1.run_mode('CONt')\n",
    "qwg1.start()"
   ]
  },
  {
   "cell_type": "code",
   "execution_count": null,
   "metadata": {},
   "outputs": [],
   "source": [
    "print(qwg1.getSystemErrorCount())\n",
    "qwg1.getErrors()"
   ]
  },
  {
   "cell_type": "code",
   "execution_count": null,
   "metadata": {},
   "outputs": [],
   "source": [
    "print(qwg1.dac1_gain())\n",
    "print(qwg1.dac2_gain())\n",
    "print(qwg1.dac3_gain())\n",
    "print(qwg1.dac4_gain())"
   ]
  },
  {
   "cell_type": "code",
   "execution_count": null,
   "metadata": {},
   "outputs": [],
   "source": [
    "qwg1.dac1_gain(0)\n",
    "qwg1.dac2_gain(1024)\n",
    "qwg1.dac3_gain(2048)\n",
    "qwg1.dac4_gain(4095)"
   ]
  },
  {
   "cell_type": "code",
   "execution_count": null,
   "metadata": {},
   "outputs": [],
   "source": [
    "print(qwg1.status_dac1_temperature())\n",
    "print(qwg1.status_dac2_temperature())\n",
    "print(qwg1.status_dac3_temperature())\n",
    "print(qwg1.status_dac4_temperature())"
   ]
  },
  {
   "cell_type": "code",
   "execution_count": null,
   "metadata": {},
   "outputs": [],
   "source": [
    "# Channels should be swiched off to read output voltage \n",
    "qwg1.ch1_state(False)\n",
    "qwg1.ch2_state(False)\n",
    "qwg1.ch3_state(False)\n",
    "qwg1.ch4_state(False)\n",
    "\n",
    "print(qwg1.output1_voltage())\n",
    "print(qwg1.output2_voltage())\n",
    "print(qwg1.output3_voltage())\n",
    "print(qwg1.output4_voltage())"
   ]
  },
  {
   "cell_type": "code",
   "execution_count": null,
   "metadata": {},
   "outputs": [],
   "source": [
    "print(\"FrontIO temprature: {}\".format(qwg1.status_frontIO_temperature()))\n",
    "print(\"FPGA temprature: {}\".format(qwg1.status_fpga_temperature()))"
   ]
  },
  {
   "cell_type": "code",
   "execution_count": null,
   "metadata": {},
   "outputs": [],
   "source": []
  }
 ],
 "metadata": {
  "language_info": {
   "name": "python",
   "pygments_lexer": "ipython3"
  }
 },
 "nbformat": 4,
 "nbformat_minor": 0
}
