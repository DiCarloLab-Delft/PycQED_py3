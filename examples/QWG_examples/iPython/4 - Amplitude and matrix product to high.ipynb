{
 "cells": [
  {
   "cell_type": "code",
   "execution_count": 1,
   "metadata": {
    "collapsed": false
   },
   "outputs": [
    {
     "name": "stdout",
     "output_type": "stream",
     "text": [
      "Connected to: QuTech QWG (serial:, firmware:swVersion=0.9beta16-CW_BITS=7-IOB_V2 swBuild=20171109-12:12:51 fwVersion=0.1.14 fwBuild=20171103-15:23:08 kmodVersion=0.79 kmodBuild=20171109-10:22:53) in 0.11s\n"
     ]
    }
   ],
   "source": [
    "from pycqed.instrument_drivers.physical_instruments.QuTech_AWG_Module \\\n",
    "    import QuTech_AWG_Module\n",
    "import numpy as np\n",
    "import matplotlib.pyplot as plt\n",
    "from scipy import signal\n",
    "%matplotlib inline\n",
    "\n",
    "#qwgDevice = \"QWG1\"\n",
    "qwgDevice = \"QWG2\"\n",
    "\n",
    "ip = None;\n",
    "\n",
    "if qwgDevice == \"QWG1\":\n",
    "    ip = \"192.168.0.10\"\n",
    "elif qwgDevice == \"QWG2\":\n",
    "    ip = \"192.168.0.11\"\n",
    "else:\n",
    "    raise RuntimeError('Did not select support device')\n",
    "    exit()\n",
    "\n",
    "qwg1 = QuTech_AWG_Module(\n",
    "    'QWG', address=ip,\n",
    "    port=5025)"
   ]
  },
  {
   "cell_type": "code",
   "execution_count": 2,
   "metadata": {
    "collapsed": false
   },
   "outputs": [],
   "source": [
    "qwg1.reset()"
   ]
  },
  {
   "cell_type": "code",
   "execution_count": 3,
   "metadata": {
    "collapsed": false
   },
   "outputs": [],
   "source": [
    "qwg1.stop()"
   ]
  },
  {
   "cell_type": "code",
   "execution_count": 4,
   "metadata": {
    "collapsed": false
   },
   "outputs": [
    {
     "data": {
      "text/plain": [
       "[<matplotlib.lines.Line2D at 0xa6baeb8>]"
      ]
     },
     "execution_count": 4,
     "metadata": {},
     "output_type": "execute_result"
    },
    {
     "data": {
      "image/png": "[encoded data removed]",
      "text/plain": [
       "<matplotlib.figure.Figure at 0xa6baf98>"
      ]
     },
     "metadata": {},
     "output_type": "display_data"
    }
   ],
   "source": [
    "fs = 1e9\n",
    "\n",
    "# For continuous mode this value should be a multiple of 4e-9\n",
    "time = 52e-9\n",
    "\n",
    "length = int(time*fs)\n",
    "halflength = int(time*fs/2)\n",
    "\n",
    "waveformSine = np.sin(np.arange(length)*2*np.pi/length)\n",
    "waveformCosine = np.cos(np.arange(length)*2*np.pi/length)\n",
    "\n",
    "\n",
    "qwg1.createWaveformReal('sin', waveformSine)\n",
    "qwg1.createWaveformReal('cos', waveformCosine)\n",
    "plt.plot(waveformSine)\n",
    "plt.plot(waveformCosine)"
   ]
  },
  {
   "cell_type": "code",
   "execution_count": 5,
   "metadata": {
    "collapsed": true
   },
   "outputs": [],
   "source": [
    "# Set for continuous\n",
    "qwg1.set('ch1_default_waveform', 'sin')\n",
    "qwg1.set('ch2_default_waveform', 'cos')\n",
    "qwg1.set('ch3_default_waveform', 'sin')\n",
    "qwg1.set('ch4_default_waveform', 'cos')"
   ]
  },
  {
   "cell_type": "code",
   "execution_count": 6,
   "metadata": {
    "collapsed": true
   },
   "outputs": [],
   "source": [
    "qwg1.ch_pair1_transform_matrix(np.array([[1.5, 0],[0, 1.5]]))\n",
    "qwg1.ch_pair3_transform_matrix(np.array([[1, 0],[0, 1]]))"
   ]
  },
  {
   "cell_type": "code",
   "execution_count": 7,
   "metadata": {
    "collapsed": false
   },
   "outputs": [],
   "source": [
    "qwg1.ch_pair1_sideband_frequency.set(0)\n",
    "qwg1.ch_pair3_sideband_frequency.set(0)"
   ]
  },
  {
   "cell_type": "code",
   "execution_count": 8,
   "metadata": {
    "collapsed": true
   },
   "outputs": [],
   "source": [
    "qwg1.ch1_offset(0)\n",
    "qwg1.ch2_offset(0)\n",
    "qwg1.ch3_offset(0)\n",
    "qwg1.ch4_offset(0)"
   ]
  },
  {
   "cell_type": "code",
   "execution_count": 9,
   "metadata": {
    "collapsed": true
   },
   "outputs": [],
   "source": [
    "qwg1.ch1_amp(1.8)\n",
    "qwg1.ch2_amp(1.8)\n",
    "qwg1.ch3_amp(1.8)\n",
    "qwg1.ch4_amp(1.8)"
   ]
  },
  {
   "cell_type": "code",
   "execution_count": 10,
   "metadata": {
    "collapsed": false
   },
   "outputs": [
    {
     "ename": "RuntimeError",
     "evalue": "-200,\"Execution error;(reason='Cannot set transform matrix on channel pair 0; Product of matrix and amplitude are too high or too low; limit, max: 1.000000; min: -1.000000, actual: m00 = 1.350000, m01 = 0.000000, m10 = 0.000000, m11 = 1.350000', cmd='qutech:out\", -200,\"Execution error;(reason='Cannot set transform matrix on channel pair 0; Product of matrix and amplitude are too high or too low; limit, max: 1.000000; min: -1.000000, actual: m00 = 1.350000, m01 = 0.000000, m10 = 0.000000, m11 = 1.350000', cmd='SOUR1:VOLT\", -200,\"Execution error;(reason='Cannot set transform matrix on channel pair 0; Product of matrix and amplitude are too high or too low; limit, max: 1.000000; min: -1.000000, actual: m00 = 1.350000, m01 = 0.000000, m10 = 0.000000, m11 = 1.350000', cmd='SOUR2:VOLT\"",
     "output_type": "error",
     "traceback": [
      "\u001b[1;31m---------------------------------------------------------------------------\u001b[0m",
      "\u001b[1;31mRuntimeError\u001b[0m                              Traceback (most recent call last)",
      "\u001b[1;32m<ipython-input-10-34bf765ed218>\u001b[0m in \u001b[0;36m<module>\u001b[1;34m()\u001b[0m\n\u001b[0;32m      5\u001b[0m \u001b[1;33m\u001b[0m\u001b[0m\n\u001b[0;32m      6\u001b[0m \u001b[0mqwg1\u001b[0m\u001b[1;33m.\u001b[0m\u001b[0mrun_mode\u001b[0m\u001b[1;33m(\u001b[0m\u001b[1;34m'CONt'\u001b[0m\u001b[1;33m)\u001b[0m\u001b[1;33m\u001b[0m\u001b[0m\n\u001b[1;32m----> 7\u001b[1;33m \u001b[0mqwg1\u001b[0m\u001b[1;33m.\u001b[0m\u001b[0mstart\u001b[0m\u001b[1;33m(\u001b[0m\u001b[1;33m)\u001b[0m\u001b[1;33m\u001b[0m\u001b[0m\n\u001b[0m",
      "\u001b[1;32md:\\projects\\pycqed_py3\\pycqed\\instrument_drivers\\physical_instruments\\QuTech_AWG_Module.py\u001b[0m in \u001b[0;36mstart\u001b[1;34m(self)\u001b[0m\n\u001b[0;32m    249\u001b[0m         \u001b[0mself\u001b[0m\u001b[1;33m.\u001b[0m\u001b[0mwrite\u001b[0m\u001b[1;33m(\u001b[0m\u001b[1;34m'awgcontrol:run:immediate'\u001b[0m\u001b[1;33m)\u001b[0m\u001b[1;33m\u001b[0m\u001b[0m\n\u001b[0;32m    250\u001b[0m \u001b[1;33m\u001b[0m\u001b[0m\n\u001b[1;32m--> 251\u001b[1;33m         \u001b[0mself\u001b[0m\u001b[1;33m.\u001b[0m\u001b[0mgetErrors\u001b[0m\u001b[1;33m(\u001b[0m\u001b[1;33m)\u001b[0m\u001b[1;33m\u001b[0m\u001b[0m\n\u001b[0m\u001b[0;32m    252\u001b[0m \u001b[1;33m\u001b[0m\u001b[0m\n\u001b[0;32m    253\u001b[0m         \u001b[0mstatus\u001b[0m \u001b[1;33m=\u001b[0m \u001b[0mself\u001b[0m\u001b[1;33m.\u001b[0m\u001b[0mget_system_status\u001b[0m\u001b[1;33m(\u001b[0m\u001b[1;33m)\u001b[0m\u001b[1;33m\u001b[0m\u001b[0m\n",
      "\u001b[1;32md:\\projects\\pycqed_py3\\pycqed\\instrument_drivers\\physical_instruments\\QuTech_AWG_Module.py\u001b[0m in \u001b[0;36mgetErrors\u001b[1;34m(self)\u001b[0m\n\u001b[0;32m    310\u001b[0m             \u001b[1;32mfor\u001b[0m \u001b[0mi\u001b[0m \u001b[1;32min\u001b[0m \u001b[0mrange\u001b[0m\u001b[1;33m(\u001b[0m\u001b[0merrNr\u001b[0m\u001b[1;33m)\u001b[0m\u001b[1;33m:\u001b[0m\u001b[1;33m\u001b[0m\u001b[0m\n\u001b[0;32m    311\u001b[0m                 \u001b[0merrMgs\u001b[0m\u001b[1;33m.\u001b[0m\u001b[0mappend\u001b[0m\u001b[1;33m(\u001b[0m\u001b[0mself\u001b[0m\u001b[1;33m.\u001b[0m\u001b[0mgetError\u001b[0m\u001b[1;33m(\u001b[0m\u001b[1;33m)\u001b[0m\u001b[1;33m)\u001b[0m\u001b[1;33m\u001b[0m\u001b[0m\n\u001b[1;32m--> 312\u001b[1;33m             \u001b[1;32mraise\u001b[0m \u001b[0mRuntimeError\u001b[0m\u001b[1;33m(\u001b[0m\u001b[1;34m', '\u001b[0m\u001b[1;33m.\u001b[0m\u001b[0mjoin\u001b[0m\u001b[1;33m(\u001b[0m\u001b[0merrMgs\u001b[0m\u001b[1;33m)\u001b[0m\u001b[1;33m)\u001b[0m\u001b[1;33m\u001b[0m\u001b[0m\n\u001b[0m\u001b[0;32m    313\u001b[0m \u001b[1;33m\u001b[0m\u001b[0m\n\u001b[0;32m    314\u001b[0m     \u001b[1;32mdef\u001b[0m \u001b[0mJSONParser\u001b[0m\u001b[1;33m(\u001b[0m\u001b[0mself\u001b[0m\u001b[1;33m,\u001b[0m \u001b[0mval\u001b[0m\u001b[1;33m)\u001b[0m\u001b[1;33m:\u001b[0m\u001b[1;33m\u001b[0m\u001b[0m\n",
      "\u001b[1;31mRuntimeError\u001b[0m: -200,\"Execution error;(reason='Cannot set transform matrix on channel pair 0; Product of matrix and amplitude are too high or too low; limit, max: 1.000000; min: -1.000000, actual: m00 = 1.350000, m01 = 0.000000, m10 = 0.000000, m11 = 1.350000', cmd='qutech:out\", -200,\"Execution error;(reason='Cannot set transform matrix on channel pair 0; Product of matrix and amplitude are too high or too low; limit, max: 1.000000; min: -1.000000, actual: m00 = 1.350000, m01 = 0.000000, m10 = 0.000000, m11 = 1.350000', cmd='SOUR1:VOLT\", -200,\"Execution error;(reason='Cannot set transform matrix on channel pair 0; Product of matrix and amplitude are too high or too low; limit, max: 1.000000; min: -1.000000, actual: m00 = 1.350000, m01 = 0.000000, m10 = 0.000000, m11 = 1.350000', cmd='SOUR2:VOLT\""
     ]
    }
   ],
   "source": [
    "qwg1.ch1_state(True)\n",
    "qwg1.ch2_state(True)\n",
    "qwg1.ch3_state(True)\n",
    "qwg1.ch4_state(True)\n",
    "\n",
    "qwg1.run_mode('CONt')\n",
    "qwg1.start()"
   ]
  },
  {
   "cell_type": "code",
   "execution_count": null,
   "metadata": {
    "collapsed": true
   },
   "outputs": [],
   "source": []
  }
 ],
 "metadata": {
  "anaconda-cloud": {},
  "kernelspec": {
   "display_name": "Python [Root]",
   "language": "python",
   "name": "Python [Root]"
  },
  "language_info": {
   "codemirror_mode": {
    "name": "ipython",
    "version": 3
   },
   "file_extension": ".py",
   "mimetype": "text/x-python",
   "name": "python",
   "nbconvert_exporter": "python",
   "pygments_lexer": "ipython3",
   "version": "3.5.2"
  }
 },
 "nbformat": 4,
 "nbformat_minor": 0
}
