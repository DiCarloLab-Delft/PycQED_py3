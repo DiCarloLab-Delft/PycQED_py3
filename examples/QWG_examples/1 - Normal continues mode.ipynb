{
 "cells": [
  {
   "cell_type": "code",
   "execution_count": 1,
   "metadata": {
    "collapsed": false
   },
   "outputs": [
    {
     "name": "stdout",
     "output_type": "stream",
     "text": [
      "Connected to: QuTech QWG (serial:, firmware:swVersion=0.9beta16-CW_BITS=7-IOB_V2 swBuild=20171109-12:12:51 fwVersion=0.1.14 fwBuild=20171103-15:23:08 kmodVersion=0.79 kmodBuild=20171109-10:22:53) in 0.11s\n"
     ]
    }
   ],
   "source": [
    "from pycqed.instrument_drivers.physical_instruments.QuTech_AWG_Module \\\n",
    "    import QuTech_AWG_Module\n",
    "import numpy as np\n",
    "import matplotlib.pyplot as plt\n",
    "from scipy import signal\n",
    "%matplotlib inline\n",
    "\n",
    "#qwgDevice = \"QWG1\"\n",
    "qwgDevice = \"QWG2\"\n",
    "\n",
    "ip = None;\n",
    "\n",
    "if qwgDevice == \"QWG1\":\n",
    "    ip = \"192.168.0.10\"\n",
    "elif qwgDevice == \"QWG2\":\n",
    "    ip = \"192.168.0.11\"\n",
    "else:\n",
    "    raise RuntimeError('Did not select support device')\n",
    "    exit()\n",
    "\n",
    "qwg1 = QuTech_AWG_Module(\n",
    "    'QWG', address=ip,\n",
    "    port=5025)"
   ]
  },
  {
   "cell_type": "code",
   "execution_count": 2,
   "metadata": {
    "collapsed": false
   },
   "outputs": [],
   "source": [
    "qwg1.reset()"
   ]
  },
  {
   "cell_type": "code",
   "execution_count": 3,
   "metadata": {
    "collapsed": false
   },
   "outputs": [],
   "source": [
    "qwg1.stop()"
   ]
  },
  {
   "cell_type": "code",
   "execution_count": 4,
   "metadata": {
    "collapsed": false
   },
   "outputs": [
    {
     "data": {
      "text/plain": [
       "[<matplotlib.lines.Line2D at 0xa756b00>]"
      ]
     },
     "execution_count": 4,
     "metadata": {},
     "output_type": "execute_result"
    },
    {
     "data": {
      "image/png": "[encoded data removed]",
      "text/plain": [
       "<matplotlib.figure.Figure at 0xa6d2a20>"
      ]
     },
     "metadata": {},
     "output_type": "display_data"
    }
   ],
   "source": [
    "fs = 1e9\n",
    "\n",
    "# For continuous mode this value should be a multiple of 4e-9\n",
    "time = 52e-9\n",
    "\n",
    "length = int(time*fs)\n",
    "halflength = int(time*fs/2)\n",
    "\n",
    "waveformSine = np.sin(np.arange(length)*2*np.pi/length)\n",
    "waveformCosine = np.cos(np.arange(length)*2*np.pi/length)\n",
    "waveformStep = np.concatenate((np.ones(halflength), -1*np.ones(halflength)), axis=0)\n",
    "waveformGaus = signal.gaussian(length, std=14)\n",
    "\n",
    "qwg1.createWaveformReal('sin', waveformSine)\n",
    "qwg1.createWaveformReal('cos', waveformCosine)\n",
    "qwg1.createWaveformReal('step', waveformStep)\n",
    "plt.plot(waveformSine)\n",
    "plt.plot(waveformCosine)\n",
    "plt.plot(waveformStep)"
   ]
  },
  {
   "cell_type": "code",
   "execution_count": 5,
   "metadata": {
    "collapsed": true
   },
   "outputs": [],
   "source": [
    "# Set for continuous\n",
    "qwg1.set('ch1_default_waveform', 'sin')\n",
    "qwg1.set('ch2_default_waveform', 'sin')\n",
    "qwg1.set('ch3_default_waveform', 'step')\n",
    "qwg1.set('ch4_default_waveform', 'sin')"
   ]
  },
  {
   "cell_type": "code",
   "execution_count": 6,
   "metadata": {
    "collapsed": true
   },
   "outputs": [],
   "source": [
    "qwg1.ch_pair1_transform_matrix(np.array([[1, 0],[0, 1]]))\n",
    "qwg1.ch_pair3_transform_matrix(np.array([[1, 0],[0, 1]]))"
   ]
  },
  {
   "cell_type": "code",
   "execution_count": 7,
   "metadata": {
    "collapsed": true
   },
   "outputs": [],
   "source": [
    "qwg1.ch_pair1_sideband_frequency.set(0)\n",
    "qwg1.ch_pair3_sideband_frequency.set(0)"
   ]
  },
  {
   "cell_type": "code",
   "execution_count": 8,
   "metadata": {
    "collapsed": true
   },
   "outputs": [],
   "source": [
    "qwg1.ch1_offset(0)\n",
    "qwg1.ch2_offset(0)\n",
    "qwg1.ch3_offset(0)\n",
    "qwg1.ch4_offset(0)"
   ]
  },
  {
   "cell_type": "code",
   "execution_count": 9,
   "metadata": {
    "collapsed": true
   },
   "outputs": [],
   "source": [
    "qwg1.ch1_amp(1.8)\n",
    "qwg1.ch2_amp(1.8)\n",
    "qwg1.ch3_amp(1)\n",
    "qwg1.ch4_amp(1)"
   ]
  },
  {
   "cell_type": "code",
   "execution_count": 10,
   "metadata": {
    "collapsed": false
   },
   "outputs": [],
   "source": [
    "qwg1.ch1_state(True)\n",
    "qwg1.ch2_state(True)\n",
    "qwg1.ch3_state(True)\n",
    "qwg1.ch4_state(True)\n",
    "\n",
    "qwg1.run_mode('CONt')\n",
    "qwg1.start()"
   ]
  },
  {
   "cell_type": "code",
   "execution_count": null,
   "metadata": {
    "collapsed": true
   },
   "outputs": [],
   "source": []
  }
 ],
 "metadata": {
  "anaconda-cloud": {},
  "kernelspec": {
   "display_name": "Python [Root]",
   "language": "python",
   "name": "Python [Root]"
  },
  "language_info": {
   "codemirror_mode": {
    "name": "ipython",
    "version": 3
   },
   "file_extension": ".py",
   "mimetype": "text/x-python",
   "name": "python",
   "nbconvert_exporter": "python",
   "pygments_lexer": "ipython3",
   "version": "3.5.2"
  }
 },
 "nbformat": 4,
 "nbformat_minor": 0
}
