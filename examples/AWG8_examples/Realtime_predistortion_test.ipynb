{
 "cells": [
  {
   "cell_type": "markdown",
   "metadata": {
    "toc": true
   },
   "source": [
    "<h1>Table of Contents<span class=\"tocSkip\"></span></h1>\n",
    "<div class=\"toc\"><ul class=\"toc-item\"><li><span><a href=\"#Real-time-predistortion-demonstration\" data-toc-modified-id=\"Real-time-predistortion-demonstration-1\"><span class=\"toc-item-num\">1&nbsp;&nbsp;</span>Real time predistortion demonstration</a></span><ul class=\"toc-item\"><li><span><a href=\"#Load-PycQED\" data-toc-modified-id=\"Load-PycQED-1.1\"><span class=\"toc-item-num\">1.1&nbsp;&nbsp;</span>Load PycQED</a></span></li><li><span><a href=\"#Load-libraries-for-plotting-and-fitting\" data-toc-modified-id=\"Load-libraries-for-plotting-and-fitting-1.2\"><span class=\"toc-item-num\">1.2&nbsp;&nbsp;</span>Load libraries for plotting and fitting</a></span></li><li><span><a href=\"#Settings\" data-toc-modified-id=\"Settings-1.3\"><span class=\"toc-item-num\">1.3&nbsp;&nbsp;</span>Settings</a></span></li><li><span><a href=\"#Connect-to-the-HDAWG-device\" data-toc-modified-id=\"Connect-to-the-HDAWG-device-1.4\"><span class=\"toc-item-num\">1.4&nbsp;&nbsp;</span>Connect to the HDAWG device</a></span></li><li><span><a href=\"#Connect-to-the-UHFQC-Scope-device\" data-toc-modified-id=\"Connect-to-the-UHFQC-Scope-device-1.5\"><span class=\"toc-item-num\">1.5&nbsp;&nbsp;</span>Connect to the UHFQC Scope device</a></span></li><li><span><a href=\"#Update-parameter-file\" data-toc-modified-id=\"Update-parameter-file-1.6\"><span class=\"toc-item-num\">1.6&nbsp;&nbsp;</span>Update parameter file</a></span></li><li><span><a href=\"#Upload-SeqC-program\" data-toc-modified-id=\"Upload-SeqC-program-1.7\"><span class=\"toc-item-num\">1.7&nbsp;&nbsp;</span>Upload SeqC program</a></span></li><li><span><a href=\"#Enable-the-output-channels\" data-toc-modified-id=\"Enable-the-output-channels-1.8\"><span class=\"toc-item-num\">1.8&nbsp;&nbsp;</span>Enable the output channels</a></span></li><li><span><a href=\"#Start-the-AWG\" data-toc-modified-id=\"Start-the-AWG-1.9\"><span class=\"toc-item-num\">1.9&nbsp;&nbsp;</span>Start the AWG</a></span></li><li><span><a href=\"#Run-the-real-time-pre-distortion-on-channel-1\" data-toc-modified-id=\"Run-the-real-time-pre-distortion-on-channel-1-1.10\"><span class=\"toc-item-num\">1.10&nbsp;&nbsp;</span>Run the real-time pre-distortion on channel 1</a></span><ul class=\"toc-item\"><li><span><a href=\"#High-pass-filter-compensation-(HPC)\" data-toc-modified-id=\"High-pass-filter-compensation-(HPC)-1.10.1\"><span class=\"toc-item-num\">1.10.1&nbsp;&nbsp;</span>High-pass filter compensation (HPC)</a></span></li><li><span><a href=\"#Exponential-under--/-overshoot-compensation-(EXP)\" data-toc-modified-id=\"Exponential-under--/-overshoot-compensation-(EXP)-1.10.2\"><span class=\"toc-item-num\">1.10.2&nbsp;&nbsp;</span>Exponential under- / overshoot compensation (EXP)</a></span></li><li><span><a href=\"#Multiple-EXP-filters\" data-toc-modified-id=\"Multiple-EXP-filters-1.10.3\"><span class=\"toc-item-num\">1.10.3&nbsp;&nbsp;</span>Multiple EXP filters</a></span></li></ul></li><li><span><a href=\"#Finite-Impulse-Response-(FIR)-filter\" data-toc-modified-id=\"Finite-Impulse-Response-(FIR)-filter-1.11\"><span class=\"toc-item-num\">1.11&nbsp;&nbsp;</span>Finite Impulse Response (FIR) filter</a></span><ul class=\"toc-item\"><li><span><a href=\"#Generate-an-example-FIR-filter-kernel\" data-toc-modified-id=\"Generate-an-example-FIR-filter-kernel-1.11.1\"><span class=\"toc-item-num\">1.11.1&nbsp;&nbsp;</span>Generate an example FIR filter kernel</a></span></li><li><span><a href=\"#Configure-the-FIR-filter-kernel-to-the-device\" data-toc-modified-id=\"Configure-the-FIR-filter-kernel-to-the-device-1.11.2\"><span class=\"toc-item-num\">1.11.2&nbsp;&nbsp;</span>Configure the FIR filter kernel to the device</a></span></li><li><span><a href=\"#Measuring-the-precompensated-pulse\" data-toc-modified-id=\"Measuring-the-precompensated-pulse-1.11.3\"><span class=\"toc-item-num\">1.11.3&nbsp;&nbsp;</span>Measuring the precompensated pulse</a></span></li></ul></li><li><span><a href=\"#Bounce-correction\" data-toc-modified-id=\"Bounce-correction-1.12\"><span class=\"toc-item-num\">1.12&nbsp;&nbsp;</span>Bounce correction</a></span><ul class=\"toc-item\"><li><span><a href=\"#Load-measured-bounce\" data-toc-modified-id=\"Load-measured-bounce-1.12.1\"><span class=\"toc-item-num\">1.12.1&nbsp;&nbsp;</span>Load measured bounce</a></span></li><li><span><a href=\"#Run-real-time-pre-distortion-with-optimized-coefficients\" data-toc-modified-id=\"Run-real-time-pre-distortion-with-optimized-coefficients-1.12.2\"><span class=\"toc-item-num\">1.12.2&nbsp;&nbsp;</span>Run real-time pre-distortion with optimized coefficients</a></span></li><li><span><a href=\"#Load-measured-correction-and-compare\" data-toc-modified-id=\"Load-measured-correction-and-compare-1.12.3\"><span class=\"toc-item-num\">1.12.3&nbsp;&nbsp;</span>Load measured correction and compare</a></span></li></ul></li></ul></li></ul></div>"
   ]
  },
  {
   "cell_type": "markdown",
   "metadata": {},
   "source": [
    "# Real time predistortion demonstration"
   ]
  },
  {
   "cell_type": "markdown",
   "metadata": {},
   "source": [
    "## Load PycQED"
   ]
  },
  {
   "cell_type": "code",
   "execution_count": 1,
   "metadata": {
    "ExecuteTime": {
     "end_time": "2019-02-22T10:32:01.738864Z",
     "start_time": "2019-02-22T10:31:59.437634Z"
    }
   },
   "outputs": [],
   "source": [
    "from pycqed.instrument_drivers.physical_instruments.ZurichInstruments import ZI_HDAWG8\n",
    "from pycqed.measurement.kernel_functions_ZI import *"
   ]
  },
  {
   "cell_type": "markdown",
   "metadata": {},
   "source": [
    "## Load libraries for plotting and fitting"
   ]
  },
  {
   "cell_type": "code",
   "execution_count": 2,
   "metadata": {
    "ExecuteTime": {
     "end_time": "2019-02-22T10:32:01.757866Z",
     "start_time": "2019-02-22T10:32:01.740864Z"
    }
   },
   "outputs": [],
   "source": [
    "import numpy as np\n",
    "import matplotlib.pyplot as plt\n",
    "import matplotlib as mpl\n",
    "from mpl_toolkits.axes_grid1.inset_locator import inset_axes\n",
    "import matplotlib.patches as mpatches\n",
    "from matplotlib.collections import PatchCollection\n",
    "from scipy import signal\n",
    "from scipy.optimize import minimize"
   ]
  },
  {
   "cell_type": "markdown",
   "metadata": {},
   "source": [
    "## Settings"
   ]
  },
  {
   "cell_type": "code",
   "execution_count": 3,
   "metadata": {
    "ExecuteTime": {
     "end_time": "2019-02-22T10:32:01.763866Z",
     "start_time": "2019-02-22T10:32:01.759866Z"
    }
   },
   "outputs": [],
   "source": [
    "CHANNEL = 0     # the channel on which to demonstrate the precompensation\n",
    "CHANNEL_REF = 1 # the channel which is used as a reference for comparision (e.g triggering the scope)"
   ]
  },
  {
   "cell_type": "markdown",
   "metadata": {},
   "source": [
    "## Connect to the HDAWG device"
   ]
  },
  {
   "cell_type": "markdown",
   "metadata": {},
   "source": [
    "Please replace 'dev8018' by the correct device identifier."
   ]
  },
  {
   "cell_type": "code",
   "execution_count": 4,
   "metadata": {
    "ExecuteTime": {
     "end_time": "2019-02-22T10:32:03.812071Z",
     "start_time": "2019-02-22T10:32:01.765866Z"
    }
   },
   "outputs": [
    {
     "name": "stdout",
     "output_type": "stream",
     "text": [
      "Connecting to server on host localhost:8004 using API level 5\n",
      "Trying to connect to device dev8052\n",
      "Connected to device dev8052 over 1GbE\n",
      "Initialized awgModule\n",
      "Initialized scopeModule\n",
      "Connected to: ZurichInstruments HDAWG8 (serial:dev8052, firmware:58900) in 2.20s\n"
     ]
    }
   ],
   "source": [
    "# AWG8 = ZI_HDAWG8.ZI_HDAWG8('AWG8_8019', device='dev8019')\n",
    "AWG8 = ZI_HDAWG8.ZI_HDAWG8('AWG8_8052', device='dev8052')"
   ]
  },
  {
   "cell_type": "markdown",
   "metadata": {},
   "source": [
    "## Connect to the UHFQC Scope device"
   ]
  },
  {
   "cell_type": "code",
   "execution_count": 5,
   "metadata": {
    "ExecuteTime": {
     "end_time": "2019-02-22T10:31:55.405230Z",
     "start_time": "2019-02-22T10:31:50.826773Z"
    }
   },
   "outputs": [
    {
     "name": "stdout",
     "output_type": "stream",
     "text": [
      "Configuring AWG of UHFQC_2109\n",
      "Compilation started\n",
      "Detected 1 devices with a total of 1 AWG cores.\n",
      "Compiling string\n",
      "Compilation successful\n",
      "Uploading file to device dev2109, core 0\n",
      "File successfully uploaded in 0.97s\n",
      "Initialized UHFQC dev2109 in 4.63s\n"
     ]
    }
   ],
   "source": [
    "from pycqed.instrument_drivers.physical_instruments.ZurichInstruments import UHFQuantumController \n",
    "UHFQC = UHFQuantumController.UHFQC('UHFQC_2109', device='dev2109', interface='1GbE')"
   ]
  },
  {
   "cell_type": "markdown",
   "metadata": {},
   "source": [
    "## Update parameter file"
   ]
  },
  {
   "cell_type": "code",
   "execution_count": 6,
   "metadata": {
    "ExecuteTime": {
     "end_time": "2019-02-22T10:32:10.625752Z",
     "start_time": "2019-02-22T10:32:10.621752Z"
    }
   },
   "outputs": [
    {
     "name": "stdout",
     "output_type": "stream",
     "text": [
      "Help on method create_parameter_file in module pycqed.instrument_drivers.physical_instruments.ZurichInstruments.ZI_base_instrument:\n",
      "\n",
      "create_parameter_file() method of pycqed.instrument_drivers.physical_instruments.ZurichInstruments.ZI_HDAWG8.ZI_HDAWG8 instance\n",
      "    This generates a json file Containing the node_docs as extracted\n",
      "    from the ZI instrument API.\n",
      "    \n",
      "    In the future this file (instead of the s_node_pars and d_node_pars)\n",
      "    should be used to generate the drivers.\n",
      "\n"
     ]
    }
   ],
   "source": [
    "help(AWG8.create_parameter_file)"
   ]
  },
  {
   "cell_type": "markdown",
   "metadata": {},
   "source": [
    "Uncomment the following line to create a new parameter file"
   ]
  },
  {
   "cell_type": "code",
   "execution_count": 7,
   "metadata": {
    "ExecuteTime": {
     "end_time": "2019-02-22T10:32:11.439834Z",
     "start_time": "2019-02-22T10:32:11.437833Z"
    }
   },
   "outputs": [],
   "source": [
    "#AWG8.create_parameter_file()"
   ]
  },
  {
   "cell_type": "markdown",
   "metadata": {},
   "source": [
    "## Upload SeqC program"
   ]
  },
  {
   "cell_type": "code",
   "execution_count": 8,
   "metadata": {
    "ExecuteTime": {
     "end_time": "2019-02-22T13:09:10.699945Z",
     "start_time": "2019-02-22T13:09:09.518827Z"
    }
   },
   "outputs": [
    {
     "name": "stdout",
     "output_type": "stream",
     "text": [
      "Configuring AWG_nr 0.\n",
      "Compilation started\n",
      "Detected 1 devices with a total of 1 AWG cores.\n",
      "Compiling string\n",
      "Compilation successful\n",
      "Uploading file to device dev8052, core 0\n",
      "File successfully uploaded in 1.82s\n"
     ]
    }
   ],
   "source": [
    "FS = 2.4e9;\n",
    "PULSE_AMP = 0.5;\n",
    "PULSE_LENGTH = 5e-6;\n",
    "BUFFER = 400e-9; \n",
    "\n",
    "AWG8.configure_awg_from_string(0, '''\n",
    "// Constants\n",
    "const PULSE_AMP = {PULSE_AMP:};\n",
    "const PULSE_LENGTH = {PULSE_LENGTH:};\n",
    "const BUFFER = {BUFFER:}; \n",
    "\n",
    "// Waveform\n",
    "wave w0 = join(zeros(BUFFER), PULSE_AMP*ones(PULSE_LENGTH), zeros(PULSE_LENGTH), -PULSE_AMP*ones(PULSE_LENGTH), zeros(PULSE_LENGTH));\n",
    "wave w1 = join(PULSE_AMP*ones(PULSE_LENGTH), zeros(PULSE_LENGTH), -PULSE_AMP*ones(PULSE_LENGTH), zeros(PULSE_LENGTH + BUFFER));\n",
    "\n",
    "while (1) {{\n",
    "    // Play waveform on channel 1\n",
    "    setTrigger(1);\n",
    "    setTrigger(0);\n",
    "    playWave(w0, w1);\n",
    "}}   \n",
    "'''.format(PULSE_AMP = PULSE_AMP, PULSE_LENGTH = int(FS*PULSE_LENGTH), BUFFER = int(FS*BUFFER)))\n",
    "AWG8.start()"
   ]
  },
  {
   "cell_type": "markdown",
   "metadata": {},
   "source": [
    "## Enable the output channels"
   ]
  },
  {
   "cell_type": "code",
   "execution_count": 9,
   "metadata": {
    "ExecuteTime": {
     "end_time": "2019-02-22T13:09:12.436119Z",
     "start_time": "2019-02-22T13:09:12.413117Z"
    }
   },
   "outputs": [],
   "source": [
    "AWG8.set('sigouts_{:d}_on'.format(CHANNEL), 1)\n",
    "AWG8.set('sigouts_{:d}_on'.format(CHANNEL_REF), 1)"
   ]
  },
  {
   "cell_type": "markdown",
   "metadata": {},
   "source": [
    "### Lock the AWG8 onto the external reference clock"
   ]
  },
  {
   "cell_type": "code",
   "execution_count": 10,
   "metadata": {},
   "outputs": [],
   "source": [
    "AWG8.system_clocks_referenceclock_source(1)\n",
    "AWG8.sync()"
   ]
  },
  {
   "cell_type": "markdown",
   "metadata": {},
   "source": [
    "## Start the AWG"
   ]
  },
  {
   "cell_type": "code",
   "execution_count": 11,
   "metadata": {
    "ExecuteTime": {
     "end_time": "2019-02-22T13:09:13.340209Z",
     "start_time": "2019-02-22T13:09:13.303206Z"
    }
   },
   "outputs": [],
   "source": [
    "AWG8.start()"
   ]
  },
  {
   "cell_type": "markdown",
   "metadata": {},
   "source": [
    "## Run the real-time pre-distortion on channel 1"
   ]
  },
  {
   "cell_type": "code",
   "execution_count": 12,
   "metadata": {
    "ExecuteTime": {
     "end_time": "2019-02-22T13:09:14.584334Z",
     "start_time": "2019-02-22T13:09:14.573333Z"
    }
   },
   "outputs": [],
   "source": [
    "AWG8.set('sigouts_{:d}_precompensation_enable'.format(CHANNEL), 1)"
   ]
  },
  {
   "cell_type": "markdown",
   "metadata": {},
   "source": [
    "### High-pass filter compensation (HPC)\n",
    "\n",
    "* Exponential decay is compensated by linear increase.\n",
    "* Mapping from input $x_n$ to output $y_n$ for each sample with index $n$:\n",
    "  * $y_n = x_n + k(2u_n-x_n)$.\n",
    "* The state variable is $u_n = u_{n-8} + \\bar{x}_n$, where $\\bar{x}_n$ is an average over eight parallel paths. \n",
    "* Parameter $k = 1/(2\\tau f_s$), where $\\tau$ is the time constant and $f_s = 2.4\\;\\mathrm{GSa/s}$ is the sampling rate.\n",
    "* Important: the state variable is only updated every 8th clock cycle of the sample clock, i.e with rate $f_s/8 = 300\\;\\mathrm{MSa/s}$\n"
   ]
  },
  {
   "cell_type": "markdown",
   "metadata": {},
   "source": [
    "Set the time constant of the high-pass filter compensation:"
   ]
  },
  {
   "cell_type": "code",
   "execution_count": 13,
   "metadata": {
    "ExecuteTime": {
     "end_time": "2019-02-22T13:09:16.929568Z",
     "start_time": "2019-02-22T13:09:16.917567Z"
    }
   },
   "outputs": [],
   "source": [
    "AWG8.set('sigouts_{:d}_precompensation_highpass_0_timeconstant'.format(CHANNEL), 10e-6)"
   ]
  },
  {
   "cell_type": "markdown",
   "metadata": {},
   "source": [
    "Enable the high-pass filter compensations:"
   ]
  },
  {
   "cell_type": "code",
   "execution_count": 14,
   "metadata": {
    "ExecuteTime": {
     "end_time": "2019-02-22T13:09:22.962171Z",
     "start_time": "2019-02-22T13:09:22.949170Z"
    }
   },
   "outputs": [],
   "source": [
    "AWG8.set('sigouts_{:d}_precompensation_highpass_0_enable'.format(CHANNEL), 1)"
   ]
  },
  {
   "cell_type": "markdown",
   "metadata": {},
   "source": [
    "Check, whether the high-pass filter compensation overflowed (0 = no overflow, 1 = overflow detected):"
   ]
  },
  {
   "cell_type": "code",
   "execution_count": 15,
   "metadata": {
    "ExecuteTime": {
     "end_time": "2019-02-22T13:09:24.161291Z",
     "start_time": "2019-02-22T13:09:23.650240Z"
    }
   },
   "outputs": [
    {
     "data": {
      "text/plain": [
       "0"
      ]
     },
     "execution_count": 15,
     "metadata": {},
     "output_type": "execute_result"
    }
   ],
   "source": [
    "AWG8.get('sigouts_{:d}_precompensation_highpass_0_status'.format(CHANNEL))"
   ]
  },
  {
   "cell_type": "markdown",
   "metadata": {},
   "source": [
    "Note: the overflow status will be cleared when disabling the HPC filter."
   ]
  },
  {
   "cell_type": "markdown",
   "metadata": {},
   "source": [
    "Disable real-time pre-distortion again:"
   ]
  },
  {
   "cell_type": "code",
   "execution_count": 16,
   "metadata": {
    "ExecuteTime": {
     "end_time": "2019-02-22T13:09:26.820557Z",
     "start_time": "2019-02-22T13:09:26.807556Z"
    }
   },
   "outputs": [],
   "source": [
    "AWG8.set('sigouts_{:d}_precompensation_highpass_0_enable'.format(CHANNEL), 0)"
   ]
  },
  {
   "cell_type": "markdown",
   "metadata": {},
   "source": [
    "### Exponential under- / overshoot compensation (EXP)\n",
    "* Mapping from input $x_n$ to output $y_n$ for each sample with index $n$:\n",
    "   * $y_n = (1 - k) x_n + k u_n$\n",
    "* The state variable is an exponential moving average: $u_n = u_{n-32} + 32\\alpha (\\bar{x}_n - u_{n-32})$, where $\\bar{x}_n$ is an average over 32 consecutive samples. \n",
    "* Important: the state variable is only updated every 8th clock cycle of the sample clock, i.e with rate $f_s/8 = 300\\;\\mathrm{MSa/s}$\n",
    "* Parameters: \n",
    " * $\\alpha = 1 - e^{-1/(f_s\\tau(1+A)}$\n",
    " * $k = \\begin{cases}A/(1 + A - \\alpha) & \\text{, for } A\\geq0\\\\ A/((1+A)(1-\\alpha)) & \\text{, for } A<0\\end{cases}$\n",
    " * where $\\tau$ is the time constant and $A$ the amplitude of the over- / undershoot relative to the pulse amplitude."
   ]
  },
  {
   "cell_type": "code",
   "execution_count": 17,
   "metadata": {
    "ExecuteTime": {
     "end_time": "2019-02-22T13:09:27.844660Z",
     "start_time": "2019-02-22T13:09:27.831658Z"
    }
   },
   "outputs": [],
   "source": [
    "AWG8.set('sigouts_{:d}_precompensation_exponentials_0_timeconstant'.format(CHANNEL), 1e-6)"
   ]
  },
  {
   "cell_type": "code",
   "execution_count": 18,
   "metadata": {
    "ExecuteTime": {
     "end_time": "2019-02-22T13:09:28.034679Z",
     "start_time": "2019-02-22T13:09:28.023677Z"
    }
   },
   "outputs": [],
   "source": [
    "AWG8.set('sigouts_{:d}_precompensation_exponentials_0_amplitude'.format(CHANNEL), 0.25)"
   ]
  },
  {
   "cell_type": "code",
   "execution_count": 19,
   "metadata": {
    "ExecuteTime": {
     "end_time": "2019-02-22T13:09:28.228698Z",
     "start_time": "2019-02-22T13:09:28.214697Z"
    }
   },
   "outputs": [],
   "source": [
    "AWG8.set('sigouts_{:d}_precompensation_exponentials_0_enable'.format(CHANNEL), 1)"
   ]
  },
  {
   "cell_type": "markdown",
   "metadata": {},
   "source": [
    "### Multiple EXP filters"
   ]
  },
  {
   "cell_type": "markdown",
   "metadata": {},
   "source": [
    "Here we activate an additional EXP filter with index 1:"
   ]
  },
  {
   "cell_type": "code",
   "execution_count": 20,
   "metadata": {
    "ExecuteTime": {
     "end_time": "2019-02-22T13:09:28.810756Z",
     "start_time": "2019-02-22T13:09:28.797755Z"
    }
   },
   "outputs": [],
   "source": [
    "AWG8.set('sigouts_{:d}_precompensation_exponentials_1_timeconstant'.format(CHANNEL), 30e-9)"
   ]
  },
  {
   "cell_type": "code",
   "execution_count": 21,
   "metadata": {
    "ExecuteTime": {
     "end_time": "2019-02-22T13:09:29.212796Z",
     "start_time": "2019-02-22T13:09:29.015777Z"
    }
   },
   "outputs": [
    {
     "data": {
      "text/plain": [
       "2.9999760897680972e-08"
      ]
     },
     "execution_count": 21,
     "metadata": {},
     "output_type": "execute_result"
    }
   ],
   "source": [
    "AWG8.get('sigouts_{:d}_precompensation_exponentials_1_timeconstant'.format(CHANNEL))"
   ]
  },
  {
   "cell_type": "code",
   "execution_count": 22,
   "metadata": {
    "ExecuteTime": {
     "end_time": "2019-02-22T13:09:29.236799Z",
     "start_time": "2019-02-22T13:09:29.227798Z"
    }
   },
   "outputs": [],
   "source": [
    "AWG8.set('sigouts_{:d}_precompensation_exponentials_1_amplitude'.format(CHANNEL), -0.15)"
   ]
  },
  {
   "cell_type": "code",
   "execution_count": 23,
   "metadata": {
    "ExecuteTime": {
     "end_time": "2019-02-22T13:09:29.457821Z",
     "start_time": "2019-02-22T13:09:29.446820Z"
    }
   },
   "outputs": [],
   "source": [
    "AWG8.set('sigouts_{:d}_precompensation_exponentials_1_enable'.format(CHANNEL), 1)"
   ]
  },
  {
   "cell_type": "markdown",
   "metadata": {},
   "source": [
    "Disable all EXP filters again:"
   ]
  },
  {
   "cell_type": "code",
   "execution_count": 24,
   "metadata": {
    "ExecuteTime": {
     "end_time": "2019-02-22T13:09:30.129888Z",
     "start_time": "2019-02-22T13:09:30.108886Z"
    }
   },
   "outputs": [],
   "source": [
    "AWG8.set('sigouts_{:d}_precompensation_exponentials_0_enable'.format(CHANNEL), 0)\n",
    "AWG8.set('sigouts_{:d}_precompensation_exponentials_1_enable'.format(CHANNEL), 0)"
   ]
  },
  {
   "cell_type": "markdown",
   "metadata": {},
   "source": [
    "## Finite Impulse Response (FIR) filter"
   ]
  },
  {
   "cell_type": "markdown",
   "metadata": {},
   "source": [
    "### Generate an example FIR filter kernel"
   ]
  },
  {
   "cell_type": "code",
   "execution_count": 25,
   "metadata": {
    "ExecuteTime": {
     "end_time": "2019-02-22T13:09:31.186994Z",
     "start_time": "2019-02-22T13:09:31.182993Z"
    }
   },
   "outputs": [],
   "source": [
    "DSP_OUTCOMP_FIR_SINGLE_TAPS_C = 8 # Number of taps which are freely configurable\n",
    "DSP_OUTCOMP_FIR_PAIRWISE_TAPS_C = 32 # Number of coefficients which are applied to pairs of taps"
   ]
  },
  {
   "cell_type": "code",
   "execution_count": 26,
   "metadata": {
    "ExecuteTime": {
     "end_time": "2019-02-22T13:09:31.725048Z",
     "start_time": "2019-02-22T13:09:31.717047Z"
    }
   },
   "outputs": [],
   "source": [
    "taps = np.arange(DSP_OUTCOMP_FIR_SINGLE_TAPS_C + 2*DSP_OUTCOMP_FIR_PAIRWISE_TAPS_C, dtype=np.float)\n",
    "t0 = 0\n",
    "tau = 5\n",
    "fir_coefs = -0.1*np.piecewise(taps, [taps < t0, taps >= t0], [0.0, lambda x: np.exp(-(x - t0)/tau)])\n",
    "\n",
    "#fir_coefs = fir_coefs/np.abs(np.sum(fir_coefs))\n",
    "fir_coefs_single = fir_coefs[:DSP_OUTCOMP_FIR_SINGLE_TAPS_C]\n",
    "fir_coefs_pairwise = fir_coefs[DSP_OUTCOMP_FIR_SINGLE_TAPS_C::2]\n",
    "fir_coefs = np.concatenate((fir_coefs_single, fir_coefs_pairwise))\n",
    "fir_kernel = build_piecewise_kernel(fir_coefs, x_start = DSP_OUTCOMP_FIR_SINGLE_TAPS_C)\n",
    "fir_coefs[t0] = 1.0 - np.sum(fir_kernel[t0 + 1:])\n",
    "#kern_list.append(kern)\n",
    "fir_kernel = build_piecewise_kernel(fir_coefs, x_start = DSP_OUTCOMP_FIR_SINGLE_TAPS_C)"
   ]
  },
  {
   "cell_type": "markdown",
   "metadata": {},
   "source": [
    "Predict the step response"
   ]
  },
  {
   "cell_type": "code",
   "execution_count": 27,
   "metadata": {
    "ExecuteTime": {
     "end_time": "2019-02-22T13:09:32.746150Z",
     "start_time": "2019-02-22T13:09:32.741149Z"
    }
   },
   "outputs": [],
   "source": [
    "sim_time = np.arange(-5e-9, 35e-9, 1.0/2.4e9)\n",
    "sim_step = np.piecewise(sim_time, [sim_time < 0, sim_time >= 0], [0.0, 1.0])\n",
    "sim_step_response = signal.lfilter(fir_kernel, 1.0, sim_step)"
   ]
  },
  {
   "cell_type": "code",
   "execution_count": 28,
   "metadata": {
    "ExecuteTime": {
     "end_time": "2019-02-22T13:09:33.829258Z",
     "start_time": "2019-02-22T13:09:33.271202Z"
    }
   },
   "outputs": [
    {
     "data": {
      "image/png": "[encoded data removed]",
      "text/plain": [
       "<matplotlib.figure.Figure at 0x2732ef16668>"
      ]
     },
     "metadata": {},
     "output_type": "display_data"
    }
   ],
   "source": [
    "fir_coefs_taps = np.empty(40)\n",
    "\n",
    "fir_coefs_taps[:8] = np.arange(8)\n",
    "fir_coefs_taps[8:] = 8.0 + 2*np.arange(32)\n",
    "\n",
    "zoom_region = np.array([[-1.0, -0.10], [21.0, 0.02]])\n",
    "\n",
    "fig, (ax, ax2) = plt.subplots(1, 2, figsize=[17,7])\n",
    "ax.set_title('FIR filter kernel')\n",
    "ax.plot(fir_kernel, '-o')\n",
    "ax.plot(fir_coefs_taps, fir_coefs, 'o')\n",
    "ax.set_xlabel('Tap index')\n",
    "ax.set_ylabel('FIR kernel coefficient, b')\n",
    "\n",
    "rect = mpatches.Rectangle(zoom_region[0], np.diff(zoom_region[:, 0]), np.diff(zoom_region[:, 1]),  \n",
    "                          facecolor = None, edgecolor = 'black', linestyle='--', fill=False)\n",
    "ax.add_patch(rect)\n",
    "\n",
    "axins = inset_axes(ax, width=4.5, height=3.5)\n",
    "axins.plot(fir_kernel, '-o')\n",
    "axins.plot(fir_coefs_taps, fir_coefs, 'o')\n",
    "axins.set_xlim(zoom_region[:, 0])\n",
    "axins.set_ylim(zoom_region[:, 1])\n",
    "axins.set_xticks(np.arange(0, 21, 1))\n",
    "\n",
    "\n",
    "ax2.set_title('Simulated step response')\n",
    "ax2.plot(sim_time*1e9, sim_step_response, '-o')\n",
    "ax2.set_xlabel('Time, t (ns)')\n",
    "ax2.set_ylabel('Step response, y (a.u)')\n",
    "\n",
    "\n",
    "#plt.ylim([-0.10, 0.02])\n",
    "plt.show()"
   ]
  },
  {
   "cell_type": "markdown",
   "metadata": {},
   "source": [
    "### Configure the FIR filter kernel to the device"
   ]
  },
  {
   "cell_type": "code",
   "execution_count": 29,
   "metadata": {
    "ExecuteTime": {
     "end_time": "2019-02-22T13:09:34.449320Z",
     "start_time": "2019-02-22T13:09:34.437319Z"
    }
   },
   "outputs": [],
   "source": [
    "AWG8.set('sigouts_{:d}_precompensation_fir_coefficients'.format(CHANNEL), fir_coefs)"
   ]
  },
  {
   "cell_type": "markdown",
   "metadata": {},
   "source": [
    "Verify that the coefficients have been written correctly:"
   ]
  },
  {
   "cell_type": "code",
   "execution_count": 33,
   "metadata": {
    "ExecuteTime": {
     "end_time": "2019-02-22T13:09:35.931468Z",
     "start_time": "2019-02-22T13:09:35.334408Z"
    }
   },
   "outputs": [],
   "source": [
    "AWG8.sync()\n",
    "device_coefs = AWG8.get('sigouts_{:d}_precompensation_fir_coefficients'.format(CHANNEL))"
   ]
  },
  {
   "cell_type": "code",
   "execution_count": 34,
   "metadata": {
    "ExecuteTime": {
     "end_time": "2019-02-22T13:09:35.937469Z",
     "start_time": "2019-02-22T13:09:35.933468Z"
    }
   },
   "outputs": [],
   "source": [
    "assert np.all(np.isclose(device_coefs, fir_coefs, atol=1.0/(2**15))), \"ERROR: coefficient upload failed\""
   ]
  },
  {
   "cell_type": "markdown",
   "metadata": {},
   "source": [
    "Enable the real-time FIR filter"
   ]
  },
  {
   "cell_type": "code",
   "execution_count": 35,
   "metadata": {
    "ExecuteTime": {
     "end_time": "2019-02-22T13:09:37.139589Z",
     "start_time": "2019-02-22T13:09:37.126588Z"
    }
   },
   "outputs": [],
   "source": [
    "AWG8.set('sigouts_{:d}_precompensation_fir_enable'.format(CHANNEL), 1)"
   ]
  },
  {
   "cell_type": "markdown",
   "metadata": {},
   "source": [
    "### Measuring the precompensated pulse\n",
    "\n",
    "In order to measure a scope trace, connect : \n",
    "\n",
    "- AWG channel 0 to Signal in 0 on the UHFQC \n",
    "- AWG channel 1 to Trigger in on the UHFQC\n",
    "\n",
    "Go to the LabOne user interface and configure the Triggering of the scope in \n",
    "`UHFQC/scope/Trig` and select Trigger enable, and set `Signal` to `Trigger in 1`. Note that these nodes are not available in the driver.\n",
    "\n"
   ]
  },
  {
   "cell_type": "code",
   "execution_count": 36,
   "metadata": {
    "ExecuteTime": {
     "end_time": "2019-02-22T13:09:38.361711Z",
     "start_time": "2019-02-22T13:09:38.358711Z"
    }
   },
   "outputs": [
    {
     "name": "stdout",
     "output_type": "stream",
     "text": [
      "C:\\Users\\yvess\\Python\\PycQED_py3\\data\n",
      "Data directory set to: C:\\Users\\yvess\\Python\\PycQED_py3\\data\n"
     ]
    }
   ],
   "source": [
    "from pycqed.measurement.detector_functions import UHFQC_input_average_detector"
   ]
  },
  {
   "cell_type": "code",
   "execution_count": 37,
   "metadata": {
    "ExecuteTime": {
     "end_time": "2019-02-22T13:09:39.074782Z",
     "start_time": "2019-02-22T13:09:39.069782Z"
    }
   },
   "outputs": [],
   "source": [
    "def measure_scope_trace(): \n",
    "    d = UHFQC_input_average_detector(UHFQC)\n",
    "    d.prepare(sweep_points=None)\n",
    "    values = d.get_values()\n",
    "    return values[0]"
   ]
  },
  {
   "cell_type": "code",
   "execution_count": 38,
   "metadata": {
    "ExecuteTime": {
     "end_time": "2019-02-22T13:09:39.666842Z",
     "start_time": "2019-02-22T13:09:39.590834Z"
    }
   },
   "outputs": [],
   "source": [
    "AWG8.stop()\n",
    "AWG8.start()"
   ]
  },
  {
   "cell_type": "code",
   "execution_count": 39,
   "metadata": {},
   "outputs": [
    {
     "name": "stdout",
     "output_type": "stream",
     "text": [
      "Help on method awg_sequence_acquisition_and_pulse_SSB in module pycqed.instrument_drivers.physical_instruments.ZurichInstruments.UHFQuantumController:\n",
      "\n",
      "awg_sequence_acquisition_and_pulse_SSB(f_RO_mod, RO_amp, RO_pulse_length, acquisition_delay, dig_trigger=True) method of pycqed.instrument_drivers.physical_instruments.ZurichInstruments.UHFQuantumController.UHFQC instance\n",
      "\n"
     ]
    }
   ],
   "source": [
    "help(UHFQC.awg_sequence_acquisition_and_pulse_SSB)"
   ]
  },
  {
   "cell_type": "code",
   "execution_count": 40,
   "metadata": {
    "ExecuteTime": {
     "end_time": "2019-02-22T13:18:55.432413Z",
     "start_time": "2019-02-22T13:18:54.302300Z"
    }
   },
   "outputs": [
    {
     "name": "stdout",
     "output_type": "stream",
     "text": [
      "Configuring AWG of UHFQC_2109\n",
      "Compilation started\n",
      "Detected 1 devices with a total of 1 AWG cores.\n",
      "Compiling string\n",
      "Compilation successful\n",
      "Uploading file to device dev2109, core 0\n",
      "File successfully uploaded in 1.07s\n"
     ]
    }
   ],
   "source": [
    "UHFQC.awg_sequence_acquisition_and_pulse_SSB(0, 0, 100e-9, 0)"
   ]
  },
  {
   "cell_type": "code",
   "execution_count": 41,
   "metadata": {},
   "outputs": [
    {
     "data": {
      "text/plain": [
       "0"
      ]
     },
     "execution_count": 41,
     "metadata": {},
     "output_type": "execute_result"
    }
   ],
   "source": [
    "CHANNEL"
   ]
  },
  {
   "cell_type": "code",
   "execution_count": 42,
   "metadata": {},
   "outputs": [],
   "source": [
    "UHF_TRIGGER_LATENCY = 115e-9"
   ]
  },
  {
   "cell_type": "code",
   "execution_count": 43,
   "metadata": {
    "ExecuteTime": {
     "end_time": "2019-02-22T13:31:03.846247Z",
     "start_time": "2019-02-22T13:31:02.520114Z"
    }
   },
   "outputs": [
    {
     "data": {
      "image/png": "[encoded data removed]",
      "text/plain": [
       "<matplotlib.figure.Figure at 0x273317e9860>"
      ]
     },
     "metadata": {},
     "output_type": "display_data"
    }
   ],
   "source": [
    "\n",
    "AWG8.set('sigouts_{:d}_precompensation_enable'.format(CHANNEL_REF), 0)\n",
    "\n",
    "from pycqed.analysis.tools.plotting import set_xlabel, set_ylabel\n",
    "AWG8.set('sigouts_{:d}_precompensation_enable'.format(CHANNEL), 0)\n",
    "AWG8.set('sigouts_{:d}_precompensation_fir_enable'.format(CHANNEL), 0)\n",
    "\n",
    "values_ref=measure_scope_trace()\n",
    "latency_ref = AWG8.get('sigouts_0_precompensation_latency')\n",
    "\n",
    "AWG8.set('sigouts_{:d}_precompensation_enable'.format(CHANNEL), 1)\n",
    "AWG8.set('sigouts_{:d}_precompensation_fir_enable'.format(CHANNEL), 1)\n",
    "\n",
    "values_FIR=measure_scope_trace()\n",
    "latency_FIR = AWG8.get('sigouts_0_precompensation_latency')\n",
    "\n",
    "t_UHF=np.arange(len(values_ref))/1.8e9 - BUFFER + UHF_TRIGGER_LATENCY\n",
    "t_HDAWG = np.arange(min(t_UHF), max(t_UHF), 1/2.4e9)\n",
    "\n",
    "values_ref_HDAWG = np.interp(t_HDAWG, t_UHF, values_ref)\n",
    "pred_response_HDAWG = signal.lfilter(fir_kernel, 1.0, values_ref_HDAWG)\n",
    "\n",
    "\n",
    "f, ax=plt.subplots()\n",
    "ax.plot(t_UHF - latency_ref, values_ref, label='Uncorrected')\n",
    "ax.plot(t_UHF - latency_FIR, values_FIR, ls='--', label='Realtime FIR')\n",
    "ax.plot(t_HDAWG - latency_ref, pred_response_HDAWG, ls='-.', label='Predicted FIR')\n",
    "ax.legend()\n",
    "set_ylabel(ax, 'Amplitude', 'V')\n",
    "# ax.set_xlim(35e-9,55e-9)\n",
    "# ax.set_xlim(0.0e-9, 100e-9)\n",
    "ax.set_xlim(-5e-9, 15e-9)\n",
    "set_xlabel(ax, 'Time', 's')\n",
    "\n",
    "f.patch.set_alpha(0)\n",
    "f.savefig('FIR_test.png', dpi=600)\n"
   ]
  },
  {
   "cell_type": "markdown",
   "metadata": {},
   "source": [
    "#### Compare to offline precompensation"
   ]
  },
  {
   "cell_type": "code",
   "execution_count": 44,
   "metadata": {},
   "outputs": [
    {
     "name": "stdout",
     "output_type": "stream",
     "text": [
      "Configuring AWG_nr 0.\n",
      "Compilation started\n",
      "Detected 1 devices with a total of 1 AWG cores.\n",
      "Compiling string\n",
      "Compilation successful\n",
      "Uploading file to device dev8052, core 0\n",
      "File successfully uploaded in 2.05s\n"
     ]
    },
    {
     "data": {
      "image/png": "[encoded data removed]",
      "text/plain": [
       "<matplotlib.figure.Figure at 0x2732f341f98>"
      ]
     },
     "metadata": {},
     "output_type": "display_data"
    }
   ],
   "source": [
    "# Offline precompensation\n",
    "AWG8.set('sigouts_{:d}_precompensation_fir_enable'.format(CHANNEL), 0)\n",
    "AWG8.set('sigouts_{:d}_precompensation_enable'.format(CHANNEL), 0)\n",
    "\n",
    "AWG8.stop()\n",
    "w_pulses = np.concatenate((np.zeros(int(FS*BUFFER)), \n",
    "                           PULSE_AMP*np.ones(int(FS*PULSE_LENGTH)), \n",
    "                           PULSE_AMP*np.zeros(int(FS*PULSE_LENGTH)),\n",
    "                           -PULSE_AMP*np.ones(int(FS*PULSE_LENGTH)),\n",
    "                           PULSE_AMP*np.zeros(int(FS*PULSE_LENGTH))\n",
    "                          ))\n",
    "# w_ref = np.concatenate((PULSE_AMP*np.ones(2000), np.zeros(int(FS*BUFFER))))\n",
    "\n",
    "# Apply precompensation offline\n",
    "w_pulses_offlineFIR = signal.lfilter(fir_kernel, 1.0, w_pulses)\n",
    "\n",
    "w0_name = \"w_pulses_offlineFIR\"\n",
    "# w1_name = \"w_pulses_ref\"\n",
    "\n",
    "AWG8._write_csv_waveform(w0_name, w_pulses_offlineFIR)\n",
    "\n",
    "AWG8.configure_awg_from_string(0, '''\n",
    "// Constants\n",
    "const PULSE_AMP = {PULSE_AMP:};\n",
    "const PULSE_LENGTH = {PULSE_LENGTH:};\n",
    "const BUFFER = {BUFFER:}; \n",
    "\n",
    "// Waveform\n",
    "wave w0 = \"{DEV_NAME:}_{W0_NAME:}\";\n",
    "wave w1 = join(PULSE_AMP*ones(PULSE_LENGTH), zeros(PULSE_LENGTH), -PULSE_AMP*ones(PULSE_LENGTH), zeros(PULSE_LENGTH + BUFFER));\n",
    "\n",
    "while (1) {{\n",
    "    // Play waveform on channel 1\n",
    "    setTrigger(1);\n",
    "    setTrigger(0);\n",
    "    playWave(w0, w1);\n",
    "}}   \n",
    "'''.format(PULSE_AMP = PULSE_AMP, \n",
    "           PULSE_LENGTH = int(FS*PULSE_LENGTH), \n",
    "           BUFFER = int(FS*BUFFER),\n",
    "           DEV_NAME = AWG8._devname,\n",
    "           W0_NAME = w0_name\n",
    "          ))\n",
    "\n",
    "AWG8.sync()\n",
    "AWG8.start()\n",
    "values_offlineFIR=measure_scope_trace()\n",
    "\n",
    "f, ax=plt.subplots()\n",
    "ax.plot(t_UHF - latency_ref, values_ref, label='Uncorrected')\n",
    "ax.plot(t_UHF - latency_FIR, values_FIR, ls='--', label='Realtime FIR')\n",
    "ax.plot(t_UHF - latency_ref, values_offlineFIR, ls='-.', label='Offline FIR')\n",
    "ax.legend()\n",
    "set_ylabel(ax, 'Amplitude', 'V')\n",
    "# ax.set_xlim(35e-9,55e-9)\n",
    "# ax.set_xlim(20e-9, 100e-9)\n",
    "ax.set_xlim(-5e-9, 20e-9)\n",
    "set_xlabel(ax, 'Time', 's')\n",
    "\n",
    "f.patch.set_alpha(0)\n",
    "f.savefig('FIR_test_direct_comp.png', dpi=600)"
   ]
  },
  {
   "cell_type": "markdown",
   "metadata": {},
   "source": [
    "### Repeat for 20 ns Hanning waveform"
   ]
  },
  {
   "cell_type": "code",
   "execution_count": 62,
   "metadata": {},
   "outputs": [
    {
     "name": "stdout",
     "output_type": "stream",
     "text": [
      "Configuring AWG_nr 0.\n",
      "Compilation started\n",
      "Detected 1 devices with a total of 1 AWG cores.\n",
      "Compiling string\n",
      "Compilation successful\n",
      "Uploading file to device dev8052, core 0\n",
      "File successfully uploaded in 1.17s\n"
     ]
    }
   ],
   "source": [
    "FS = 2.4e9;\n",
    "PULSE_AMP = 0.5;\n",
    "PULSE_LENGTH = 20.0e-9;\n",
    "BUFFER = 400e-9; \n",
    "\n",
    "AWG8.configure_awg_from_string(0, '''\n",
    "// Constants\n",
    "const PULSE_AMP = {PULSE_AMP:};\n",
    "const PULSE_LENGTH = {PULSE_LENGTH:};\n",
    "const BUFFER = {BUFFER:}; \n",
    "\n",
    "// Waveform\n",
    "wave w0 = join(zeros(BUFFER), PULSE_AMP*hann(PULSE_LENGTH), zeros(PULSE_LENGTH), -PULSE_AMP*hann(PULSE_LENGTH), zeros(PULSE_LENGTH));\n",
    "wave w1 = join(PULSE_AMP*ones(PULSE_LENGTH), zeros(PULSE_LENGTH), -PULSE_AMP*ones(PULSE_LENGTH), zeros(PULSE_LENGTH + BUFFER));\n",
    "\n",
    "while (1) {{\n",
    "    // Play waveform on channel 1\n",
    "    setTrigger(1);\n",
    "    setTrigger(0);\n",
    "    playWave(w0, w1);\n",
    "}}   \n",
    "'''.format(PULSE_AMP = PULSE_AMP, PULSE_LENGTH = int(FS*PULSE_LENGTH), BUFFER = int(FS*BUFFER)))\n",
    "AWG8.start()"
   ]
  },
  {
   "cell_type": "code",
   "execution_count": 63,
   "metadata": {},
   "outputs": [
    {
     "data": {
      "image/png": "[encoded data removed]",
      "text/plain": [
       "<matplotlib.figure.Figure at 0x27332b86320>"
      ]
     },
     "metadata": {},
     "output_type": "display_data"
    }
   ],
   "source": [
    "\n",
    "AWG8.set('sigouts_{:d}_precompensation_enable'.format(CHANNEL_REF), 0)\n",
    "\n",
    "from pycqed.analysis.tools.plotting import set_xlabel, set_ylabel\n",
    "AWG8.set('sigouts_{:d}_precompensation_enable'.format(CHANNEL), 0)\n",
    "AWG8.set('sigouts_{:d}_precompensation_fir_enable'.format(CHANNEL), 0)\n",
    "\n",
    "values_ref=measure_scope_trace()\n",
    "latency_ref = AWG8.get('sigouts_0_precompensation_latency')\n",
    "\n",
    "AWG8.set('sigouts_{:d}_precompensation_enable'.format(CHANNEL), 1)\n",
    "AWG8.set('sigouts_{:d}_precompensation_fir_enable'.format(CHANNEL), 1)\n",
    "\n",
    "values_FIR=measure_scope_trace()\n",
    "latency_FIR = AWG8.get('sigouts_0_precompensation_latency')\n",
    "\n",
    "values_ref_HDAWG = np.interp(t_HDAWG, t_UHF, values_ref)\n",
    "pred_response_HDAWG = signal.lfilter(fir_kernel, 1.0, values_ref_HDAWG)\n",
    "\n",
    "t=np.arange(len(values_ref))/1.8e9 - BUFFER + UHF_TRIGGER_LATENCY\n",
    "f, ax=plt.subplots()\n",
    "ax.plot(t_UHF - latency_ref, values_ref, label='Uncorrected')\n",
    "ax.plot(t_UHF - latency_FIR, values_FIR, ls='--', label='Realtime FIR')\n",
    "ax.plot(t_HDAWG - latency_ref, pred_response_HDAWG, ls='-.', label='Predicted FIR')\n",
    "ax.legend()\n",
    "set_ylabel(ax, 'Amplitude', 'V')\n",
    "# ax.set_xlim(35e-9,55e-9)\n",
    "# ax.set_xlim(0.0e-9, 100e-9)\n",
    "ax.set_xlim(-5e-9, 30e-9)\n",
    "set_xlabel(ax, 'Time', 's')\n",
    "\n",
    "f.patch.set_alpha(0)\n",
    "f.savefig('FIR_test_hann.png', dpi=600)\n"
   ]
  },
  {
   "cell_type": "markdown",
   "metadata": {},
   "source": [
    "#### Compare to offline precompensation"
   ]
  },
  {
   "cell_type": "code",
   "execution_count": 65,
   "metadata": {},
   "outputs": [
    {
     "name": "stdout",
     "output_type": "stream",
     "text": [
      "Configuring AWG_nr 0.\n",
      "Compilation started\n",
      "Detected 1 devices with a total of 1 AWG cores.\n",
      "Compiling string\n",
      "Compilation successful\n",
      "Uploading file to device dev8052, core 0\n",
      "File successfully uploaded in 1.17s\n"
     ]
    },
    {
     "data": {
      "image/png": "[encoded data removed]",
      "text/plain": [
       "<matplotlib.figure.Figure at 0x273317fdeb8>"
      ]
     },
     "metadata": {},
     "output_type": "display_data"
    }
   ],
   "source": [
    "\n",
    "# Offline precompensation\n",
    "AWG8.set('sigouts_{:d}_precompensation_fir_enable'.format(CHANNEL), 0)\n",
    "AWG8.set('sigouts_{:d}_precompensation_enable'.format(CHANNEL), 0)\n",
    "\n",
    "AWG8.stop()\n",
    "w_pulses = np.concatenate((np.zeros(int(FS*BUFFER)), \n",
    "                           PULSE_AMP*signal.windows.hann(int(FS*PULSE_LENGTH)), \n",
    "                           PULSE_AMP*np.zeros(int(FS*PULSE_LENGTH)),\n",
    "                           -PULSE_AMP*signal.windows.hann(int(FS*PULSE_LENGTH)),\n",
    "                           PULSE_AMP*np.zeros(int(FS*PULSE_LENGTH))\n",
    "                          ))\n",
    "# w_ref = np.concatenate((PULSE_AMP*np.ones(2000), np.zeros(int(FS*BUFFER))))\n",
    "\n",
    "# Apply precompensation offline\n",
    "w_pulses_offlineFIR = signal.lfilter(fir_kernel, 1.0, w_pulses)\n",
    "\n",
    "w0_name = \"w_pulses_offlineFIR\"\n",
    "# w1_name = \"w_pulses_ref\"\n",
    "\n",
    "AWG8._write_csv_waveform(w0_name, w_pulses_offlineFIR)\n",
    "\n",
    "AWG8.configure_awg_from_string(0, '''\n",
    "// Constants\n",
    "const PULSE_AMP = {PULSE_AMP:};\n",
    "const PULSE_LENGTH = {PULSE_LENGTH:};\n",
    "const BUFFER = {BUFFER:}; \n",
    "\n",
    "// Waveform\n",
    "wave w0 = \"{DEV_NAME:}_{W0_NAME:}\";\n",
    "wave w1 = join(PULSE_AMP*ones(PULSE_LENGTH), zeros(PULSE_LENGTH), -PULSE_AMP*ones(PULSE_LENGTH), zeros(PULSE_LENGTH + BUFFER));\n",
    "\n",
    "while (1) {{\n",
    "    // Play waveform on channel 1\n",
    "    setTrigger(1);\n",
    "    setTrigger(0);\n",
    "    playWave(w0, w1);\n",
    "}}   \n",
    "'''.format(PULSE_AMP = PULSE_AMP, \n",
    "           PULSE_LENGTH = int(FS*PULSE_LENGTH), \n",
    "           BUFFER = int(FS*BUFFER),\n",
    "           DEV_NAME = AWG8._devname,\n",
    "           W0_NAME = w0_name\n",
    "          ))\n",
    "\n",
    "AWG8.sync()\n",
    "AWG8.start()\n",
    "values_offlineFIR=measure_scope_trace()\n",
    "\n",
    "f, ax=plt.subplots()\n",
    "ax.plot(t_UHF - latency_ref, values_ref, label='Uncorrected')\n",
    "ax.plot(t_UHF - latency_FIR, values_FIR, ls='--', label='Realtime FIR')\n",
    "ax.plot(t_UHF - latency_ref, values_offlineFIR, ls='-.', label='Offline FIR')\n",
    "ax.legend()\n",
    "set_ylabel(ax, 'Amplitude', 'V')\n",
    "# ax.set_xlim(35e-9,55e-9)\n",
    "# ax.set_xlim(20e-9, 100e-9)\n",
    "ax.set_xlim(-5e-9, 30e-9)\n",
    "set_xlabel(ax, 'Time', 's')\n",
    "\n",
    "f.patch.set_alpha(0)\n",
    "f.savefig('FIR_test_direct_comp_hann.png', dpi=600)"
   ]
  },
  {
   "cell_type": "markdown",
   "metadata": {},
   "source": [
    "## Bounce correction"
   ]
  },
  {
   "cell_type": "code",
   "execution_count": 31,
   "metadata": {
    "ExecuteTime": {
     "end_time": "2019-02-22T10:17:35.193218Z",
     "start_time": "2019-02-22T10:17:35.184217Z"
    }
   },
   "outputs": [],
   "source": [
    "AWG8.set('sigouts_{:d}_precompensation_bounces_0_delay'.format(CHANNEL), 11.1e-9)"
   ]
  },
  {
   "cell_type": "code",
   "execution_count": 32,
   "metadata": {
    "ExecuteTime": {
     "end_time": "2019-02-22T10:17:35.835282Z",
     "start_time": "2019-02-22T10:17:35.823281Z"
    }
   },
   "outputs": [],
   "source": [
    "AWG8.set('sigouts_{:d}_precompensation_bounces_0_amplitude'.format(CHANNEL), 0.286)"
   ]
  },
  {
   "cell_type": "code",
   "execution_count": 33,
   "metadata": {
    "ExecuteTime": {
     "end_time": "2019-02-22T10:17:36.280326Z",
     "start_time": "2019-02-22T10:17:36.270325Z"
    }
   },
   "outputs": [],
   "source": [
    "AWG8.set('sigouts_{:d}_precompensation_bounces_0_enable'.format(CHANNEL), 1)"
   ]
  },
  {
   "cell_type": "markdown",
   "metadata": {},
   "source": [
    "Disable the bounce correction again:"
   ]
  },
  {
   "cell_type": "code",
   "execution_count": 34,
   "metadata": {
    "ExecuteTime": {
     "end_time": "2019-02-22T10:18:37.180416Z",
     "start_time": "2019-02-22T10:18:37.170415Z"
    }
   },
   "outputs": [],
   "source": [
    "AWG8.set('sigouts_{:d}_precompensation_bounces_0_enable'.format(CHANNEL), 0)"
   ]
  },
  {
   "cell_type": "markdown",
   "metadata": {},
   "source": [
    "### Load measured bounce"
   ]
  },
  {
   "cell_type": "code",
   "execution_count": 36,
   "metadata": {
    "ExecuteTime": {
     "end_time": "2019-02-22T10:19:23.159013Z",
     "start_time": "2019-02-22T10:19:23.006998Z"
    }
   },
   "outputs": [
    {
     "data": {
      "image/png": "[encoded data removed]",
      "text/plain": [
       "<Figure size 432x288 with 1 Axes>"
      ]
     },
     "metadata": {},
     "output_type": "display_data"
    }
   ],
   "source": [
    "data = np.loadtxt('RefCurve_2018-07-05_0_125749.Wfm.csv', delimiter=';')\n",
    "plt.plot(data[:,0]*1e9, data[:,1])\n",
    "plt.xlabel('Time, t (ns)')\n",
    "plt.ylabel('Voltage (V)')\n",
    "plt.tight_layout()\n",
    "\n",
    "plt.show()"
   ]
  },
  {
   "cell_type": "markdown",
   "metadata": {},
   "source": [
    "Determine scope sample rate:"
   ]
  },
  {
   "cell_type": "code",
   "execution_count": 37,
   "metadata": {
    "ExecuteTime": {
     "end_time": "2019-02-22T10:19:25.054203Z",
     "start_time": "2019-02-22T10:19:25.052203Z"
    }
   },
   "outputs": [],
   "source": [
    "scope_sample_rate = 1/(data[1,0]-data[0,0])"
   ]
  },
  {
   "cell_type": "markdown",
   "metadata": {},
   "source": [
    "Define ideal step response"
   ]
  },
  {
   "cell_type": "code",
   "execution_count": 38,
   "metadata": {
    "ExecuteTime": {
     "end_time": "2019-02-22T10:19:26.146312Z",
     "start_time": "2019-02-22T10:19:26.005298Z"
    }
   },
   "outputs": [
    {
     "data": {
      "image/png": "[encoded data removed]",
      "text/plain": [
       "<Figure size 432x288 with 1 Axes>"
      ]
     },
     "metadata": {},
     "output_type": "display_data"
    }
   ],
   "source": [
    "threshold = 0.15\n",
    "step_response = data[0,1]*np.ones(len(data))\n",
    "step_response[data[:,1] > threshold] = data[-1,1]\n",
    "\n",
    "plt.plot(data[:,0]*1e9, data[:,1])\n",
    "plt.plot(data[:,0]*1e9, step_response)\n",
    "plt.xlabel('Time, t (ns)')\n",
    "plt.ylabel('Voltage (V)')\n",
    "plt.tight_layout()\n",
    "\n",
    "plt.show()"
   ]
  },
  {
   "cell_type": "markdown",
   "metadata": {},
   "source": [
    "Fit correction:"
   ]
  },
  {
   "cell_type": "code",
   "execution_count": 39,
   "metadata": {
    "ExecuteTime": {
     "end_time": "2019-02-22T10:19:27.438441Z",
     "start_time": "2019-02-22T10:19:27.435441Z"
    }
   },
   "outputs": [],
   "source": [
    "bnds = ((0.4e-9, 103e-9), (-1, 1))"
   ]
  },
  {
   "cell_type": "code",
   "execution_count": 40,
   "metadata": {
    "ExecuteTime": {
     "end_time": "2019-02-22T10:19:28.032501Z",
     "start_time": "2019-02-22T10:19:28.028500Z"
    }
   },
   "outputs": [
    {
     "data": {
      "text/plain": [
       "1.03e-07"
      ]
     },
     "execution_count": 40,
     "metadata": {},
     "output_type": "execute_result"
    }
   ],
   "source": [
    "bnds[0][1]"
   ]
  },
  {
   "cell_type": "code",
   "execution_count": 41,
   "metadata": {
    "ExecuteTime": {
     "end_time": "2019-02-22T10:19:28.657563Z",
     "start_time": "2019-02-22T10:19:28.652563Z"
    }
   },
   "outputs": [],
   "source": [
    "def objective_func(params):\n",
    "    pred_corr = first_order_bounce_corr(data[:,1], min(max(params[0], bnds[0][0]), bnds[0][1]), params[1], 2.4e9, scope_sample_rate)\n",
    "    step_response = pred_corr[0]*np.ones(len(pred_corr))\n",
    "    step_response[pred_corr > threshold] = pred_corr[-1]\n",
    "    penalty = 0 if bnds[0][0] < params[0] < bnds[0][1] else 10\n",
    "    return np.mean(np.abs(pred_corr-step_response)) + penalty"
   ]
  },
  {
   "cell_type": "code",
   "execution_count": 42,
   "metadata": {
    "ExecuteTime": {
     "end_time": "2019-02-22T10:19:29.565654Z",
     "start_time": "2019-02-22T10:19:29.355633Z"
    }
   },
   "outputs": [],
   "source": [
    "opt = minimize(objective_func, (10e-9, 0.3), method='Nelder-Mead')"
   ]
  },
  {
   "cell_type": "code",
   "execution_count": 43,
   "metadata": {
    "ExecuteTime": {
     "end_time": "2019-02-22T10:19:29.992697Z",
     "start_time": "2019-02-22T10:19:29.987696Z"
    }
   },
   "outputs": [
    {
     "data": {
      "text/plain": [
       " final_simplex: (array([[1.11250000e-08, 2.75625000e-01],\n",
       "       [1.11545410e-08, 2.75570068e-01],\n",
       "       [1.11675415e-08, 2.75669861e-01]]), array([0.00260051, 0.00260052, 0.00260052]))\n",
       "           fun: 0.0026005126780546265\n",
       "       message: 'Optimization terminated successfully.'\n",
       "          nfev: 36\n",
       "           nit: 18\n",
       "        status: 0\n",
       "       success: True\n",
       "             x: array([1.11250e-08, 2.75625e-01])"
      ]
     },
     "execution_count": 43,
     "metadata": {},
     "output_type": "execute_result"
    }
   ],
   "source": [
    "opt"
   ]
  },
  {
   "cell_type": "code",
   "execution_count": 44,
   "metadata": {
    "ExecuteTime": {
     "end_time": "2019-02-22T10:19:30.648762Z",
     "start_time": "2019-02-22T10:19:30.637761Z"
    }
   },
   "outputs": [],
   "source": [
    "pred_corr = first_order_bounce_corr(data[:,1], opt.x[0], opt.x[1], 2.4e9, scope_sample_rate, sim_hw_delay = True)\n",
    "step_response = pred_corr[0]*np.ones(len(pred_corr))\n",
    "step_response[pred_corr > threshold] = pred_corr[-1]"
   ]
  },
  {
   "cell_type": "code",
   "execution_count": 45,
   "metadata": {
    "ExecuteTime": {
     "end_time": "2019-02-22T10:19:31.337831Z",
     "start_time": "2019-02-22T10:19:31.181815Z"
    }
   },
   "outputs": [
    {
     "data": {
      "image/png": "[encoded data removed]",
      "text/plain": [
       "<Figure size 432x288 with 1 Axes>"
      ]
     },
     "metadata": {},
     "output_type": "display_data"
    }
   ],
   "source": [
    "plt.plot(data[:,0]*1e9, pred_corr)\n",
    "plt.plot(data[:,0]*1e9, step_response)\n",
    "plt.xlabel('Time, t (ns)')\n",
    "plt.ylabel('Voltage (V)')\n",
    "plt.tight_layout()\n",
    "\n",
    "plt.show()"
   ]
  },
  {
   "cell_type": "markdown",
   "metadata": {},
   "source": [
    "### Run real-time pre-distortion with optimized coefficients"
   ]
  },
  {
   "cell_type": "code",
   "execution_count": 46,
   "metadata": {
    "ExecuteTime": {
     "end_time": "2019-02-22T10:19:32.444942Z",
     "start_time": "2019-02-22T10:19:32.435941Z"
    }
   },
   "outputs": [],
   "source": [
    "AWG8.set('sigouts_{:d}_precompensation_bounces_0_delay'.format(CHANNEL), opt.x[0])"
   ]
  },
  {
   "cell_type": "code",
   "execution_count": 47,
   "metadata": {
    "ExecuteTime": {
     "end_time": "2019-02-22T10:19:33.020999Z",
     "start_time": "2019-02-22T10:19:33.011998Z"
    }
   },
   "outputs": [],
   "source": [
    "AWG8.set('sigouts_{:d}_precompensation_bounces_0_amplitude'.format(CHANNEL), opt.x[1])"
   ]
  },
  {
   "cell_type": "code",
   "execution_count": 48,
   "metadata": {
    "ExecuteTime": {
     "end_time": "2019-02-22T10:19:33.598057Z",
     "start_time": "2019-02-22T10:19:33.588056Z"
    }
   },
   "outputs": [],
   "source": [
    "AWG8.set('sigouts_{:d}_precompensation_bounces_0_enable'.format(CHANNEL), 0)"
   ]
  },
  {
   "cell_type": "markdown",
   "metadata": {},
   "source": [
    "### Load measured correction and compare"
   ]
  },
  {
   "cell_type": "code",
   "execution_count": 49,
   "metadata": {
    "ExecuteTime": {
     "end_time": "2019-02-22T10:19:35.978295Z",
     "start_time": "2019-02-22T10:19:34.564154Z"
    }
   },
   "outputs": [
    {
     "data": {
      "image/png": "[encoded data removed]",
      "text/plain": [
       "<Figure size 432x288 with 1 Axes>"
      ]
     },
     "metadata": {},
     "output_type": "display_data"
    }
   ],
   "source": [
    "data_corr = np.loadtxt('RefCurve_2018-07-05_1_130234.Wfm.csv', delimiter=';')\n",
    "plt.plot(data[:,0]*1e9, data[:,1], label='No correction')\n",
    "plt.plot(data[:,0]*1e9, data_corr[:,1], label='Real-time bounce correction')\n",
    "plt.xlabel('Time, t (ns)')\n",
    "plt.ylabel('Voltage (V)')\n",
    "plt.tight_layout()\n",
    "plt.legend()\n",
    "plt.savefig('bounce_correction_measurements.png',dpi=600,bbox_inches='tight')\n",
    "plt.show()"
   ]
  },
  {
   "cell_type": "code",
   "execution_count": 50,
   "metadata": {
    "ExecuteTime": {
     "end_time": "2019-02-22T10:19:38.152512Z",
     "start_time": "2019-02-22T10:19:36.796377Z"
    }
   },
   "outputs": [
    {
     "data": {
      "image/png": "[encoded data removed]",
      "text/plain": [
       "<Figure size 432x288 with 1 Axes>"
      ]
     },
     "metadata": {},
     "output_type": "display_data"
    }
   ],
   "source": [
    "data_corr = np.loadtxt('RefCurve_2018-07-05_1_130234.Wfm.csv', delimiter=';')\n",
    "#plt.plot(data[:,0]*1e9, data[:,1], label='No correction')\n",
    "plt.plot(data[:,0]*1e9, data_corr[:,1], label='Measured real-time bounce correction')\n",
    "plt.plot(data[:,0]*1e9, pred_corr, label='Predicted real-time bounce correction')\n",
    "plt.xlabel('Time, t (ns)')\n",
    "plt.ylabel('Voltage (V)')\n",
    "plt.tight_layout()\n",
    "plt.legend()\n",
    "plt.savefig('bounce_correction_measurement_vs_prediction.png',dpi=600,bbox_inches='tight')\n",
    "plt.show()"
   ]
  },
  {
   "cell_type": "code",
   "execution_count": 51,
   "metadata": {
    "ExecuteTime": {
     "end_time": "2019-02-22T10:19:39.564654Z",
     "start_time": "2019-02-22T10:19:38.154513Z"
    }
   },
   "outputs": [
    {
     "data": {
      "image/png": "[encoded data removed]",
      "text/plain": [
       "<Figure size 432x288 with 1 Axes>"
      ]
     },
     "metadata": {},
     "output_type": "display_data"
    }
   ],
   "source": [
    "data_corr = np.loadtxt('RefCurve_2018-07-05_1_130234.Wfm.csv', delimiter=';')\n",
    "#plt.plot(data[:,0]*1e9, data[:,1], label='No correction')\n",
    "plt.plot(data[:,0]*1e9, data_corr[:,1], label='Measured real-time bounce correction')\n",
    "plt.plot(data[:,0]*1e9, pred_corr, label='Predicted real-time bounce correction')\n",
    "plt.xlabel('Time, t (ns)')\n",
    "plt.ylabel('Voltage (V)')\n",
    "plt.xlim([100, 125])\n",
    "plt.ylim([0.27, 0.35])\n",
    "plt.tight_layout()\n",
    "plt.legend()\n",
    "plt.savefig('bounce_correction_measurement_vs_prediction_zoom.png',dpi=600,bbox_inches='tight')\n",
    "plt.show()"
   ]
  },
  {
   "cell_type": "code",
   "execution_count": null,
   "metadata": {},
   "outputs": [],
   "source": []
  }
 ],
 "metadata": {
  "kernelspec": {
   "display_name": "Python 3",
   "language": "python",
   "name": "python3"
  },
  "language_info": {
   "codemirror_mode": {
    "name": "ipython",
    "version": 3
   },
   "file_extension": ".py",
   "mimetype": "text/x-python",
   "name": "python",
   "nbconvert_exporter": "python",
   "pygments_lexer": "ipython3",
   "version": "3.6.5"
  },
  "toc": {
   "base_numbering": 1,
   "nav_menu": {},
   "number_sections": true,
   "sideBar": true,
   "skip_h1_title": false,
   "title_cell": "Table of Contents",
   "title_sidebar": "Contents",
   "toc_cell": true,
   "toc_position": {},
   "toc_section_display": true,
   "toc_window_display": true
  }
 },
 "nbformat": 4,
 "nbformat_minor": 2
}
